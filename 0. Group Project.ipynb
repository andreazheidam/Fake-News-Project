{
 "cells": [
  {
   "cell_type": "markdown",
   "metadata": {
    "collapsed": false
   },
   "source": [
    "# Group Fake News Project"
   ]
  },
  {
   "cell_type": "markdown",
   "metadata": {},
   "source": [
    "## Part 1: Data Processing\n"
   ]
  },
  {
   "cell_type": "markdown",
   "metadata": {},
   "source": [
    "### Task 1.1"
   ]
  },
  {
   "cell_type": "code",
   "execution_count": 103,
   "metadata": {
    "collapsed": false
   },
   "outputs": [],
   "source": [
    "import pandas as pd\n",
    "\n",
    "# 1. Read the CSV file\n",
    "data = pd.read_csv('news_sample.csv')"
   ]
  },
  {
   "cell_type": "code",
   "execution_count": 104,
   "metadata": {
    "collapsed": false
   },
   "outputs": [],
   "source": [
    "import re\n",
    "from cleantext import clean\n",
    "\n",
    "def preprocess_text(text):\n",
    "    cleaned_text = clean(text,\n",
    "                         fix_unicode=True,\n",
    "                         to_ascii=True,\n",
    "                         lower=True,\n",
    "                         no_line_breaks=True,\n",
    "                         no_urls=True,\n",
    "                         no_emails=True,\n",
    "                         no_phone_numbers=True,\n",
    "                         no_numbers=True,\n",
    "                         no_digits=True,\n",
    "                         no_currency_symbols=True,\n",
    "                         no_punct=False,  \n",
    "                         replace_with_url=\"<URL>\",\n",
    "                         replace_with_email=\"<EMAIL>\",\n",
    "                         replace_with_phone_number=\"<PHONE>\",\n",
    "                         replace_with_number=\"<NUM>\",\n",
    "                         replace_with_digit=\"<NUM>\",\n",
    "                         replace_with_currency_symbol=\"<CUR>\",\n",
    "                         lang=\"en\")\n",
    "    return cleaned_text"
   ]
  },
  {
   "cell_type": "code",
   "execution_count": 105,
   "metadata": {},
   "outputs": [],
   "source": [
    "import pandas as pd\n",
    "import re\n",
    "\n",
    "# Tokenize text into words\n",
    "def tokenize(text):\n",
    "    words = re.findall(r'\\b\\w+\\b', text)\n",
    "    return words\n",
    "\n",
    "# Preprocessing to the text column\n",
    "data['cleaned_text'] = data['content'].apply(preprocess_text)\n",
    "\n",
    "# Cleaned text into one string\n",
    "cleaned_text = ' '.join(data['cleaned_text'])\n"
   ]
  },
  {
   "cell_type": "code",
   "execution_count": 106,
   "metadata": {
    "collapsed": false
   },
   "outputs": [
    {
     "name": "stdout",
     "output_type": "stream",
     "text": [
      "Size of vocabulary before removing stopwords: 16475\n",
      "Size of vocabulary after removing stopwords: 16343\n",
      "Reduction rate of vocabulary size after removing stopwords: 0.80%\n",
      "\n",
      "Size of vocabulary before stemming: 16343\n",
      "Size of vocabulary after stemming: 11168\n",
      "Reduction rate of vocabulary size after stemming: 31.66%\n"
     ]
    }
   ],
   "source": [
    "import nltk\n",
    "from nltk.tokenize import word_tokenize\n",
    "from nltk.corpus import stopwords\n",
    "from nltk.stem import PorterStemmer\n",
    "from nltk.probability import FreqDist\n",
    "\n",
    "# Tokenize the text\n",
    "tokens = word_tokenize(cleaned_text)\n",
    "\n",
    "# Remove stopwords\n",
    "stop_words = set(stopwords.words('english'))\n",
    "filtered_tokens = [word for word in tokens if word.lower() not in stop_words]\n",
    "\n",
    "# Compute vocabulary size before removing stopwords\n",
    "vocab_before = set(tokens)\n",
    "vocab_size_before = len(vocab_before)\n",
    "\n",
    "# Compute vocabulary size after removing stopwords\n",
    "vocab_after = set(filtered_tokens)\n",
    "vocab_size_after = len(vocab_after)\n",
    "\n",
    "# Compute reduction rate of vocabulary size after removing stopwords\n",
    "reduction_rate_stopwords = (vocab_size_before - vocab_size_after) / vocab_size_before\n",
    "\n",
    "# Stemming\n",
    "porter = PorterStemmer()\n",
    "stemmed_tokens = [porter.stem(word) for word in filtered_tokens]\n",
    "\n",
    "# Compute vocabulary size before stemming\n",
    "vocab_size_before_stemming = len(vocab_after)\n",
    "\n",
    "# Compute vocabulary size after stemming\n",
    "vocab_after_stemming = set(stemmed_tokens)\n",
    "vocab_size_after_stemming = len(vocab_after_stemming)\n",
    "\n",
    "# Compute reduction rate of vocabulary size after stemming\n",
    "reduction_rate_stemming = (vocab_size_before_stemming - vocab_size_after_stemming) / vocab_size_before_stemming\n",
    "\n",
    "# Display results\n",
    "print(\"Size of vocabulary before removing stopwords:\", vocab_size_before)\n",
    "print(\"Size of vocabulary after removing stopwords:\", vocab_size_after)\n",
    "print(\"Reduction rate of vocabulary size after removing stopwords: {:.2f}%\".format(reduction_rate_stopwords * 100))\n",
    "\n",
    "print(\"\\nSize of vocabulary before stemming:\", vocab_size_before_stemming)\n",
    "print(\"Size of vocabulary after stemming:\", vocab_size_after_stemming)\n",
    "print(\"Reduction rate of vocabulary size after stemming: {:.2f}%\".format(reduction_rate_stemming * 100))"
   ]
  }
 ],
 "metadata": {
  "kernelspec": {
   "argv": [
    "/usr/bin/python3",
    "-m",
    "ipykernel",
    "--HistoryManager.enabled=False",
    "--matplotlib=inline",
    "-c",
    "%config InlineBackend.figure_formats = set(['retina'])\nimport matplotlib; matplotlib.rcParams['figure.figsize'] = (12, 7)",
    "-f",
    "{connection_file}"
   ],
   "display_name": "Python 3 (system-wide)",
   "env": {},
   "language": "python",
   "metadata": {
    "cocalc": {
     "description": "Python 3 programming language",
     "priority": 100,
     "url": "https://www.python.org/"
    }
   },
   "name": "python3",
   "resource_dir": "/ext/jupyter/kernels/python3"
  },
  "language_info": {
   "codemirror_mode": {
    "name": "ipython",
    "version": 3
   },
   "file_extension": ".py",
   "mimetype": "text/x-python",
   "name": "python",
   "nbconvert_exporter": "python",
   "pygments_lexer": "ipython3",
   "version": "3.11.5"
  }
 },
 "nbformat": 4,
 "nbformat_minor": 4
}

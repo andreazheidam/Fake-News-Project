{
 "cells": [
  {
   "cell_type": "code",
   "execution_count": 2,
   "metadata": {},
   "outputs": [
    {
     "name": "stdout",
     "output_type": "stream",
     "text": [
      "Temporal Distribution of Scraping within the Same Week:\n",
      "   scraped_at  article_count\n",
      "0  2018-01-25            250\n",
      "\n",
      "Temporal Distribution of Scraping within the Same Month:\n",
      "  scraped_at  article_count\n",
      "0    2018-01            250\n"
     ]
    }
   ],
   "source": [
    "import pandas as pd\n",
    "\n",
    "# Load the dataset\n",
    "df = pd.read_csv('news_sample.csv')\n",
    "\n",
    "# Convert 'scraped_at' column to datetime\n",
    "df['scraped_at'] = pd.to_datetime(df['scraped_at'])\n",
    "\n",
    "# Extract date and time components\n",
    "df['scraped_date'] = df['scraped_at'].dt.date\n",
    "df['scraped_time'] = df['scraped_at'].dt.time\n",
    "\n",
    "# Group by week and month, and count the number of articles\n",
    "scraping_distribution_week = df.groupby(df['scraped_at'].dt.to_period('W')).size().reset_index(name='article_count')\n",
    "scraping_distribution_month = df.groupby(df['scraped_at'].dt.to_period('M')).size().reset_index(name='article_count')\n",
    "\n",
    "# Print the temporal distribution within the same week\n",
    "print(\"Temporal Distribution of Scraping within the Same Week:\")\n",
    "print(scraping_distribution_week)\n",
    "\n",
    "# Print the temporal distribution within the same month\n",
    "print(\"\\nTemporal Distribution of Scraping within the Same Month:\")\n",
    "print(scraping_distribution_month)\n"
   ]
  }
 ],
 "metadata": {
  "kernelspec": {
   "display_name": "base",
   "language": "python",
   "name": "python3"
  },
  "language_info": {
   "codemirror_mode": {
    "name": "ipython",
    "version": 3
   },
   "file_extension": ".py",
   "mimetype": "text/x-python",
   "name": "python",
   "nbconvert_exporter": "python",
   "pygments_lexer": "ipython3",
   "version": "3.11.5"
  }
 },
 "nbformat": 4,
 "nbformat_minor": 2
}

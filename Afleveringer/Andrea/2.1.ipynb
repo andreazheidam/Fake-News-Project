{
 "cells": [
  {
   "cell_type": "markdown",
   "metadata": {
    "collapsed": false
   },
   "source": [
    "# Graded Exercise 2\n",
    "\n"
   ]
  },
  {
   "cell_type": "markdown",
   "metadata": {
    "collapsed": false
   },
   "source": [
    "## Part 1: Analyze the Fake News Dataset\n",
    "\n"
   ]
  },
  {
   "cell_type": "markdown",
   "metadata": {
    "collapsed": false
   },
   "source": [
    "### 1.1. Import Dataset\n",
    "\n"
   ]
  },
  {
   "cell_type": "code",
   "execution_count": 10,
   "metadata": {
    "collapsed": false
   },
   "outputs": [
    {
     "name": "stderr",
     "output_type": "stream",
     "text": [
      "/var/folders/p_/9bns98pj4h5c2dt98k6srvnw0000gn/T/ipykernel_48233/3952890351.py:3: DtypeWarning: Columns (0,1) have mixed types. Specify dtype option on import or set low_memory=False.\n",
      "  data = pd.read_csv('995K_subset.csv')\n"
     ]
    }
   ],
   "source": [
    "import pandas as pd\n",
    "\n",
    "data = pd.read_csv('995K_subset.csv')"
   ]
  },
  {
   "cell_type": "markdown",
   "metadata": {
    "collapsed": false
   },
   "source": [
    "### 1.2. Dataset Analysis\n",
    "\n"
   ]
  },
  {
   "cell_type": "markdown",
   "metadata": {},
   "source": [
    "#### 1.2.A. Determine which article types should be omitted"
   ]
  },
  {
   "cell_type": "code",
   "execution_count": 11,
   "metadata": {},
   "outputs": [
    {
     "name": "stdout",
     "output_type": "stream",
     "text": [
      "Article type counts:\n",
      "type\n",
      "reliable                      218564\n",
      "political                     194518\n",
      "bias                          133232\n",
      "fake                          104883\n",
      "conspiracy                     97314\n",
      "rumor                          56445\n",
      "unknown                        43534\n",
      "unreliable                     35332\n",
      "clickbait                      27412\n",
      "junksci                        14040\n",
      "satire                         13160\n",
      "hate                            8779\n",
      "2018-02-10 13:43:39.521661         1\n",
      "Name: count, dtype: int64\n"
     ]
    }
   ],
   "source": [
    "article_type_counts = data['type'].value_counts()\n",
    "\n",
    "print(\"Article type counts:\")\n",
    "print(article_type_counts)"
   ]
  },
  {
   "cell_type": "markdown",
   "metadata": {},
   "source": [
    "* In order to determine which article types should be omitted, we print the article type count. If any of the types are rare of irrelevant to the goal of the analysis, we can choose to omit them.\n",
    "* Each variable in the dataset may provide valuable information or context about the articles being analyzed. Omitting variables could lead to loss of information and potentially bias the analysis.\n",
    "* Each variable represent a category of articles. By including all variables, I ensure that the analysis captures the full spectrum of article types and characteristics present in the dataset.\n",
    "* Even if a variable seems less relevant at the moment, it might become important in future analyses.\n",
    "* I have decided not to omit any variables."
   ]
  },
  {
   "cell_type": "markdown",
   "metadata": {},
   "source": [
    "#### 1.2.B. Group the types into 'fake' and 'reliable'"
   ]
  },
  {
   "cell_type": "code",
   "execution_count": 12,
   "metadata": {},
   "outputs": [],
   "source": [
    "fake_types = ['fake', 'conspiracy', 'humor', 'unreliable', 'clickbait', 'junksci', 'satire']\n",
    "reliable_types = ['reliable', 'political', 'bias', 'hate']"
   ]
  },
  {
   "cell_type": "markdown",
   "metadata": {},
   "source": [
    "FAKE:\n",
    "* 'Fake': Articles with this type include false information, which often lack credible sources, evidence, or verification for their statements.\n",
    "* 'Conspiracy': Often propose theories suggesting events or phenomena that are results of secret plots by influencial people. Many are based on speculation and conjecture.\n",
    "* 'Rumor': Information that is not verified and might also contain claims that are not true.\n",
    "'Unreliable': Source with history of publishing inaccurate, misleading content.\n",
    "* 'Clickbait': Articles with big headlines or misleading thumbnails to attract clicks and make websites popular.\n",
    "* 'Junksci': Pseudoscientific claims, incorrect research findings that does not have scietific evidence.\n",
    "* 'Satire': Humor, irony, exaggeration in order to critique real-world evens. Can contain fictional narratives or unreal scenarios.\n",
    "\n",
    "RELIABLE:\n",
    "* 'Reliable': Origin from reputable sources, jounalistic standards, ethical guidelines, fact-checking protocols.\n",
    "* 'Political': Established news organizations that cover political developments, policies, events thorough research and analysis.\n",
    "* 'Bias': Viewspoints or opinions that may reflect a particular ideological stance.\n",
    "* 'Hate': Typically not tolerated in reputable sources, but articles addressing hate-related topics from a factual and ethical standpoint may still be categorized as 'reliable'."
   ]
  },
  {
   "cell_type": "markdown",
   "metadata": {},
   "source": [
    "#### 1.2.C. Distribution of 'reliable' vs. 'fake' articles"
   ]
  },
  {
   "cell_type": "code",
   "execution_count": 13,
   "metadata": {},
   "outputs": [
    {
     "name": "stdout",
     "output_type": "stream",
     "text": [
      "Reliable Count: 555093\n",
      "Fake Count: 292141\n"
     ]
    }
   ],
   "source": [
    "def calculate_reliable_count(article_counts_df, reliable_types):\n",
    "    reliable_count = article_counts_df.loc[article_counts_df.index.isin(reliable_types)].sum()\n",
    "    return reliable_count\n",
    "\n",
    "def calculate_fake_count(article_counts_df, fake_types):\n",
    "    fake_count = article_counts_df.loc[article_counts_df.index.isin(fake_types)].sum()\n",
    "    return fake_count\n",
    "\n",
    "reliable_count = calculate_reliable_count(article_type_counts, reliable_types)\n",
    "fake_count = calculate_fake_count(article_type_counts, fake_types)\n",
    "\n",
    "print(\"Reliable Count:\", reliable_count)\n",
    "print(\"Fake Count:\", fake_count)"
   ]
  },
  {
   "cell_type": "code",
   "execution_count": 14,
   "metadata": {},
   "outputs": [
    {
     "name": "stdout",
     "output_type": "stream",
     "text": [
      "Percentage of 'reliable' articles: 65.51826295922967\n",
      "Percentage of 'fake' articles: 34.48173704077032\n"
     ]
    }
   ],
   "source": [
    "def calculate_distribution(reliable_count, fake_count):\n",
    "    total_articles = reliable_count + fake_count\n",
    "    reliable_percentage = (reliable_count / total_articles) * 100\n",
    "    fake_percentage = (fake_count / total_articles) * 100\n",
    "    return reliable_percentage, fake_percentage\n",
    "\n",
    "reliable_percentage, fake_percentage = calculate_distribution(reliable_count, fake_count)\n",
    "print(\"Percentage of 'reliable' articles:\", reliable_percentage)\n",
    "print(\"Percentage of 'fake' articles:\", fake_percentage)"
   ]
  },
  {
   "cell_type": "markdown",
   "metadata": {},
   "source": [
    "* We can see that the dataset is imbalanced, with a higher proportion of 'reliable' articles compared to 'fake' articles.\n",
    "* While balanced datasets are generally desirable for training models and performing analysis, the importance of balance depends on the specific context and goals of the analysis.\n",
    "* It is essential to carefully consider the implications of dataset imbalance and take appropriate steps to address it, which could be using techniques like oversampling, undersampling, or employing algorithms designed to handle imbalanced data."
   ]
  }
 ],
 "metadata": {
  "kernelspec": {
   "argv": [
    "/usr/bin/python3",
    "-m",
    "ipykernel",
    "--HistoryManager.enabled=False",
    "--matplotlib=inline",
    "-c",
    "%config InlineBackend.figure_formats = set(['retina'])\nimport matplotlib; matplotlib.rcParams['figure.figsize'] = (12, 7)",
    "-f",
    "{connection_file}"
   ],
   "display_name": "Python 3 (system-wide)",
   "env": {},
   "language": "python",
   "metadata": {
    "cocalc": {
     "description": "Python 3 programming language",
     "priority": 100,
     "url": "https://www.python.org/"
    }
   },
   "name": "python3",
   "resource_dir": "/ext/jupyter/kernels/python3"
  },
  "language_info": {
   "codemirror_mode": {
    "name": "ipython",
    "version": 3
   },
   "file_extension": ".py",
   "mimetype": "text/x-python",
   "name": "python",
   "nbconvert_exporter": "python",
   "pygments_lexer": "ipython3",
   "version": "3.11.5"
  }
 },
 "nbformat": 4,
 "nbformat_minor": 4
}

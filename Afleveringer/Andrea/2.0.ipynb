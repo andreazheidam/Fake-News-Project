{
 "cells": [
  {
   "cell_type": "markdown",
   "metadata": {
    "collapsed": false
   },
   "source": [
    "# Graded Exercise 2\n",
    "\n"
   ]
  },
  {
   "cell_type": "markdown",
   "metadata": {
    "collapsed": false
   },
   "source": [
    "## Part 1: Analyze the Fake News Dataset\n",
    "\n"
   ]
  },
  {
   "cell_type": "markdown",
   "metadata": {
    "collapsed": false
   },
   "source": [
    "### 1.1. Import Dataset\n",
    "\n"
   ]
  },
  {
   "cell_type": "code",
   "execution_count": 79,
   "metadata": {
    "collapsed": false
   },
   "outputs": [
    {
     "name": "stderr",
     "output_type": "stream",
     "text": [
      "/var/folders/p_/9bns98pj4h5c2dt98k6srvnw0000gn/T/ipykernel_48516/3952890351.py:3: DtypeWarning: Columns (0,1) have mixed types. Specify dtype option on import or set low_memory=False.\n",
      "  data = pd.read_csv('995K_subset.csv')\n"
     ]
    }
   ],
   "source": [
    "import pandas as pd\n",
    "\n",
    "data = pd.read_csv('995K_subset.csv')"
   ]
  },
  {
   "cell_type": "markdown",
   "metadata": {
    "collapsed": false
   },
   "source": [
    "### 1.2. Dataset Analysis\n",
    "\n"
   ]
  },
  {
   "cell_type": "markdown",
   "metadata": {},
   "source": [
    "#### 1.2.A. Determine which article types should be omitted"
   ]
  },
  {
   "cell_type": "code",
   "execution_count": 80,
   "metadata": {
    "collapsed": false
   },
   "outputs": [
    {
     "name": "stdout",
     "output_type": "stream",
     "text": [
      "Article type counts:\n",
      "type\n",
      "reliable                      218564\n",
      "political                     194518\n",
      "bias                          133232\n",
      "fake                          104883\n",
      "conspiracy                     97314\n",
      "rumor                          56445\n",
      "unknown                        43534\n",
      "unreliable                     35332\n",
      "clickbait                      27412\n",
      "junksci                        14040\n",
      "satire                         13160\n",
      "hate                            8779\n",
      "2018-02-10 13:43:39.521661         1\n",
      "Name: count, dtype: int64\n"
     ]
    }
   ],
   "source": [
    "article_type_counts = data['type'].value_counts()\n",
    "\n",
    "print(\"Article type counts:\")\n",
    "print(article_type_counts)"
   ]
  },
  {
   "cell_type": "markdown",
   "metadata": {},
   "source": [
    "* In order to determine which article types should be omitted, we print the article type count. If any of the types are rare of irrelevant to the goal of the analysis, we can choose to omit them.\n",
    "* Each variable in the dataset may provide valuable information or context about the articles being analyzed. Omitting variables could lead to loss of information and potentially bias the analysis.\n",
    "* Each variable represent a category of articles. By including all variables, I ensure that the analysis captures the full spectrum of article types and characteristics present in the dataset.\n",
    "* Even if a variable seems less relevant at the moment, it might become important in future analyses.\n",
    "* I have decided not to omit any variables."
   ]
  },
  {
   "cell_type": "markdown",
   "metadata": {},
   "source": [
    "#### 1.2.B. Group the types into 'fake' and 'reliable'"
   ]
  },
  {
   "cell_type": "code",
   "execution_count": 81,
   "metadata": {},
   "outputs": [],
   "source": [
    "fake_types = ['fake', 'conspiracy', 'humor', 'unreliable', 'clickbait', 'junksci', 'satire']\n",
    "reliable_types = ['reliable', 'political', 'bias', 'hate']"
   ]
  },
  {
   "cell_type": "markdown",
   "metadata": {},
   "source": [
    "FAKE:\n",
    "* 'Fake': Articles with this type include false information, which often lack credible sources, evidence, or verification for their statements.\n",
    "* 'Conspiracy': Often propose theories suggesting events or phenomena that are results of secret plots by influencial people. Many are based on speculation and conjecture.\n",
    "* 'Rumor': Information that is not verified and might also contain claims that are not true.\n",
    "'Unreliable': Source with history of publishing inaccurate, misleading content.\n",
    "* 'Clickbait': Articles with big headlines or misleading thumbnails to attract clicks and make websites popular.\n",
    "* 'Junksci': Pseudoscientific claims, incorrect research findings that does not have scietific evidence.\n",
    "* 'Satire': Humor, irony, exaggeration in order to critique real-world evens. Can contain fictional narratives or unreal scenarios.\n",
    "\n",
    "RELIABLE:\n",
    "* 'Reliable': Origin from reputable sources, jounalistic standards, ethical guidelines, fact-checking protocols.\n",
    "* 'Political': Established news organizations that cover political developments, policies, events thorough research and analysis.\n",
    "* 'Bias': Viewspoints or opinions that may reflect a particular ideological stance.\n",
    "* 'Hate': Typically not tolerated in reputable sources, but articles addressing hate-related topics from a factual and ethical standpoint may still be categorized as 'reliable'."
   ]
  },
  {
   "cell_type": "markdown",
   "metadata": {},
   "source": [
    "#### 1.2.C. Distribution of 'reliable' vs. 'fake' articles"
   ]
  },
  {
   "cell_type": "code",
   "execution_count": 82,
   "metadata": {},
   "outputs": [
    {
     "name": "stdout",
     "output_type": "stream",
     "text": [
      "Reliable Count: 555093\n",
      "Fake Count: 292141\n"
     ]
    }
   ],
   "source": [
    "# Function definitions\n",
    "def calculate_reliable_count(article_counts_df, reliable_types):\n",
    "    reliable_count = article_counts_df.loc[article_counts_df.index.isin(reliable_types)].sum()\n",
    "    return reliable_count\n",
    "\n",
    "def calculate_fake_count(article_counts_df, fake_types):\n",
    "    fake_count = article_counts_df.loc[article_counts_df.index.isin(fake_types)].sum()\n",
    "    return fake_count\n",
    "\n",
    "# Using the functions with your data\n",
    "reliable_count = calculate_reliable_count(article_type_counts, reliable_types)\n",
    "fake_count = calculate_fake_count(article_type_counts, fake_types)\n",
    "\n",
    "# Printing the results\n",
    "print(\"Reliable Count:\", reliable_count)\n",
    "print(\"Fake Count:\", fake_count)"
   ]
  },
  {
   "cell_type": "code",
   "execution_count": 83,
   "metadata": {},
   "outputs": [
    {
     "name": "stdout",
     "output_type": "stream",
     "text": [
      "Percentage of 'reliable' articles: 65.51826295922967\n",
      "Percentage of 'fake' articles: 34.48173704077032\n"
     ]
    }
   ],
   "source": [
    "def calculate_distribution(reliable_count, fake_count):\n",
    "    total_articles = reliable_count + fake_count\n",
    "    reliable_percentage = (reliable_count / total_articles) * 100\n",
    "    fake_percentage = (fake_count / total_articles) * 100\n",
    "    return reliable_percentage, fake_percentage\n",
    "\n",
    "reliable_percentage, fake_percentage = calculate_distribution(reliable_count, fake_count)\n",
    "print(\"Percentage of 'reliable' articles:\", reliable_percentage)\n",
    "print(\"Percentage of 'fake' articles:\", fake_percentage)"
   ]
  },
  {
   "cell_type": "markdown",
   "metadata": {},
   "source": [
    "* We can see that the dataset is imbalanced, with a higher proportion of 'reliable' articles compared to 'fake' articles.\n",
    "* While balanced datasets are generally desirable for training models and performing analysis, the importance of balance depends on the specific context and goals of the analysis.\n",
    "* It is essential to carefully consider the implications of dataset imbalance and take appropriate steps to address it, which could be using techniques like oversampling, undersampling, or employing algorithms designed to handle imbalanced data."
   ]
  },
  {
   "cell_type": "markdown",
   "metadata": {
    "collapsed": false
   },
   "source": [
    "## Part 2: Gathering Links\n"
   ]
  },
  {
   "cell_type": "markdown",
   "metadata": {},
   "source": [
    "### 2.1. Library Installation"
   ]
  },
  {
   "cell_type": "code",
   "execution_count": 84,
   "metadata": {},
   "outputs": [],
   "source": [
    "import requests\n",
    "from bs4 import BeautifulSoup"
   ]
  },
  {
   "cell_type": "markdown",
   "metadata": {},
   "source": [
    "### 2.2. Retrieve HTML Content"
   ]
  },
  {
   "cell_type": "code",
   "execution_count": 85,
   "metadata": {},
   "outputs": [],
   "source": [
    "response = requests.get('https://www.bbc.com/news/world/europe')\n",
    "contents = response.text\n",
    "soup = BeautifulSoup(contents, 'html.parser')"
   ]
  },
  {
   "cell_type": "markdown",
   "metadata": {},
   "source": [
    "### 2.3. Extract Articles"
   ]
  },
  {
   "cell_type": "code",
   "execution_count": 86,
   "metadata": {},
   "outputs": [
    {
     "name": "stdout",
     "output_type": "stream",
     "text": [
      "38\n",
      "38\n"
     ]
    },
    {
     "data": {
      "text/plain": [
       "([<div class=\"ssrcss-18mhvre-Promo e1vyq2e80\" data-testid=\"promo\" type=\"article\"><div class=\"ssrcss-cmbgq-PromoSwitchLayoutAtBreakpoints et5qctl0\"><div class=\"ssrcss-tq7xfh-PromoContent exn3ah99\"><div class=\"ssrcss-1f3bvyz-Stack e1y4nx260\" spacing=\"2\"><a class=\"ssrcss-afqep1-PromoLink exn3ah91\" href=\"/news/world-europe-68509301\"><span role=\"text\"><p class=\"ssrcss-15dlehh-PromoHeadline exn3ah96\"><span aria-hidden=\"false\">Swedes cheer end of long wait to join Nato</span></p></span></a><p class=\"ssrcss-1q0x1qg-Paragraph e1jhz7w10\">Many in the Nordic country say they feel safer despite growing tensions between the military alliance and Russia.</p><div class=\"ssrcss-17ojimx-AdditionalLinksWrapper exn3ah90\"><ul class=\"ssrcss-q23uto-Stack e1y4nx260\" role=\"list\" spacing=\"0\"><li class=\"ssrcss-1k4gdup-StyledAdditionalLink efy7ugc1\" type=\"article\"><a class=\"ssrcss-1eakgrr-StyledLink efy7ugc2\" href=\"/news/world-europe-18023383\"><div class=\"ssrcss-1k5s4ar-IconContainer efy7ugc3\"><svg aria-hidden=\"true\" class=\"ssrcss-1rza9p-StyledBulletIcon efy7ugc0\" focusable=\"false\" height=\"1em\" viewbox=\"0 0 32 32\" width=\"1em\"><path d=\"M12 12h 8v 8h-8Z\"></path></svg></div>What is Nato and why is Sweden joining now?</a></li><li class=\"ssrcss-1k4gdup-StyledAdditionalLink efy7ugc1\" type=\"article\"><a class=\"ssrcss-1eakgrr-StyledLink efy7ugc2\" href=\"/news/world-europe-67935464\"><div class=\"ssrcss-1k5s4ar-IconContainer efy7ugc3\"><svg aria-hidden=\"true\" class=\"ssrcss-1rza9p-StyledBulletIcon efy7ugc0\" focusable=\"false\" height=\"1em\" viewbox=\"0 0 32 32\" width=\"1em\"><path d=\"M12 12h 8v 8h-8Z\"></path></svg></div>Swedish alarm after defence chiefs' war warning</a></li><li class=\"ssrcss-1k4gdup-StyledAdditionalLink efy7ugc1\" type=\"article\"><a class=\"ssrcss-1eakgrr-StyledLink efy7ugc2\" href=\"/news/world-europe-61397478\"><div class=\"ssrcss-1k5s4ar-IconContainer efy7ugc3\"><svg aria-hidden=\"true\" class=\"ssrcss-1rza9p-StyledBulletIcon efy7ugc0\" focusable=\"false\" height=\"1em\" viewbox=\"0 0 32 32\" width=\"1em\"><path d=\"M12 12h 8v 8h-8Z\"></path></svg></div>How Sweden and Finland went from neutral to Nato</a></li></ul></div></div><div class=\"ssrcss-wdw1q-Stack e1y4nx260\" spacing=\"4\"><div><ul class=\"ssrcss-17wa8hx-MetadataStripContainer eh44mf03\" role=\"list\"><li class=\"ssrcss-30fcoe-MetadataStripItem eh44mf01\" role=\"listitem\"><div class=\"visually-hidden ssrcss-1f39n02-VisuallyHidden e16en2lz0\">Attribution</div><div class=\"ssrcss-m5j4pi-MetadataContent eh44mf00\"><span class=\"ssrcss-1pvwv4b-MetadataSnippet e4wm5bw3\"><a class=\"ssrcss-1v4aea2-MetadataLink e4wm5bw2\" href=\"/news/world/europe\"><span class=\"ssrcss-1if1g9v-MetadataText e4wm5bw1\">Europe</span></a></span></div></li><div class=\"ssrcss-13nu8ri-GroupChildrenForWrapping eh44mf02\"><li class=\"ssrcss-30fcoe-MetadataStripItem eh44mf01\" role=\"listitem\"><div class=\"visually-hidden ssrcss-1f39n02-VisuallyHidden e16en2lz0\">Posted</div><div class=\"ssrcss-m5j4pi-MetadataContent eh44mf00\"><span class=\"ssrcss-1pvwv4b-MetadataSnippet e4wm5bw3\"><span class=\"ssrcss-1if1g9v-MetadataText e4wm5bw1\"><span class=\"visually-hidden ssrcss-1f39n02-VisuallyHidden e16en2lz0\">15 minutes ago</span><span aria-hidden=\"true\">15min</span></span></span></div></li></div></ul></div></div></div><div class=\"ssrcss-z60stg-PromoImageContainer en81kx34\"><div class=\"ssrcss-17h6w1t-PromoImageContainerInner en81kx32\"><div class=\"ssrcss-fec6qv-ImageWrapper en81kx33\"><span class=\"ssrcss-11kpz0x-Placeholder etlorgc0\"><picture><source sizes=\"(max-width: 399px) 480px, 800px\" srcset=\"https://ichef.bbci.co.uk/ace/standard/480/cpsprodpb/F100/production/_132869616_sweden_nato_bbc.jpg.webp 480w, https://ichef.bbci.co.uk/ace/standard/800/cpsprodpb/F100/production/_132869616_sweden_nato_bbc.jpg.webp 800w\" type=\"image/webp\"/><img alt=\"Wilma Tylling\" class=\"ssrcss-evoj7m-Image edrdn950\" height=\"135\" loading=\"eager\" sizes=\"(max-width: 399px) 480px, 800px\" src=\"https://ichef.bbci.co.uk/ace/standard/480/cpsprodpb/F100/production/_132869616_sweden_nato_bbc.jpg\" srcset=\"https://ichef.bbci.co.uk/ace/standard/480/cpsprodpb/F100/production/_132869616_sweden_nato_bbc.jpg 480w, https://ichef.bbci.co.uk/ace/standard/800/cpsprodpb/F100/production/_132869616_sweden_nato_bbc.jpg 800w\" width=\"240\"/></picture></span></div></div></div></div></div>,\n",
       "  <div class=\"ssrcss-18mhvre-Promo e1vyq2e80\" data-testid=\"promo\" type=\"article\"><div class=\"ssrcss-cmbgq-PromoSwitchLayoutAtBreakpoints et5qctl0\"><div class=\"ssrcss-tq7xfh-PromoContent exn3ah99\"><div class=\"ssrcss-1f3bvyz-Stack e1y4nx260\" spacing=\"2\"><a class=\"ssrcss-1mrs5ns-PromoLink exn3ah91\" href=\"/news/world-europe-68505522\"><span role=\"text\"><p class=\"ssrcss-15dlehh-PromoHeadline exn3ah96\"><span aria-hidden=\"false\">Far-right ex-football pundit shakes up Portuguese vote</span></p></span></a></div><div class=\"ssrcss-wdw1q-Stack e1y4nx260\" spacing=\"4\"><div><ul class=\"ssrcss-17wa8hx-MetadataStripContainer eh44mf03\" role=\"list\"><li class=\"ssrcss-30fcoe-MetadataStripItem eh44mf01\" role=\"listitem\"><div class=\"visually-hidden ssrcss-1f39n02-VisuallyHidden e16en2lz0\">Attribution</div><div class=\"ssrcss-m5j4pi-MetadataContent eh44mf00\"><span class=\"ssrcss-1pvwv4b-MetadataSnippet e4wm5bw3\"><a class=\"ssrcss-1v4aea2-MetadataLink e4wm5bw2\" href=\"/news/world/europe\"><span class=\"ssrcss-1if1g9v-MetadataText e4wm5bw1\">Europe</span></a></span></div></li><div class=\"ssrcss-13nu8ri-GroupChildrenForWrapping eh44mf02\"><li class=\"ssrcss-30fcoe-MetadataStripItem eh44mf01\" role=\"listitem\"><div class=\"visually-hidden ssrcss-1f39n02-VisuallyHidden e16en2lz0\">Posted</div><div class=\"ssrcss-m5j4pi-MetadataContent eh44mf00\"><span class=\"ssrcss-1pvwv4b-MetadataSnippet e4wm5bw3\"><span class=\"ssrcss-1if1g9v-MetadataText e4wm5bw1\"><span class=\"visually-hidden ssrcss-1f39n02-VisuallyHidden e16en2lz0\">13 hours ago</span><span aria-hidden=\"true\">13h</span></span></span></div></li></div></ul></div></div></div><div class=\"ssrcss-z60stg-PromoImageContainer en81kx34\"><div class=\"ssrcss-17h6w1t-PromoImageContainerInner en81kx32\"><div class=\"ssrcss-fec6qv-ImageWrapper en81kx33\"><span class=\"ssrcss-11kpz0x-Placeholder etlorgc0\"><picture><source sizes=\"(max-width: 399px) 240px, 480px\" srcset=\"https://ichef.bbci.co.uk/ace/standard/240/cpsprodpb/177B0/production/_132867169_gettyimages-1925660665.jpg.webp 240w, https://ichef.bbci.co.uk/ace/standard/480/cpsprodpb/177B0/production/_132867169_gettyimages-1925660665.jpg.webp 480w\" type=\"image/webp\"/><img alt=\"AndrÃ© Ventura (centre) in a crowd of supporters\" class=\"ssrcss-evoj7m-Image edrdn950\" height=\"135\" loading=\"eager\" sizes=\"(max-width: 399px) 240px, 480px\" src=\"https://ichef.bbci.co.uk/ace/standard/480/cpsprodpb/177B0/production/_132867169_gettyimages-1925660665.jpg\" srcset=\"https://ichef.bbci.co.uk/ace/standard/240/cpsprodpb/177B0/production/_132867169_gettyimages-1925660665.jpg 240w, https://ichef.bbci.co.uk/ace/standard/480/cpsprodpb/177B0/production/_132867169_gettyimages-1925660665.jpg 480w\" width=\"240\"/></picture></span></div></div></div></div></div>,\n",
       "  <div class=\"ssrcss-18mhvre-Promo e1vyq2e80\" data-testid=\"promo\" type=\"article\"><div class=\"ssrcss-cmbgq-PromoSwitchLayoutAtBreakpoints et5qctl0\"><div class=\"ssrcss-tq7xfh-PromoContent exn3ah99\"><div class=\"ssrcss-1f3bvyz-Stack e1y4nx260\" spacing=\"2\"><a class=\"ssrcss-1mrs5ns-PromoLink exn3ah91\" href=\"/news/world-europe-68479836\"><span role=\"text\"><p class=\"ssrcss-15dlehh-PromoHeadline exn3ah96\"><span aria-hidden=\"false\">Singapore sting: How spies listened in on German general</span></p></span></a></div><div class=\"ssrcss-wdw1q-Stack e1y4nx260\" spacing=\"4\"><div><ul class=\"ssrcss-17wa8hx-MetadataStripContainer eh44mf03\" role=\"list\"><li class=\"ssrcss-30fcoe-MetadataStripItem eh44mf01\" role=\"listitem\"><div class=\"visually-hidden ssrcss-1f39n02-VisuallyHidden e16en2lz0\">Attribution</div><div class=\"ssrcss-m5j4pi-MetadataContent eh44mf00\"><span class=\"ssrcss-1pvwv4b-MetadataSnippet e4wm5bw3\"><a class=\"ssrcss-1v4aea2-MetadataLink e4wm5bw2\" href=\"/news/world/europe\"><span class=\"ssrcss-1if1g9v-MetadataText e4wm5bw1\">Europe</span></a></span></div></li><div class=\"ssrcss-13nu8ri-GroupChildrenForWrapping eh44mf02\"><li class=\"ssrcss-30fcoe-MetadataStripItem eh44mf01\" role=\"listitem\"><div class=\"visually-hidden ssrcss-1f39n02-VisuallyHidden e16en2lz0\">Posted</div><div class=\"ssrcss-m5j4pi-MetadataContent eh44mf00\"><span class=\"ssrcss-1pvwv4b-MetadataSnippet e4wm5bw3\"><span class=\"ssrcss-1if1g9v-MetadataText e4wm5bw1\"><span class=\"visually-hidden ssrcss-1f39n02-VisuallyHidden e16en2lz0\">12 hours ago</span><span aria-hidden=\"true\">12h</span></span></span></div></li></div></ul></div></div></div><div class=\"ssrcss-z60stg-PromoImageContainer en81kx34\"><div class=\"ssrcss-17h6w1t-PromoImageContainerInner en81kx32\"><div class=\"ssrcss-fec6qv-ImageWrapper en81kx33\"><span class=\"ssrcss-11kpz0x-Placeholder etlorgc0\"><picture><source sizes=\"(max-width: 399px) 240px, 480px\" srcset=\"https://ichef.bbci.co.uk/ace/standard/240/cpsprodpb/10280/production/_132867166_2mdba07-i.jpg.webp 240w, https://ichef.bbci.co.uk/ace/standard/480/cpsprodpb/10280/production/_132867166_2mdba07-i.jpg.webp 480w\" type=\"image/webp\"/><img alt=\"Brigadier General Frank GrÃ¤fe\" class=\"ssrcss-evoj7m-Image edrdn950\" height=\"135\" loading=\"eager\" sizes=\"(max-width: 399px) 240px, 480px\" src=\"https://ichef.bbci.co.uk/ace/standard/480/cpsprodpb/10280/production/_132867166_2mdba07-i.jpg\" srcset=\"https://ichef.bbci.co.uk/ace/standard/240/cpsprodpb/10280/production/_132867166_2mdba07-i.jpg 240w, https://ichef.bbci.co.uk/ace/standard/480/cpsprodpb/10280/production/_132867166_2mdba07-i.jpg 480w\" width=\"240\"/></picture></span></div></div></div></div></div>,\n",
       "  <div class=\"ssrcss-18mhvre-Promo e1vyq2e80\" data-testid=\"promo\" type=\"article\"><div class=\"ssrcss-wk8yie-PromoSwitchLayoutAtBreakpoints et5qctl0\"><div class=\"ssrcss-tq7xfh-PromoContent exn3ah99\"><div class=\"ssrcss-1f3bvyz-Stack e1y4nx260\" spacing=\"2\"><a class=\"ssrcss-1mrs5ns-PromoLink exn3ah91\" href=\"/news/world-europe-68484650\"><span role=\"text\"><p class=\"ssrcss-15dlehh-PromoHeadline exn3ah96\"><span aria-hidden=\"false\">Polls open on Ireland's family and care referendum</span></p></span></a></div><div class=\"ssrcss-wdw1q-Stack e1y4nx260\" spacing=\"4\"><div><ul class=\"ssrcss-17wa8hx-MetadataStripContainer eh44mf03\" role=\"list\"><li class=\"ssrcss-30fcoe-MetadataStripItem eh44mf01\" role=\"listitem\"><div class=\"visually-hidden ssrcss-1f39n02-VisuallyHidden e16en2lz0\">Attribution</div><div class=\"ssrcss-m5j4pi-MetadataContent eh44mf00\"><span class=\"ssrcss-1pvwv4b-MetadataSnippet e4wm5bw3\"><a class=\"ssrcss-1v4aea2-MetadataLink e4wm5bw2\" href=\"/news/world/europe\"><span class=\"ssrcss-1if1g9v-MetadataText e4wm5bw1\">Europe</span></a></span></div></li><div class=\"ssrcss-13nu8ri-GroupChildrenForWrapping eh44mf02\"><li class=\"ssrcss-30fcoe-MetadataStripItem eh44mf01\" role=\"listitem\"><div class=\"visually-hidden ssrcss-1f39n02-VisuallyHidden e16en2lz0\">Posted</div><div class=\"ssrcss-m5j4pi-MetadataContent eh44mf00\"><span class=\"ssrcss-1pvwv4b-MetadataSnippet e4wm5bw3\"><span class=\"ssrcss-1if1g9v-MetadataText e4wm5bw1\"><span class=\"visually-hidden ssrcss-1f39n02-VisuallyHidden e16en2lz0\">5 hours ago</span><span aria-hidden=\"true\">5h</span></span></span></div></li></div></ul></div></div></div><div class=\"ssrcss-z60stg-PromoImageContainer en81kx34\"><div class=\"ssrcss-17h6w1t-PromoImageContainerInner en81kx32\"><div class=\"ssrcss-fec6qv-ImageWrapper en81kx33\"><span class=\"ssrcss-11kpz0x-Placeholder etlorgc0\"><picture><source sizes=\"(max-width: 399px) 240px, 480px\" srcset=\"https://ichef.bbci.co.uk/ace/standard/240/cpsprodpb/15333/production/_132853868_gettyimages-1043661664.jpg.webp 240w, https://ichef.bbci.co.uk/ace/standard/480/cpsprodpb/15333/production/_132853868_gettyimages-1043661664.jpg.webp 480w\" type=\"image/webp\"/><img alt=\"Yes or No\" class=\"ssrcss-evoj7m-Image edrdn950\" height=\"135\" loading=\"eager\" sizes=\"(max-width: 399px) 240px, 480px\" src=\"https://ichef.bbci.co.uk/ace/standard/480/cpsprodpb/15333/production/_132853868_gettyimages-1043661664.jpg\" srcset=\"https://ichef.bbci.co.uk/ace/standard/240/cpsprodpb/15333/production/_132853868_gettyimages-1043661664.jpg 240w, https://ichef.bbci.co.uk/ace/standard/480/cpsprodpb/15333/production/_132853868_gettyimages-1043661664.jpg 480w\" width=\"240\"/></picture></span></div></div></div></div></div>,\n",
       "  <div class=\"ssrcss-18mhvre-Promo e1vyq2e80\" data-testid=\"promo\" type=\"article\"><div class=\"ssrcss-wk8yie-PromoSwitchLayoutAtBreakpoints et5qctl0\"><div class=\"ssrcss-tq7xfh-PromoContent exn3ah99\"><div class=\"ssrcss-1f3bvyz-Stack e1y4nx260\" spacing=\"2\"><a class=\"ssrcss-1mrs5ns-PromoLink exn3ah91\" href=\"/news/technology-68512156\"><span role=\"text\"><p class=\"ssrcss-15dlehh-PromoHeadline exn3ah96\"><span aria-hidden=\"false\">Production of Duvel beer hit by cyber-attack</span></p></span></a></div><div class=\"ssrcss-wdw1q-Stack e1y4nx260\" spacing=\"4\"><div><ul class=\"ssrcss-17wa8hx-MetadataStripContainer eh44mf03\" role=\"list\"><li class=\"ssrcss-30fcoe-MetadataStripItem eh44mf01\" role=\"listitem\"><div class=\"visually-hidden ssrcss-1f39n02-VisuallyHidden e16en2lz0\">Attribution</div><div class=\"ssrcss-m5j4pi-MetadataContent eh44mf00\"><span class=\"ssrcss-1pvwv4b-MetadataSnippet e4wm5bw3\"><a class=\"ssrcss-1v4aea2-MetadataLink e4wm5bw2\" href=\"/news/technology\"><span class=\"ssrcss-1if1g9v-MetadataText e4wm5bw1\">Technology</span></a></span></div></li><div class=\"ssrcss-13nu8ri-GroupChildrenForWrapping eh44mf02\"><li class=\"ssrcss-30fcoe-MetadataStripItem eh44mf01\" role=\"listitem\"><div class=\"visually-hidden ssrcss-1f39n02-VisuallyHidden e16en2lz0\">Posted</div><div class=\"ssrcss-m5j4pi-MetadataContent eh44mf00\"><span class=\"ssrcss-1pvwv4b-MetadataSnippet e4wm5bw3\"><span class=\"ssrcss-1if1g9v-MetadataText e4wm5bw1\"><span class=\"visually-hidden ssrcss-1f39n02-VisuallyHidden e16en2lz0\">1 hour ago</span><span aria-hidden=\"true\">1h</span></span></span></div></li></div></ul></div></div></div><div class=\"ssrcss-z60stg-PromoImageContainer en81kx34\"><div class=\"ssrcss-17h6w1t-PromoImageContainerInner en81kx32\"><div class=\"ssrcss-fec6qv-ImageWrapper en81kx33\"><span class=\"ssrcss-11kpz0x-Placeholder etlorgc0\"><picture><source sizes=\"(max-width: 399px) 240px, 480px\" srcset=\"https://ichef.bbci.co.uk/ace/standard/240/cpsprodpb/D60C/production/_132869745_gettyimages-165330142.jpg.webp 240w, https://ichef.bbci.co.uk/ace/standard/480/cpsprodpb/D60C/production/_132869745_gettyimages-165330142.jpg.webp 480w\" type=\"image/webp\"/><img alt=\"A Duvel label\" class=\"ssrcss-evoj7m-Image edrdn950\" height=\"135\" loading=\"eager\" sizes=\"(max-width: 399px) 240px, 480px\" src=\"https://ichef.bbci.co.uk/ace/standard/480/cpsprodpb/D60C/production/_132869745_gettyimages-165330142.jpg\" srcset=\"https://ichef.bbci.co.uk/ace/standard/240/cpsprodpb/D60C/production/_132869745_gettyimages-165330142.jpg 240w, https://ichef.bbci.co.uk/ace/standard/480/cpsprodpb/D60C/production/_132869745_gettyimages-165330142.jpg 480w\" width=\"240\"/></picture></span></div></div></div></div></div>,\n",
       "  <div class=\"ssrcss-18mhvre-Promo e1vyq2e80\" data-testid=\"promo\" type=\"article\"><div class=\"ssrcss-bnuh0n-PromoSwitchLayoutAtBreakpoints et5qctl0\"><div class=\"ssrcss-tq7xfh-PromoContent exn3ah99\"><div class=\"ssrcss-1f3bvyz-Stack e1y4nx260\" spacing=\"2\"><a class=\"ssrcss-1mrs5ns-PromoLink exn3ah91\" href=\"/news/world-europe-68493215\"><span role=\"text\"><p class=\"ssrcss-15dlehh-PromoHeadline exn3ah96\"><span aria-hidden=\"false\">'We know what's coming': East Ukraine braces for Russian advance</span></p></span></a></div><div class=\"ssrcss-wdw1q-Stack e1y4nx260\" spacing=\"4\"><div><ul class=\"ssrcss-17wa8hx-MetadataStripContainer eh44mf03\" role=\"list\"><li class=\"ssrcss-30fcoe-MetadataStripItem eh44mf01\" role=\"listitem\"><div class=\"visually-hidden ssrcss-1f39n02-VisuallyHidden e16en2lz0\">Attribution</div><div class=\"ssrcss-m5j4pi-MetadataContent eh44mf00\"><span class=\"ssrcss-1pvwv4b-MetadataSnippet e4wm5bw3\"><a class=\"ssrcss-1v4aea2-MetadataLink e4wm5bw2\" href=\"/news/world/europe\"><span class=\"ssrcss-1if1g9v-MetadataText e4wm5bw1\">Europe</span></a></span></div></li><div class=\"ssrcss-13nu8ri-GroupChildrenForWrapping eh44mf02\"><li class=\"ssrcss-30fcoe-MetadataStripItem eh44mf01\" role=\"listitem\"><div class=\"visually-hidden ssrcss-1f39n02-VisuallyHidden e16en2lz0\">Posted</div><div class=\"ssrcss-m5j4pi-MetadataContent eh44mf00\"><span class=\"ssrcss-1pvwv4b-MetadataSnippet e4wm5bw3\"><span class=\"ssrcss-1if1g9v-MetadataText e4wm5bw1\"><span class=\"visually-hidden ssrcss-1f39n02-VisuallyHidden e16en2lz0\">1 day ago</span><span aria-hidden=\"true\">1d</span></span></span></div></li></div></ul></div></div></div><div class=\"ssrcss-z60stg-PromoImageContainer en81kx34\"><div class=\"ssrcss-17h6w1t-PromoImageContainerInner en81kx32\"><div class=\"ssrcss-fec6qv-ImageWrapper en81kx33\"><span class=\"ssrcss-11kpz0x-Placeholder etlorgc0\"><picture><source sizes=\"(max-width: 399px) 240px, 480px\" srcset=\"https://ichef.bbci.co.uk/ace/standard/240/cpsprodpb/B919/production/_132858374_kos-stationhug.png.webp 240w, https://ichef.bbci.co.uk/ace/standard/480/cpsprodpb/B919/production/_132858374_kos-stationhug.png.webp 480w\" type=\"image/webp\"/><img alt=\"Two people hug at Kramatorsk train station\" class=\"ssrcss-evoj7m-Image edrdn950\" height=\"135\" loading=\"eager\" sizes=\"(max-width: 399px) 240px, 480px\" src=\"https://ichef.bbci.co.uk/ace/standard/480/cpsprodpb/B919/production/_132858374_kos-stationhug.png\" srcset=\"https://ichef.bbci.co.uk/ace/standard/240/cpsprodpb/B919/production/_132858374_kos-stationhug.png 240w, https://ichef.bbci.co.uk/ace/standard/480/cpsprodpb/B919/production/_132858374_kos-stationhug.png 480w\" width=\"240\"/></picture></span></div></div></div></div></div>,\n",
       "  <div class=\"ssrcss-18mhvre-Promo e1vyq2e80\" data-testid=\"promo\" type=\"article\"><div class=\"ssrcss-bnuh0n-PromoSwitchLayoutAtBreakpoints et5qctl0\"><div class=\"ssrcss-tq7xfh-PromoContent exn3ah99\"><div class=\"ssrcss-1f3bvyz-Stack e1y4nx260\" spacing=\"2\"><a class=\"ssrcss-1mrs5ns-PromoLink exn3ah91\" href=\"/news/world-europe-68506937\"><span role=\"text\"><p class=\"ssrcss-15dlehh-PromoHeadline exn3ah96\"><span aria-hidden=\"false\">Ukraine to appoint ex-army chief as UK ambassador</span></p></span></a></div><div class=\"ssrcss-wdw1q-Stack e1y4nx260\" spacing=\"4\"><div><ul class=\"ssrcss-17wa8hx-MetadataStripContainer eh44mf03\" role=\"list\"><li class=\"ssrcss-30fcoe-MetadataStripItem eh44mf01\" role=\"listitem\"><div class=\"visually-hidden ssrcss-1f39n02-VisuallyHidden e16en2lz0\">Attribution</div><div class=\"ssrcss-m5j4pi-MetadataContent eh44mf00\"><span class=\"ssrcss-1pvwv4b-MetadataSnippet e4wm5bw3\"><a class=\"ssrcss-1v4aea2-MetadataLink e4wm5bw2\" href=\"/news/world/europe\"><span class=\"ssrcss-1if1g9v-MetadataText e4wm5bw1\">Europe</span></a></span></div></li><div class=\"ssrcss-13nu8ri-GroupChildrenForWrapping eh44mf02\"><li class=\"ssrcss-30fcoe-MetadataStripItem eh44mf01\" role=\"listitem\"><div class=\"visually-hidden ssrcss-1f39n02-VisuallyHidden e16en2lz0\">Posted</div><div class=\"ssrcss-m5j4pi-MetadataContent eh44mf00\"><span class=\"ssrcss-1pvwv4b-MetadataSnippet e4wm5bw3\"><span class=\"ssrcss-1if1g9v-MetadataText e4wm5bw1\"><span class=\"visually-hidden ssrcss-1f39n02-VisuallyHidden e16en2lz0\">16 hours ago</span><span aria-hidden=\"true\">16h</span></span></span></div></li></div></ul></div></div></div><div class=\"ssrcss-z60stg-PromoImageContainer en81kx34\"><div class=\"ssrcss-17h6w1t-PromoImageContainerInner en81kx32\"><div class=\"ssrcss-fec6qv-ImageWrapper en81kx33\"><span class=\"ssrcss-11kpz0x-Placeholder etlorgc0\"><picture><source sizes=\"(max-width: 399px) 240px, 480px\" srcset=\"https://ichef.bbci.co.uk/ace/standard/240/cpsprodpb/14344/production/_132865728_gettyimages-1631787382-1.jpg.webp 240w, https://ichef.bbci.co.uk/ace/standard/480/cpsprodpb/14344/production/_132865728_gettyimages-1631787382-1.jpg.webp 480w\" type=\"image/webp\"/><img alt=\"zaluzhyni\" class=\"ssrcss-evoj7m-Image edrdn950\" height=\"135\" loading=\"eager\" sizes=\"(max-width: 399px) 240px, 480px\" src=\"https://ichef.bbci.co.uk/ace/standard/480/cpsprodpb/14344/production/_132865728_gettyimages-1631787382-1.jpg\" srcset=\"https://ichef.bbci.co.uk/ace/standard/240/cpsprodpb/14344/production/_132865728_gettyimages-1631787382-1.jpg 240w, https://ichef.bbci.co.uk/ace/standard/480/cpsprodpb/14344/production/_132865728_gettyimages-1631787382-1.jpg 480w\" width=\"240\"/></picture></span></div></div></div></div></div>,\n",
       "  <div class=\"ssrcss-18mhvre-Promo e1vyq2e80\" data-testid=\"promo\" type=\"article\"><div class=\"ssrcss-1ns4t85-PromoSwitchLayoutAtBreakpoints et5qctl0\"><div class=\"ssrcss-tq7xfh-PromoContent exn3ah99\"><div class=\"ssrcss-1f3bvyz-Stack e1y4nx260\" spacing=\"2\"><a class=\"ssrcss-1mrs5ns-PromoLink exn3ah91\" href=\"/news/world-europe-68501755\"><span role=\"text\"><p class=\"ssrcss-15dlehh-PromoHeadline exn3ah96\"><span aria-hidden=\"false\">Millions affected by German air and rail strikes</span></p></span></a></div><div class=\"ssrcss-wdw1q-Stack e1y4nx260\" spacing=\"4\"><div><ul class=\"ssrcss-17wa8hx-MetadataStripContainer eh44mf03\" role=\"list\"><li class=\"ssrcss-30fcoe-MetadataStripItem eh44mf01\" role=\"listitem\"><div class=\"visually-hidden ssrcss-1f39n02-VisuallyHidden e16en2lz0\">Attribution</div><div class=\"ssrcss-m5j4pi-MetadataContent eh44mf00\"><span class=\"ssrcss-1pvwv4b-MetadataSnippet e4wm5bw3\"><a class=\"ssrcss-1v4aea2-MetadataLink e4wm5bw2\" href=\"/news/world/europe\"><span class=\"ssrcss-1if1g9v-MetadataText e4wm5bw1\">Europe</span></a></span></div></li><div class=\"ssrcss-13nu8ri-GroupChildrenForWrapping eh44mf02\"><li class=\"ssrcss-30fcoe-MetadataStripItem eh44mf01\" role=\"listitem\"><div class=\"visually-hidden ssrcss-1f39n02-VisuallyHidden e16en2lz0\">Posted</div><div class=\"ssrcss-m5j4pi-MetadataContent eh44mf00\"><span class=\"ssrcss-1pvwv4b-MetadataSnippet e4wm5bw3\"><span class=\"ssrcss-1if1g9v-MetadataText e4wm5bw1\"><span class=\"visually-hidden ssrcss-1f39n02-VisuallyHidden e16en2lz0\">22 hours ago</span><span aria-hidden=\"true\">22h</span></span></span></div></li></div></ul></div></div></div><div class=\"ssrcss-z60stg-PromoImageContainer en81kx34\"><div class=\"ssrcss-17h6w1t-PromoImageContainerInner en81kx32\"><div class=\"ssrcss-fec6qv-ImageWrapper en81kx33\"><span class=\"ssrcss-11kpz0x-Placeholder etlorgc0\"><picture><source sizes=\"(max-width: 399px) 320px, (max-width: 1279px) 480px, 624px\" srcset=\"https://ichef.bbci.co.uk/ace/standard/320/cpsprodpb/12F9E/production/_132862777_gettyimages-2065485603.jpg.webp 320w, https://ichef.bbci.co.uk/ace/standard/480/cpsprodpb/12F9E/production/_132862777_gettyimages-2065485603.jpg.webp 480w, https://ichef.bbci.co.uk/ace/standard/624/cpsprodpb/12F9E/production/_132862777_gettyimages-2065485603.jpg.webp 624w\" type=\"image/webp\"/><img alt=\"Striking Lufthansa ground crew employees gather at the Lufthansa Aviation Center near the Frankfurt Airport\" class=\"ssrcss-evoj7m-Image edrdn950\" height=\"135\" loading=\"eager\" sizes=\"(max-width: 399px) 320px, (max-width: 1279px) 480px, 624px\" src=\"https://ichef.bbci.co.uk/ace/standard/480/cpsprodpb/12F9E/production/_132862777_gettyimages-2065485603.jpg\" srcset=\"https://ichef.bbci.co.uk/ace/standard/320/cpsprodpb/12F9E/production/_132862777_gettyimages-2065485603.jpg 320w, https://ichef.bbci.co.uk/ace/standard/480/cpsprodpb/12F9E/production/_132862777_gettyimages-2065485603.jpg 480w, https://ichef.bbci.co.uk/ace/standard/624/cpsprodpb/12F9E/production/_132862777_gettyimages-2065485603.jpg 624w\" width=\"240\"/></picture></span></div></div></div></div></div>,\n",
       "  <div class=\"ssrcss-18mhvre-Promo e1vyq2e80\" data-testid=\"promo\" type=\"article\"><div class=\"ssrcss-1ns4t85-PromoSwitchLayoutAtBreakpoints et5qctl0\"><div class=\"ssrcss-tq7xfh-PromoContent exn3ah99\"><div class=\"ssrcss-1f3bvyz-Stack e1y4nx260\" spacing=\"2\"><a class=\"ssrcss-1mrs5ns-PromoLink exn3ah91\" href=\"/news/world-europe-68504715\"><span role=\"text\"><p class=\"ssrcss-15dlehh-PromoHeadline exn3ah96\"><span aria-hidden=\"false\">French MPs back compensating victims of anti-gay law</span></p></span></a></div><div class=\"ssrcss-wdw1q-Stack e1y4nx260\" spacing=\"4\"><div><ul class=\"ssrcss-17wa8hx-MetadataStripContainer eh44mf03\" role=\"list\"><li class=\"ssrcss-30fcoe-MetadataStripItem eh44mf01\" role=\"listitem\"><div class=\"visually-hidden ssrcss-1f39n02-VisuallyHidden e16en2lz0\">Attribution</div><div class=\"ssrcss-m5j4pi-MetadataContent eh44mf00\"><span class=\"ssrcss-1pvwv4b-MetadataSnippet e4wm5bw3\"><a class=\"ssrcss-1v4aea2-MetadataLink e4wm5bw2\" href=\"/news/world/europe\"><span class=\"ssrcss-1if1g9v-MetadataText e4wm5bw1\">Europe</span></a></span></div></li><div class=\"ssrcss-13nu8ri-GroupChildrenForWrapping eh44mf02\"><li class=\"ssrcss-30fcoe-MetadataStripItem eh44mf01\" role=\"listitem\"><div class=\"visually-hidden ssrcss-1f39n02-VisuallyHidden e16en2lz0\">Posted</div><div class=\"ssrcss-m5j4pi-MetadataContent eh44mf00\"><span class=\"ssrcss-1pvwv4b-MetadataSnippet e4wm5bw3\"><span class=\"ssrcss-1if1g9v-MetadataText e4wm5bw1\"><span class=\"visually-hidden ssrcss-1f39n02-VisuallyHidden e16en2lz0\">22 hours ago</span><span aria-hidden=\"true\">22h</span></span></span></div></li></div></ul></div></div></div><div class=\"ssrcss-z60stg-PromoImageContainer en81kx34\"><div class=\"ssrcss-17h6w1t-PromoImageContainerInner en81kx32\"><div class=\"ssrcss-fec6qv-ImageWrapper en81kx33\"><span class=\"ssrcss-11kpz0x-Placeholder etlorgc0\"><picture><source sizes=\"(max-width: 399px) 320px, (max-width: 1279px) 480px, 624px\" srcset=\"https://ichef.bbci.co.uk/ace/standard/320/cpsprodpb/15A96/production/_132862788_mediaitem132862787.jpg.webp 320w, https://ichef.bbci.co.uk/ace/standard/480/cpsprodpb/15A96/production/_132862788_mediaitem132862787.jpg.webp 480w, https://ichef.bbci.co.uk/ace/standard/624/cpsprodpb/15A96/production/_132862788_mediaitem132862787.jpg.webp 624w\" type=\"image/webp\"/><img alt=\"Pride Parade 2022 in Toulouse\" class=\"ssrcss-evoj7m-Image edrdn950\" height=\"135\" loading=\"eager\" sizes=\"(max-width: 399px) 320px, (max-width: 1279px) 480px, 624px\" src=\"https://ichef.bbci.co.uk/ace/standard/480/cpsprodpb/15A96/production/_132862788_mediaitem132862787.jpg\" srcset=\"https://ichef.bbci.co.uk/ace/standard/320/cpsprodpb/15A96/production/_132862788_mediaitem132862787.jpg 320w, https://ichef.bbci.co.uk/ace/standard/480/cpsprodpb/15A96/production/_132862788_mediaitem132862787.jpg 480w, https://ichef.bbci.co.uk/ace/standard/624/cpsprodpb/15A96/production/_132862788_mediaitem132862787.jpg 624w\" width=\"240\"/></picture></span></div></div></div></div></div>,\n",
       "  <div class=\"ssrcss-18mhvre-Promo e1vyq2e80\" data-testid=\"promo\" type=\"article\"><div class=\"ssrcss-1ns4t85-PromoSwitchLayoutAtBreakpoints et5qctl0\"><div class=\"ssrcss-tq7xfh-PromoContent exn3ah99\"><div class=\"ssrcss-1f3bvyz-Stack e1y4nx260\" spacing=\"2\"><a class=\"ssrcss-1mrs5ns-PromoLink exn3ah91\" href=\"/news/technology-68500945\"><span role=\"text\"><p class=\"ssrcss-15dlehh-PromoHeadline exn3ah96\"><span aria-hidden=\"false\">Pornhub challenges EU over online content rules</span></p></span></a></div><div class=\"ssrcss-wdw1q-Stack e1y4nx260\" spacing=\"4\"><div><ul class=\"ssrcss-17wa8hx-MetadataStripContainer eh44mf03\" role=\"list\"><li class=\"ssrcss-30fcoe-MetadataStripItem eh44mf01\" role=\"listitem\"><div class=\"visually-hidden ssrcss-1f39n02-VisuallyHidden e16en2lz0\">Attribution</div><div class=\"ssrcss-m5j4pi-MetadataContent eh44mf00\"><span class=\"ssrcss-1pvwv4b-MetadataSnippet e4wm5bw3\"><a class=\"ssrcss-1v4aea2-MetadataLink e4wm5bw2\" href=\"/news/technology\"><span class=\"ssrcss-1if1g9v-MetadataText e4wm5bw1\">Technology</span></a></span></div></li><div class=\"ssrcss-13nu8ri-GroupChildrenForWrapping eh44mf02\"><li class=\"ssrcss-30fcoe-MetadataStripItem eh44mf01\" role=\"listitem\"><div class=\"visually-hidden ssrcss-1f39n02-VisuallyHidden e16en2lz0\">Posted</div><div class=\"ssrcss-m5j4pi-MetadataContent eh44mf00\"><span class=\"ssrcss-1pvwv4b-MetadataSnippet e4wm5bw3\"><span class=\"ssrcss-1if1g9v-MetadataText e4wm5bw1\"><span class=\"visually-hidden ssrcss-1f39n02-VisuallyHidden e16en2lz0\">1 day ago</span><span aria-hidden=\"true\">1d</span></span></span></div></li></div></ul></div></div></div><div class=\"ssrcss-z60stg-PromoImageContainer en81kx34\"><div class=\"ssrcss-17h6w1t-PromoImageContainerInner en81kx32\"><div class=\"ssrcss-fec6qv-ImageWrapper en81kx33\"><span class=\"ssrcss-11kpz0x-Placeholder etlorgc0\"><picture><source sizes=\"(max-width: 399px) 320px, (max-width: 1279px) 480px, 624px\" srcset=\"https://ichef.bbci.co.uk/ace/standard/320/cpsprodpb/037F/production/_132859800_gettyimages-1878229101.jpg.webp 320w, https://ichef.bbci.co.uk/ace/standard/480/cpsprodpb/037F/production/_132859800_gettyimages-1878229101.jpg.webp 480w, https://ichef.bbci.co.uk/ace/standard/624/cpsprodpb/037F/production/_132859800_gettyimages-1878229101.jpg.webp 624w\" type=\"image/webp\"/><img alt=\"Pornhub with European stars in background\" class=\"ssrcss-evoj7m-Image edrdn950\" height=\"135\" loading=\"eager\" sizes=\"(max-width: 399px) 320px, (max-width: 1279px) 480px, 624px\" src=\"https://ichef.bbci.co.uk/ace/standard/480/cpsprodpb/037F/production/_132859800_gettyimages-1878229101.jpg\" srcset=\"https://ichef.bbci.co.uk/ace/standard/320/cpsprodpb/037F/production/_132859800_gettyimages-1878229101.jpg 320w, https://ichef.bbci.co.uk/ace/standard/480/cpsprodpb/037F/production/_132859800_gettyimages-1878229101.jpg 480w, https://ichef.bbci.co.uk/ace/standard/624/cpsprodpb/037F/production/_132859800_gettyimages-1878229101.jpg 624w\" width=\"240\"/></picture></span></div></div></div></div></div>,\n",
       "  <div class=\"ssrcss-18mhvre-Promo e1vyq2e80\" data-testid=\"promo\" type=\"article\"><div class=\"ssrcss-1wyq3gl-PromoSwitchLayoutAtBreakpoints et5qctl0\"><div class=\"ssrcss-tq7xfh-PromoContent exn3ah99\"><div class=\"ssrcss-1f3bvyz-Stack e1y4nx260\" spacing=\"2\"><a class=\"ssrcss-1mrs5ns-PromoLink exn3ah91\" href=\"/sport/tennis/68505734\"><span role=\"text\"><p class=\"ssrcss-15dlehh-PromoHeadline exn3ah96\"><span aria-hidden=\"false\">Halep to return at Miami Open after ban reduced</span></p></span></a></div><div class=\"ssrcss-wdw1q-Stack e1y4nx260\" spacing=\"4\"><div><ul class=\"ssrcss-17wa8hx-MetadataStripContainer eh44mf03\" role=\"list\"><li class=\"ssrcss-30fcoe-MetadataStripItem eh44mf01\" role=\"listitem\"><div class=\"visually-hidden ssrcss-1f39n02-VisuallyHidden e16en2lz0\">Attribution</div><div class=\"ssrcss-m5j4pi-MetadataContent eh44mf00\"><span class=\"ssrcss-1pvwv4b-MetadataSnippet e4wm5bw3\"><a class=\"ssrcss-1tk5yg7-MetadataLink e4wm5bw2\" href=\"/sport/tennis\"><span class=\"ssrcss-1if1g9v-MetadataText e4wm5bw1\">Tennis</span></a></span></div></li><div class=\"ssrcss-13nu8ri-GroupChildrenForWrapping eh44mf02\"><li class=\"ssrcss-30fcoe-MetadataStripItem eh44mf01\" role=\"listitem\"><div class=\"visually-hidden ssrcss-1f39n02-VisuallyHidden e16en2lz0\">Posted</div><div class=\"ssrcss-m5j4pi-MetadataContent eh44mf00\"><span class=\"ssrcss-1pvwv4b-MetadataSnippet e4wm5bw3\"><span class=\"ssrcss-1if1g9v-MetadataText e4wm5bw1\"><span class=\"visually-hidden ssrcss-1f39n02-VisuallyHidden e16en2lz0\">19 hours ago</span><span aria-hidden=\"true\">19h</span></span></span></div></li></div></ul></div></div></div><div class=\"ssrcss-z60stg-PromoImageContainer en81kx34\"><div class=\"ssrcss-17h6w1t-PromoImageContainerInner en81kx32\"><div class=\"ssrcss-fec6qv-ImageWrapper en81kx33\"><span class=\"ssrcss-11kpz0x-Placeholder etlorgc0\"><picture><source sizes=\"(max-width: 399px) 320px, (max-width: 1279px) 480px, 624px\" srcset=\"https://ichef.bbci.co.uk/ace/standard/320/cpsprodpb/BC01/production/_127292184_halep.jpg.webp 320w, https://ichef.bbci.co.uk/ace/standard/480/cpsprodpb/BC01/production/_127292184_halep.jpg.webp 480w, https://ichef.bbci.co.uk/ace/standard/624/cpsprodpb/BC01/production/_127292184_halep.jpg.webp 624w\" type=\"image/webp\"/><img alt=\"Simona Halep\" class=\"ssrcss-evoj7m-Image edrdn950\" height=\"135\" loading=\"eager\" sizes=\"(max-width: 399px) 320px, (max-width: 1279px) 480px, 624px\" src=\"https://ichef.bbci.co.uk/ace/standard/480/cpsprodpb/BC01/production/_127292184_halep.jpg\" srcset=\"https://ichef.bbci.co.uk/ace/standard/320/cpsprodpb/BC01/production/_127292184_halep.jpg 320w, https://ichef.bbci.co.uk/ace/standard/480/cpsprodpb/BC01/production/_127292184_halep.jpg 480w, https://ichef.bbci.co.uk/ace/standard/624/cpsprodpb/BC01/production/_127292184_halep.jpg 624w\" width=\"240\"/></picture></span></div></div></div></div></div>,\n",
       "  <div class=\"ssrcss-18mhvre-Promo e1vyq2e80\" data-testid=\"promo\" type=\"article\"><div class=\"ssrcss-1wyq3gl-PromoSwitchLayoutAtBreakpoints et5qctl0\"><div class=\"ssrcss-tq7xfh-PromoContent exn3ah99\"><div class=\"ssrcss-1f3bvyz-Stack e1y4nx260\" spacing=\"2\"><a class=\"ssrcss-1mrs5ns-PromoLink exn3ah91\" href=\"/news/uk-england-sussex-68501921\"><span role=\"text\"><p class=\"ssrcss-15dlehh-PromoHeadline exn3ah96\"><span aria-hidden=\"false\">Two Brighton fans stabbed in Rome ahead of match</span></p></span></a></div><div class=\"ssrcss-wdw1q-Stack e1y4nx260\" spacing=\"4\"><div><ul class=\"ssrcss-17wa8hx-MetadataStripContainer eh44mf03\" role=\"list\"><li class=\"ssrcss-30fcoe-MetadataStripItem eh44mf01\" role=\"listitem\"><div class=\"visually-hidden ssrcss-1f39n02-VisuallyHidden e16en2lz0\">Attribution</div><div class=\"ssrcss-m5j4pi-MetadataContent eh44mf00\"><span class=\"ssrcss-1pvwv4b-MetadataSnippet e4wm5bw3\"><a class=\"ssrcss-1v4aea2-MetadataLink e4wm5bw2\" href=\"/news/england/sussex\"><span class=\"ssrcss-1if1g9v-MetadataText e4wm5bw1\">Sussex</span></a></span></div></li><div class=\"ssrcss-13nu8ri-GroupChildrenForWrapping eh44mf02\"><li class=\"ssrcss-30fcoe-MetadataStripItem eh44mf01\" role=\"listitem\"><div class=\"visually-hidden ssrcss-1f39n02-VisuallyHidden e16en2lz0\">Posted</div><div class=\"ssrcss-m5j4pi-MetadataContent eh44mf00\"><span class=\"ssrcss-1pvwv4b-MetadataSnippet e4wm5bw3\"><span class=\"ssrcss-1if1g9v-MetadataText e4wm5bw1\"><span class=\"visually-hidden ssrcss-1f39n02-VisuallyHidden e16en2lz0\">22 hours ago</span><span aria-hidden=\"true\">22h</span></span></span></div></li></div></ul></div></div></div><div class=\"ssrcss-z60stg-PromoImageContainer en81kx34\"><div class=\"ssrcss-17h6w1t-PromoImageContainerInner en81kx32\"><div class=\"ssrcss-fec6qv-ImageWrapper en81kx33\"><span class=\"ssrcss-11kpz0x-Placeholder etlorgc0\"><picture><source sizes=\"(max-width: 399px) 320px, (max-width: 1279px) 480px, 624px\" srcset=\"https://ichef.bbci.co.uk/ace/standard/320/cpsprodpb/B793/production/_132859964_gettyimages-1982197552.jpg.webp 320w, https://ichef.bbci.co.uk/ace/standard/480/cpsprodpb/B793/production/_132859964_gettyimages-1982197552.jpg.webp 480w, https://ichef.bbci.co.uk/ace/standard/624/cpsprodpb/B793/production/_132859964_gettyimages-1982197552.jpg.webp 624w\" type=\"image/webp\"/><img alt=\"The Stadio Olimpico in Rome, Italy\" class=\"ssrcss-evoj7m-Image edrdn950\" height=\"135\" loading=\"eager\" sizes=\"(max-width: 399px) 320px, (max-width: 1279px) 480px, 624px\" src=\"https://ichef.bbci.co.uk/ace/standard/480/cpsprodpb/B793/production/_132859964_gettyimages-1982197552.jpg\" srcset=\"https://ichef.bbci.co.uk/ace/standard/320/cpsprodpb/B793/production/_132859964_gettyimages-1982197552.jpg 320w, https://ichef.bbci.co.uk/ace/standard/480/cpsprodpb/B793/production/_132859964_gettyimages-1982197552.jpg 480w, https://ichef.bbci.co.uk/ace/standard/624/cpsprodpb/B793/production/_132859964_gettyimages-1982197552.jpg 624w\" width=\"240\"/></picture></span></div></div></div></div></div>,\n",
       "  <div class=\"ssrcss-18mhvre-Promo e1vyq2e80\" data-testid=\"promo\" type=\"article\"><div class=\"ssrcss-1ns4t85-PromoSwitchLayoutAtBreakpoints et5qctl0\"><div class=\"ssrcss-tq7xfh-PromoContent exn3ah99\"><div class=\"ssrcss-1f3bvyz-Stack e1y4nx260\" spacing=\"2\"><a class=\"ssrcss-1mrs5ns-PromoLink exn3ah91\" href=\"/news/science-environment-68486462\"><span role=\"text\"><p class=\"ssrcss-15dlehh-PromoHeadline exn3ah96\"><span aria-hidden=\"false\">The world's largest robots are setting sail</span></p></span></a></div><div class=\"ssrcss-wdw1q-Stack e1y4nx260\" spacing=\"4\"><div><ul class=\"ssrcss-17wa8hx-MetadataStripContainer eh44mf03\" role=\"list\"><li class=\"ssrcss-30fcoe-MetadataStripItem eh44mf01\" role=\"listitem\"><div class=\"visually-hidden ssrcss-1f39n02-VisuallyHidden e16en2lz0\">Attribution</div><div class=\"ssrcss-m5j4pi-MetadataContent eh44mf00\"><span class=\"ssrcss-1pvwv4b-MetadataSnippet e4wm5bw3\"><a class=\"ssrcss-1v4aea2-MetadataLink e4wm5bw2\" href=\"/news/science_and_environment\"><span class=\"ssrcss-1if1g9v-MetadataText e4wm5bw1\">Science &amp; Environment</span></a></span></div></li><div class=\"ssrcss-13nu8ri-GroupChildrenForWrapping eh44mf02\"><li class=\"ssrcss-30fcoe-MetadataStripItem eh44mf01\" role=\"listitem\"><div class=\"visually-hidden ssrcss-1f39n02-VisuallyHidden e16en2lz0\">Posted</div><div class=\"ssrcss-m5j4pi-MetadataContent eh44mf00\"><span class=\"ssrcss-1pvwv4b-MetadataSnippet e4wm5bw3\"><span class=\"ssrcss-1if1g9v-MetadataText e4wm5bw1\"><span class=\"visually-hidden ssrcss-1f39n02-VisuallyHidden e16en2lz0\">1 day ago</span><span aria-hidden=\"true\">1d</span></span></span></div></li></div></ul></div></div></div><div class=\"ssrcss-z60stg-PromoImageContainer en81kx34\"><div class=\"ssrcss-17h6w1t-PromoImageContainerInner en81kx32\"><div class=\"ssrcss-fec6qv-ImageWrapper en81kx33\"><span class=\"ssrcss-11kpz0x-Placeholder etlorgc0\"><picture><source sizes=\"(max-width: 399px) 320px, (max-width: 1279px) 480px, 624px\" srcset=\"https://ichef.bbci.co.uk/ace/standard/320/cpsprodpb/C8AE/production/_132847315_oishipdrone2.jpg.webp 320w, https://ichef.bbci.co.uk/ace/standard/480/cpsprodpb/C8AE/production/_132847315_oishipdrone2.jpg.webp 480w, https://ichef.bbci.co.uk/ace/standard/624/cpsprodpb/C8AE/production/_132847315_oishipdrone2.jpg.webp 624w\" type=\"image/webp\"/><img alt=\"Ocean Infinity Armada 78 vessel\" class=\"ssrcss-evoj7m-Image edrdn950\" height=\"135\" loading=\"eager\" sizes=\"(max-width: 399px) 320px, (max-width: 1279px) 480px, 624px\" src=\"https://ichef.bbci.co.uk/ace/standard/480/cpsprodpb/C8AE/production/_132847315_oishipdrone2.jpg\" srcset=\"https://ichef.bbci.co.uk/ace/standard/320/cpsprodpb/C8AE/production/_132847315_oishipdrone2.jpg 320w, https://ichef.bbci.co.uk/ace/standard/480/cpsprodpb/C8AE/production/_132847315_oishipdrone2.jpg 480w, https://ichef.bbci.co.uk/ace/standard/624/cpsprodpb/C8AE/production/_132847315_oishipdrone2.jpg 624w\" width=\"240\"/></picture></span></div></div></div></div></div>,\n",
       "  <div class=\"ssrcss-18mhvre-Promo e1vyq2e80\" data-testid=\"promo\" type=\"article\"><div class=\"ssrcss-1ns4t85-PromoSwitchLayoutAtBreakpoints et5qctl0\"><div class=\"ssrcss-tq7xfh-PromoContent exn3ah99\"><div class=\"ssrcss-1f3bvyz-Stack e1y4nx260\" spacing=\"2\"><a class=\"ssrcss-1mrs5ns-PromoLink exn3ah91\" href=\"/news/world-europe-68479830\"><span role=\"text\"><p class=\"ssrcss-15dlehh-PromoHeadline exn3ah96\"><span aria-hidden=\"false\">Suspected bird poisonings threaten much-loved Serbian owls</span></p></span></a></div><div class=\"ssrcss-wdw1q-Stack e1y4nx260\" spacing=\"4\"><div><ul class=\"ssrcss-17wa8hx-MetadataStripContainer eh44mf03\" role=\"list\"><li class=\"ssrcss-30fcoe-MetadataStripItem eh44mf01\" role=\"listitem\"><div class=\"visually-hidden ssrcss-1f39n02-VisuallyHidden e16en2lz0\">Attribution</div><div class=\"ssrcss-m5j4pi-MetadataContent eh44mf00\"><span class=\"ssrcss-1pvwv4b-MetadataSnippet e4wm5bw3\"><a class=\"ssrcss-1v4aea2-MetadataLink e4wm5bw2\" href=\"/news/world/europe\"><span class=\"ssrcss-1if1g9v-MetadataText e4wm5bw1\">Europe</span></a></span></div></li><div class=\"ssrcss-13nu8ri-GroupChildrenForWrapping eh44mf02\"><li class=\"ssrcss-30fcoe-MetadataStripItem eh44mf01\" role=\"listitem\"><div class=\"visually-hidden ssrcss-1f39n02-VisuallyHidden e16en2lz0\">Posted</div><div class=\"ssrcss-m5j4pi-MetadataContent eh44mf00\"><span class=\"ssrcss-1pvwv4b-MetadataSnippet e4wm5bw3\"><span class=\"ssrcss-1if1g9v-MetadataText e4wm5bw1\"><span class=\"visually-hidden ssrcss-1f39n02-VisuallyHidden e16en2lz0\">2 days ago</span><span aria-hidden=\"true\">2d</span></span></span></div></li></div></ul></div></div></div><div class=\"ssrcss-z60stg-PromoImageContainer en81kx34\"><div class=\"ssrcss-17h6w1t-PromoImageContainerInner en81kx32\"><div class=\"ssrcss-fec6qv-ImageWrapper en81kx33\"><span class=\"ssrcss-11kpz0x-Placeholder etlorgc0\"><picture><source sizes=\"(max-width: 399px) 320px, (max-width: 1279px) 480px, 624px\" srcset=\"https://ichef.bbci.co.uk/ace/standard/320/cpsprodpb/F14F/production/_104357716_050620799.jpg.webp 320w, https://ichef.bbci.co.uk/ace/standard/480/cpsprodpb/F14F/production/_104357716_050620799.jpg.webp 480w, https://ichef.bbci.co.uk/ace/standard/624/cpsprodpb/F14F/production/_104357716_050620799.jpg.webp 624w\" type=\"image/webp\"/><img alt=\"A long-eared owl in Kikinda\" class=\"ssrcss-evoj7m-Image edrdn950\" height=\"135\" loading=\"eager\" sizes=\"(max-width: 399px) 320px, (max-width: 1279px) 480px, 624px\" src=\"https://ichef.bbci.co.uk/ace/standard/480/cpsprodpb/F14F/production/_104357716_050620799.jpg\" srcset=\"https://ichef.bbci.co.uk/ace/standard/320/cpsprodpb/F14F/production/_104357716_050620799.jpg 320w, https://ichef.bbci.co.uk/ace/standard/480/cpsprodpb/F14F/production/_104357716_050620799.jpg 480w, https://ichef.bbci.co.uk/ace/standard/624/cpsprodpb/F14F/production/_104357716_050620799.jpg 624w\" width=\"240\"/></picture></span></div></div></div></div></div>,\n",
       "  <div class=\"ssrcss-18mhvre-Promo e1vyq2e80\" data-testid=\"promo\" type=\"article\"><div class=\"ssrcss-1ns4t85-PromoSwitchLayoutAtBreakpoints et5qctl0\"><div class=\"ssrcss-tq7xfh-PromoContent exn3ah99\"><div class=\"ssrcss-1f3bvyz-Stack e1y4nx260\" spacing=\"2\"><a class=\"ssrcss-1mrs5ns-PromoLink exn3ah91\" href=\"/news/world-europe-68471119\"><span role=\"text\"><p class=\"ssrcss-15dlehh-PromoHeadline exn3ah96\"><span aria-hidden=\"false\">In Ukraine, the show must go on - even underground</span></p></span></a></div><div class=\"ssrcss-wdw1q-Stack e1y4nx260\" spacing=\"4\"><div><ul class=\"ssrcss-17wa8hx-MetadataStripContainer eh44mf03\" role=\"list\"><li class=\"ssrcss-30fcoe-MetadataStripItem eh44mf01\" role=\"listitem\"><div class=\"visually-hidden ssrcss-1f39n02-VisuallyHidden e16en2lz0\">Attribution</div><div class=\"ssrcss-m5j4pi-MetadataContent eh44mf00\"><span class=\"ssrcss-1pvwv4b-MetadataSnippet e4wm5bw3\"><a class=\"ssrcss-1v4aea2-MetadataLink e4wm5bw2\" href=\"/news/world/europe\"><span class=\"ssrcss-1if1g9v-MetadataText e4wm5bw1\">Europe</span></a></span></div></li><div class=\"ssrcss-13nu8ri-GroupChildrenForWrapping eh44mf02\"><li class=\"ssrcss-30fcoe-MetadataStripItem eh44mf01\" role=\"listitem\"><div class=\"visually-hidden ssrcss-1f39n02-VisuallyHidden e16en2lz0\">Posted</div><div class=\"ssrcss-m5j4pi-MetadataContent eh44mf00\"><span class=\"ssrcss-1pvwv4b-MetadataSnippet e4wm5bw3\"><span class=\"ssrcss-1if1g9v-MetadataText e4wm5bw1\"><span class=\"visually-hidden ssrcss-1f39n02-VisuallyHidden e16en2lz0\">3 days ago</span><span aria-hidden=\"true\">3d</span></span></span></div></li></div></ul></div></div></div><div class=\"ssrcss-z60stg-PromoImageContainer en81kx34\"><div class=\"ssrcss-17h6w1t-PromoImageContainerInner en81kx32\"><div class=\"ssrcss-fec6qv-ImageWrapper en81kx33\"><span class=\"ssrcss-11kpz0x-Placeholder etlorgc0\"><picture><source sizes=\"(max-width: 399px) 320px, (max-width: 1279px) 480px, 624px\" srcset=\"https://ichef.bbci.co.uk/ace/standard/320/cpsprodpb/138E8/production/_132840108_nataliaviolinistbackstage.jpg.webp 320w, https://ichef.bbci.co.uk/ace/standard/480/cpsprodpb/138E8/production/_132840108_nataliaviolinistbackstage.jpg.webp 480w, https://ichef.bbci.co.uk/ace/standard/624/cpsprodpb/138E8/production/_132840108_nataliaviolinistbackstage.jpg.webp 624w\" type=\"image/webp\"/><img alt=\"Natalia Babarok\" class=\"ssrcss-evoj7m-Image edrdn950\" height=\"135\" loading=\"eager\" sizes=\"(max-width: 399px) 320px, (max-width: 1279px) 480px, 624px\" src=\"https://ichef.bbci.co.uk/ace/standard/480/cpsprodpb/138E8/production/_132840108_nataliaviolinistbackstage.jpg\" srcset=\"https://ichef.bbci.co.uk/ace/standard/320/cpsprodpb/138E8/production/_132840108_nataliaviolinistbackstage.jpg 320w, https://ichef.bbci.co.uk/ace/standard/480/cpsprodpb/138E8/production/_132840108_nataliaviolinistbackstage.jpg 480w, https://ichef.bbci.co.uk/ace/standard/624/cpsprodpb/138E8/production/_132840108_nataliaviolinistbackstage.jpg 624w\" width=\"240\"/></picture></span></div></div></div></div></div>,\n",
       "  <div class=\"ssrcss-18mhvre-Promo e1vyq2e80\" data-testid=\"promo\" type=\"article\"><div class=\"ssrcss-bnuh0n-PromoSwitchLayoutAtBreakpoints et5qctl0\"><div class=\"ssrcss-tq7xfh-PromoContent exn3ah99\"><div class=\"ssrcss-1f3bvyz-Stack e1y4nx260\" spacing=\"2\"><a class=\"ssrcss-1mrs5ns-PromoLink exn3ah91\" href=\"/news/uk-68347415\"><span role=\"text\"><p class=\"ssrcss-15dlehh-PromoHeadline exn3ah96\"><span aria-hidden=\"false\">Suicide poison seller tracked down by BBC</span></p></span></a></div><div class=\"ssrcss-wdw1q-Stack e1y4nx260\" spacing=\"4\"><div><ul class=\"ssrcss-17wa8hx-MetadataStripContainer eh44mf03\" role=\"list\"><li class=\"ssrcss-30fcoe-MetadataStripItem eh44mf01\" role=\"listitem\"><div class=\"visually-hidden ssrcss-1f39n02-VisuallyHidden e16en2lz0\">Attribution</div><div class=\"ssrcss-m5j4pi-MetadataContent eh44mf00\"><span class=\"ssrcss-1pvwv4b-MetadataSnippet e4wm5bw3\"><a class=\"ssrcss-1v4aea2-MetadataLink e4wm5bw2\" href=\"/news/uk\"><span class=\"ssrcss-1if1g9v-MetadataText e4wm5bw1\">UK</span></a></span></div></li><div class=\"ssrcss-13nu8ri-GroupChildrenForWrapping eh44mf02\"><li class=\"ssrcss-30fcoe-MetadataStripItem eh44mf01\" role=\"listitem\"><div class=\"visually-hidden ssrcss-1f39n02-VisuallyHidden e16en2lz0\">Posted</div><div class=\"ssrcss-m5j4pi-MetadataContent eh44mf00\"><span class=\"ssrcss-1pvwv4b-MetadataSnippet e4wm5bw3\"><span class=\"ssrcss-1if1g9v-MetadataText e4wm5bw1\"><span class=\"visually-hidden ssrcss-1f39n02-VisuallyHidden e16en2lz0\">7 days ago</span><span aria-hidden=\"true\">1 Mar</span></span></span></div></li></div></ul></div></div></div><div class=\"ssrcss-z60stg-PromoImageContainer en81kx34\"><div class=\"ssrcss-17h6w1t-PromoImageContainerInner en81kx32\"><div class=\"ssrcss-fec6qv-ImageWrapper en81kx33\"><span class=\"ssrcss-11kpz0x-Placeholder etlorgc0\"><picture><source sizes=\"(max-width: 399px) 320px, (max-width: 1279px) 480px, 624px\" srcset=\"https://ichef.bbci.co.uk/ace/standard/320/cpsprodpb/A670/production/_132780624_zakutenko-3.jpg.webp 320w, https://ichef.bbci.co.uk/ace/standard/480/cpsprodpb/A670/production/_132780624_zakutenko-3.jpg.webp 480w, https://ichef.bbci.co.uk/ace/standard/624/cpsprodpb/A670/production/_132780624_zakutenko-3.jpg.webp 624w\" type=\"image/webp\"/><img alt=\"Leonid Zakutenko on the streets of Kyiv during surprise filming by the BBC\" class=\"ssrcss-evoj7m-Image edrdn950\" height=\"135\" loading=\"eager\" sizes=\"(max-width: 399px) 320px, (max-width: 1279px) 480px, 624px\" src=\"https://ichef.bbci.co.uk/ace/standard/480/cpsprodpb/A670/production/_132780624_zakutenko-3.jpg\" srcset=\"https://ichef.bbci.co.uk/ace/standard/320/cpsprodpb/A670/production/_132780624_zakutenko-3.jpg 320w, https://ichef.bbci.co.uk/ace/standard/480/cpsprodpb/A670/production/_132780624_zakutenko-3.jpg 480w, https://ichef.bbci.co.uk/ace/standard/624/cpsprodpb/A670/production/_132780624_zakutenko-3.jpg 624w\" width=\"240\"/></picture></span></div></div></div></div></div>,\n",
       "  <div class=\"ssrcss-18mhvre-Promo e1vyq2e80\" data-testid=\"promo\" type=\"article\"><div class=\"ssrcss-bnuh0n-PromoSwitchLayoutAtBreakpoints et5qctl0\"><div class=\"ssrcss-tq7xfh-PromoContent exn3ah99\"><div class=\"ssrcss-1f3bvyz-Stack e1y4nx260\" spacing=\"2\"><a class=\"ssrcss-1mrs5ns-PromoLink exn3ah91\" href=\"/news/world-europe-68456231\"><span role=\"text\"><p class=\"ssrcss-15dlehh-PromoHeadline exn3ah96\"><span aria-hidden=\"false\">Why Macron hopes abortion rights are a political winner</span></p></span></a></div><div class=\"ssrcss-wdw1q-Stack e1y4nx260\" spacing=\"4\"><div><ul class=\"ssrcss-17wa8hx-MetadataStripContainer eh44mf03\" role=\"list\"><li class=\"ssrcss-30fcoe-MetadataStripItem eh44mf01\" role=\"listitem\"><div class=\"visually-hidden ssrcss-1f39n02-VisuallyHidden e16en2lz0\">Attribution</div><div class=\"ssrcss-m5j4pi-MetadataContent eh44mf00\"><span class=\"ssrcss-1pvwv4b-MetadataSnippet e4wm5bw3\"><a class=\"ssrcss-1v4aea2-MetadataLink e4wm5bw2\" href=\"/news/world/europe\"><span class=\"ssrcss-1if1g9v-MetadataText e4wm5bw1\">Europe</span></a></span></div></li><div class=\"ssrcss-13nu8ri-GroupChildrenForWrapping eh44mf02\"><li class=\"ssrcss-30fcoe-MetadataStripItem eh44mf01\" role=\"listitem\"><div class=\"visually-hidden ssrcss-1f39n02-VisuallyHidden e16en2lz0\">Posted</div><div class=\"ssrcss-m5j4pi-MetadataContent eh44mf00\"><span class=\"ssrcss-1pvwv4b-MetadataSnippet e4wm5bw3\"><span class=\"ssrcss-1if1g9v-MetadataText e4wm5bw1\"><span class=\"visually-hidden ssrcss-1f39n02-VisuallyHidden e16en2lz0\">5 days ago</span><span aria-hidden=\"true\">5d</span></span></span></div></li></div></ul></div></div></div><div class=\"ssrcss-z60stg-PromoImageContainer en81kx34\"><div class=\"ssrcss-17h6w1t-PromoImageContainerInner en81kx32\"><div class=\"ssrcss-fec6qv-ImageWrapper en81kx33\"><span class=\"ssrcss-11kpz0x-Placeholder etlorgc0\"><picture><source sizes=\"(max-width: 399px) 320px, (max-width: 1279px) 480px, 624px\" srcset=\"https://ichef.bbci.co.uk/ace/standard/320/cpsprodpb/16752/production/_132768919_womenafp.jpg.webp 320w, https://ichef.bbci.co.uk/ace/standard/480/cpsprodpb/16752/production/_132768919_womenafp.jpg.webp 480w, https://ichef.bbci.co.uk/ace/standard/624/cpsprodpb/16752/production/_132768919_womenafp.jpg.webp 624w\" type=\"image/webp\"/><img alt='Placards reading \"My body my choice\" (L) and \"Abortion in the Constitution\" are seen during a rally to call for the constitutionalisation of the right to abortion outside the Senate in Paris, on February 01, 2023.' class=\"ssrcss-evoj7m-Image edrdn950\" height=\"135\" loading=\"eager\" sizes=\"(max-width: 399px) 320px, (max-width: 1279px) 480px, 624px\" src=\"https://ichef.bbci.co.uk/ace/standard/480/cpsprodpb/16752/production/_132768919_womenafp.jpg\" srcset=\"https://ichef.bbci.co.uk/ace/standard/320/cpsprodpb/16752/production/_132768919_womenafp.jpg 320w, https://ichef.bbci.co.uk/ace/standard/480/cpsprodpb/16752/production/_132768919_womenafp.jpg 480w, https://ichef.bbci.co.uk/ace/standard/624/cpsprodpb/16752/production/_132768919_womenafp.jpg 624w\" width=\"240\"/></picture></span></div></div></div></div></div>,\n",
       "  <div class=\"ssrcss-i455yb-LinkPost edn7j850\" type=\"article\"><div class=\"ssrcss-1lvoyu5-LinkPostLandscape etwe1e20\"><div class=\"ssrcss-1q6wa5h-LinkPostContent ej9ium95\"><div class=\"ssrcss-1f3bvyz-Stack e1y4nx260\" spacing=\"2\"><a class=\"ssrcss-9haqql-LinkPostLink ej9ium92\" href=\"/news/world-europe-68509301\"><h3 class=\"ssrcss-1a8bwse-StyledHeading e10rt3ze0\"><span aria-hidden=\"true\" class=\"ssrcss-tyy4pv-Timestamp ej9ium93\">14:22</span><span role=\"text\"><span class=\"visually-hidden ssrcss-1f39n02-VisuallyHidden e16en2lz0\">Swedes cheer end of long wait to join Nato<!-- -->, <!-- -->published at<!-- --> <!-- -->14:22</span><span aria-hidden=\"true\" class=\"ssrcss-1fq6dkj-LinkPostHeadline ej9ium94\">Swedes cheer end of long wait to join Nato</span></span></h3></a></div><div class=\"ssrcss-wdw1q-Stack e1y4nx260\" spacing=\"4\"><div><ul class=\"ssrcss-17wa8hx-MetadataStripContainer eh44mf03\" role=\"list\"><li class=\"ssrcss-30fcoe-MetadataStripItem eh44mf01\" role=\"listitem\"><div class=\"visually-hidden ssrcss-1f39n02-VisuallyHidden e16en2lz0\">Attribution</div><div class=\"ssrcss-m5j4pi-MetadataContent eh44mf00\"><span class=\"ssrcss-1pvwv4b-MetadataSnippet e4wm5bw3\"><a class=\"ssrcss-1v4aea2-MetadataLink e4wm5bw2\" href=\"/news/world/europe\"><span class=\"ssrcss-1if1g9v-MetadataText e4wm5bw1\">Europe</span></a></span></div></li></ul></div></div></div><div class=\"ssrcss-18p5cn5-LinkPostImageContainer e1mdyoj94\"><div class=\"ssrcss-5h39mo-LinkPostImageContainerInner e1mdyoj92\"><div class=\"ssrcss-fec6qv-ImageWrapper e1mdyoj93\"><span class=\"ssrcss-11kpz0x-Placeholder etlorgc0\"><span><noscript><picture><source sizes=\"(max-width: 399px) 320px, (max-width: 599px) 480px, (max-width: 1007px) 800px, 480px\" srcset=\"https://ichef.bbci.co.uk/ace/standard/320/cpsprodpb/F100/production/_132869616_sweden_nato_bbc.jpg.webp 320w, https://ichef.bbci.co.uk/ace/standard/480/cpsprodpb/F100/production/_132869616_sweden_nato_bbc.jpg.webp 480w, https://ichef.bbci.co.uk/ace/standard/800/cpsprodpb/F100/production/_132869616_sweden_nato_bbc.jpg.webp 800w\" type=\"image/webp\"/><img alt=\"Wilma Tylling\" class=\"ssrcss-evoj7m-Image edrdn950\" height=\"135\" loading=\"lazy\" sizes=\"(max-width: 399px) 320px, (max-width: 599px) 480px, (max-width: 1007px) 800px, 480px\" src=\"https://ichef.bbci.co.uk/ace/standard/480/cpsprodpb/F100/production/_132869616_sweden_nato_bbc.jpg\" srcset=\"https://ichef.bbci.co.uk/ace/standard/320/cpsprodpb/F100/production/_132869616_sweden_nato_bbc.jpg 320w, https://ichef.bbci.co.uk/ace/standard/480/cpsprodpb/F100/production/_132869616_sweden_nato_bbc.jpg 480w, https://ichef.bbci.co.uk/ace/standard/800/cpsprodpb/F100/production/_132869616_sweden_nato_bbc.jpg 800w\" width=\"240\"/></picture></noscript></span></span></div></div></div></div></div>,\n",
       "  <div class=\"ssrcss-i455yb-LinkPost edn7j850\" type=\"article\"><div class=\"ssrcss-1lvoyu5-LinkPostLandscape etwe1e20\"><div class=\"ssrcss-1q6wa5h-LinkPostContent ej9ium95\"><div class=\"ssrcss-1f3bvyz-Stack e1y4nx260\" spacing=\"2\"><a class=\"ssrcss-9haqql-LinkPostLink ej9ium92\" href=\"/news/articles/clkm9193xzgo\"><h3 class=\"ssrcss-1a8bwse-StyledHeading e10rt3ze0\"><span aria-hidden=\"true\" class=\"ssrcss-tyy4pv-Timestamp ej9ium93\">14:11</span><span role=\"text\"><span class=\"visually-hidden ssrcss-1f39n02-VisuallyHidden e16en2lz0\">Funding for Donegal counselling service extended<!-- -->, <!-- -->published at<!-- --> <!-- -->14:11</span><span aria-hidden=\"true\" class=\"ssrcss-1fq6dkj-LinkPostHeadline ej9ium94\">Funding for Donegal counselling service extended</span></span></h3></a></div><div class=\"ssrcss-wdw1q-Stack e1y4nx260\" spacing=\"4\"><div><ul class=\"ssrcss-17wa8hx-MetadataStripContainer eh44mf03\" role=\"list\"><li class=\"ssrcss-30fcoe-MetadataStripItem eh44mf01\" role=\"listitem\"><div class=\"visually-hidden ssrcss-1f39n02-VisuallyHidden e16en2lz0\">Attribution</div><div class=\"ssrcss-m5j4pi-MetadataContent eh44mf00\"><span class=\"ssrcss-1pvwv4b-MetadataSnippet e4wm5bw3\"><a class=\"ssrcss-1v4aea2-MetadataLink e4wm5bw2\" href=\"/news/world/europe\"><span class=\"ssrcss-1if1g9v-MetadataText e4wm5bw1\">Europe</span></a></span></div></li></ul></div></div></div><div class=\"ssrcss-18p5cn5-LinkPostImageContainer e1mdyoj94\"><div class=\"ssrcss-5h39mo-LinkPostImageContainerInner e1mdyoj92\"><div class=\"ssrcss-fec6qv-ImageWrapper e1mdyoj93\"><span class=\"ssrcss-1mdduz7-Placeholder etlorgc0\"><span><noscript><img alt=\"Hands at counselling session\" class=\"ssrcss-evoj7m-Image edrdn950\" height=\"134\" loading=\"lazy\" sizes=\"(max-width: 399px) 320px, (max-width: 599px) 480px, (max-width: 1007px) 624px, 480px\" src=\"https://ichef.bbci.co.uk/news/480/cpsprodpb/8d25/live/c010e1e0-dd53-11ee-b292-af90e1cb0639.jpg\" srcset=\"https://ichef.bbci.co.uk/news/320/cpsprodpb/8d25/live/c010e1e0-dd53-11ee-b292-af90e1cb0639.jpg 320w, https://ichef.bbci.co.uk/news/480/cpsprodpb/8d25/live/c010e1e0-dd53-11ee-b292-af90e1cb0639.jpg 480w, https://ichef.bbci.co.uk/news/624/cpsprodpb/8d25/live/c010e1e0-dd53-11ee-b292-af90e1cb0639.jpg 624w\" width=\"240\"/></noscript></span></span></div></div></div></div></div>,\n",
       "  <div class=\"ssrcss-i455yb-LinkPost edn7j850\" type=\"article\"><div class=\"ssrcss-1lvoyu5-LinkPostLandscape etwe1e20\"><div class=\"ssrcss-1q6wa5h-LinkPostContent ej9ium95\"><div class=\"ssrcss-1f3bvyz-Stack e1y4nx260\" spacing=\"2\"><a class=\"ssrcss-9haqql-LinkPostLink ej9ium92\" href=\"/news/world-middle-east-68511606\"><h3 class=\"ssrcss-1a8bwse-StyledHeading e10rt3ze0\"><span aria-hidden=\"true\" class=\"ssrcss-tyy4pv-Timestamp ej9ium93\">13:40</span><span role=\"text\"><span class=\"visually-hidden ssrcss-1f39n02-VisuallyHidden e16en2lz0\">Sea corridor to Gaza could open at weekend - Von der Leyen<!-- -->, <!-- -->published at<!-- --> <!-- -->13:40</span><span aria-hidden=\"true\" class=\"ssrcss-1fq6dkj-LinkPostHeadline ej9ium94\">Sea corridor to Gaza could open at weekend - Von der Leyen</span></span></h3></a></div><div class=\"ssrcss-wdw1q-Stack e1y4nx260\" spacing=\"4\"><div><ul class=\"ssrcss-17wa8hx-MetadataStripContainer eh44mf03\" role=\"list\"><li class=\"ssrcss-30fcoe-MetadataStripItem eh44mf01\" role=\"listitem\"><div class=\"visually-hidden ssrcss-1f39n02-VisuallyHidden e16en2lz0\">Attribution</div><div class=\"ssrcss-m5j4pi-MetadataContent eh44mf00\"><span class=\"ssrcss-1pvwv4b-MetadataSnippet e4wm5bw3\"><a class=\"ssrcss-1v4aea2-MetadataLink e4wm5bw2\" href=\"/news/world/middle_east\"><span class=\"ssrcss-1if1g9v-MetadataText e4wm5bw1\">Middle East</span></a></span></div></li></ul></div></div></div><div class=\"ssrcss-18p5cn5-LinkPostImageContainer e1mdyoj94\"><div class=\"ssrcss-5h39mo-LinkPostImageContainerInner e1mdyoj92\"><div class=\"ssrcss-fec6qv-ImageWrapper e1mdyoj93\"><span class=\"ssrcss-11kpz0x-Placeholder etlorgc0\"><span><noscript><picture><source sizes=\"(max-width: 399px) 320px, (max-width: 599px) 480px, (max-width: 1007px) 800px, 480px\" srcset=\"https://ichef.bbci.co.uk/ace/standard/320/cpsprodpb/E5A2/production/_132868785_gettyimages-2035898209.jpg.webp 320w, https://ichef.bbci.co.uk/ace/standard/480/cpsprodpb/E5A2/production/_132868785_gettyimages-2035898209.jpg.webp 480w, https://ichef.bbci.co.uk/ace/standard/800/cpsprodpb/E5A2/production/_132868785_gettyimages-2035898209.jpg.webp 800w\" type=\"image/webp\"/><img alt=\"palestinians wait for aids to be airdropped, deir al balah\" class=\"ssrcss-evoj7m-Image edrdn950\" height=\"135\" loading=\"lazy\" sizes=\"(max-width: 399px) 320px, (max-width: 599px) 480px, (max-width: 1007px) 800px, 480px\" src=\"https://ichef.bbci.co.uk/ace/standard/480/cpsprodpb/E5A2/production/_132868785_gettyimages-2035898209.jpg\" srcset=\"https://ichef.bbci.co.uk/ace/standard/320/cpsprodpb/E5A2/production/_132868785_gettyimages-2035898209.jpg 320w, https://ichef.bbci.co.uk/ace/standard/480/cpsprodpb/E5A2/production/_132868785_gettyimages-2035898209.jpg 480w, https://ichef.bbci.co.uk/ace/standard/800/cpsprodpb/E5A2/production/_132868785_gettyimages-2035898209.jpg 800w\" width=\"240\"/></picture></noscript></span></span></div></div></div></div></div>,\n",
       "  <div class=\"ssrcss-i455yb-LinkPost edn7j850\" type=\"article\"><div class=\"ssrcss-1lvoyu5-LinkPostLandscape etwe1e20\"><div class=\"ssrcss-1q6wa5h-LinkPostContent ej9ium95\"><div class=\"ssrcss-1f3bvyz-Stack e1y4nx260\" spacing=\"2\"><a class=\"ssrcss-9haqql-LinkPostLink ej9ium92\" href=\"/news/technology-68512156\"><h3 class=\"ssrcss-1a8bwse-StyledHeading e10rt3ze0\"><span aria-hidden=\"true\" class=\"ssrcss-tyy4pv-Timestamp ej9ium93\">12:42</span><span role=\"text\"><span class=\"visually-hidden ssrcss-1f39n02-VisuallyHidden e16en2lz0\">Production of Duvel beer hit by cyber-attack<!-- -->, <!-- -->published at<!-- --> <!-- -->12:42</span><span aria-hidden=\"true\" class=\"ssrcss-1fq6dkj-LinkPostHeadline ej9ium94\">Production of Duvel beer hit by cyber-attack</span></span></h3></a></div><div class=\"ssrcss-wdw1q-Stack e1y4nx260\" spacing=\"4\"><div><ul class=\"ssrcss-17wa8hx-MetadataStripContainer eh44mf03\" role=\"list\"><li class=\"ssrcss-30fcoe-MetadataStripItem eh44mf01\" role=\"listitem\"><div class=\"visually-hidden ssrcss-1f39n02-VisuallyHidden e16en2lz0\">Attribution</div><div class=\"ssrcss-m5j4pi-MetadataContent eh44mf00\"><span class=\"ssrcss-1pvwv4b-MetadataSnippet e4wm5bw3\"><a class=\"ssrcss-1v4aea2-MetadataLink e4wm5bw2\" href=\"/news/technology\"><span class=\"ssrcss-1if1g9v-MetadataText e4wm5bw1\">Technology</span></a></span></div></li></ul></div></div></div><div class=\"ssrcss-18p5cn5-LinkPostImageContainer e1mdyoj94\"><div class=\"ssrcss-5h39mo-LinkPostImageContainerInner e1mdyoj92\"><div class=\"ssrcss-fec6qv-ImageWrapper e1mdyoj93\"><span class=\"ssrcss-11kpz0x-Placeholder etlorgc0\"><span><noscript><picture><source sizes=\"(max-width: 399px) 320px, (max-width: 599px) 480px, (max-width: 1007px) 800px, 480px\" srcset=\"https://ichef.bbci.co.uk/ace/standard/320/cpsprodpb/D60C/production/_132869745_gettyimages-165330142.jpg.webp 320w, https://ichef.bbci.co.uk/ace/standard/480/cpsprodpb/D60C/production/_132869745_gettyimages-165330142.jpg.webp 480w, https://ichef.bbci.co.uk/ace/standard/800/cpsprodpb/D60C/production/_132869745_gettyimages-165330142.jpg.webp 800w\" type=\"image/webp\"/><img alt=\"A Duvel label\" class=\"ssrcss-evoj7m-Image edrdn950\" height=\"135\" loading=\"lazy\" sizes=\"(max-width: 399px) 320px, (max-width: 599px) 480px, (max-width: 1007px) 800px, 480px\" src=\"https://ichef.bbci.co.uk/ace/standard/480/cpsprodpb/D60C/production/_132869745_gettyimages-165330142.jpg\" srcset=\"https://ichef.bbci.co.uk/ace/standard/320/cpsprodpb/D60C/production/_132869745_gettyimages-165330142.jpg 320w, https://ichef.bbci.co.uk/ace/standard/480/cpsprodpb/D60C/production/_132869745_gettyimages-165330142.jpg 480w, https://ichef.bbci.co.uk/ace/standard/800/cpsprodpb/D60C/production/_132869745_gettyimages-165330142.jpg 800w\" width=\"240\"/></picture></noscript></span></span></div></div></div></div></div>,\n",
       "  <div class=\"ssrcss-i455yb-LinkPost edn7j850\" type=\"article\"><div class=\"ssrcss-1lvoyu5-LinkPostLandscape etwe1e20\"><div class=\"ssrcss-1q6wa5h-LinkPostContent ej9ium95\"><div class=\"ssrcss-1f3bvyz-Stack e1y4nx260\" spacing=\"2\"><a class=\"ssrcss-9haqql-LinkPostLink ej9ium92\" href=\"/news/world-europe-68484650\"><h3 class=\"ssrcss-1a8bwse-StyledHeading e10rt3ze0\"><span aria-hidden=\"true\" class=\"ssrcss-tyy4pv-Timestamp ej9ium93\">09:09</span><span role=\"text\"><span class=\"visually-hidden ssrcss-1f39n02-VisuallyHidden e16en2lz0\">Polls open on Ireland's family and care referendum<!-- -->, <!-- -->published at<!-- --> <!-- -->09:09</span><span aria-hidden=\"true\" class=\"ssrcss-1fq6dkj-LinkPostHeadline ej9ium94\">Polls open on Ireland's family and care referendum</span></span></h3></a></div><div class=\"ssrcss-wdw1q-Stack e1y4nx260\" spacing=\"4\"><div><ul class=\"ssrcss-17wa8hx-MetadataStripContainer eh44mf03\" role=\"list\"><li class=\"ssrcss-30fcoe-MetadataStripItem eh44mf01\" role=\"listitem\"><div class=\"visually-hidden ssrcss-1f39n02-VisuallyHidden e16en2lz0\">Attribution</div><div class=\"ssrcss-m5j4pi-MetadataContent eh44mf00\"><span class=\"ssrcss-1pvwv4b-MetadataSnippet e4wm5bw3\"><a class=\"ssrcss-1v4aea2-MetadataLink e4wm5bw2\" href=\"/news/world/europe\"><span class=\"ssrcss-1if1g9v-MetadataText e4wm5bw1\">Europe</span></a></span></div></li></ul></div></div></div><div class=\"ssrcss-18p5cn5-LinkPostImageContainer e1mdyoj94\"><div class=\"ssrcss-5h39mo-LinkPostImageContainerInner e1mdyoj92\"><div class=\"ssrcss-fec6qv-ImageWrapper e1mdyoj93\"><span class=\"ssrcss-11kpz0x-Placeholder etlorgc0\"><span><noscript><picture><source sizes=\"(max-width: 399px) 320px, (max-width: 599px) 480px, (max-width: 1007px) 800px, 480px\" srcset=\"https://ichef.bbci.co.uk/ace/standard/320/cpsprodpb/15333/production/_132853868_gettyimages-1043661664.jpg.webp 320w, https://ichef.bbci.co.uk/ace/standard/480/cpsprodpb/15333/production/_132853868_gettyimages-1043661664.jpg.webp 480w, https://ichef.bbci.co.uk/ace/standard/800/cpsprodpb/15333/production/_132853868_gettyimages-1043661664.jpg.webp 800w\" type=\"image/webp\"/><img alt=\"Yes or No\" class=\"ssrcss-evoj7m-Image edrdn950\" height=\"135\" loading=\"lazy\" sizes=\"(max-width: 399px) 320px, (max-width: 599px) 480px, (max-width: 1007px) 800px, 480px\" src=\"https://ichef.bbci.co.uk/ace/standard/480/cpsprodpb/15333/production/_132853868_gettyimages-1043661664.jpg\" srcset=\"https://ichef.bbci.co.uk/ace/standard/320/cpsprodpb/15333/production/_132853868_gettyimages-1043661664.jpg 320w, https://ichef.bbci.co.uk/ace/standard/480/cpsprodpb/15333/production/_132853868_gettyimages-1043661664.jpg 480w, https://ichef.bbci.co.uk/ace/standard/800/cpsprodpb/15333/production/_132853868_gettyimages-1043661664.jpg 800w\" width=\"240\"/></picture></noscript></span></span></div></div></div></div></div>,\n",
       "  <div class=\"ssrcss-i455yb-LinkPost edn7j850\" type=\"article\"><div class=\"ssrcss-1lvoyu5-LinkPostLandscape etwe1e20\"><div class=\"ssrcss-1q6wa5h-LinkPostContent ej9ium95\"><div class=\"ssrcss-1f3bvyz-Stack e1y4nx260\" spacing=\"2\"><a class=\"ssrcss-9haqql-LinkPostLink ej9ium92\" href=\"/news/articles/cn0dwnx9kneo\"><h3 class=\"ssrcss-1a8bwse-StyledHeading e10rt3ze0\"><span aria-hidden=\"true\" class=\"ssrcss-tyy4pv-Timestamp ej9ium93\">06:19</span><span role=\"text\"><span class=\"visually-hidden ssrcss-1f39n02-VisuallyHidden e16en2lz0\">'I've not seen my husband for two years but I know he's alive'<!-- -->, <!-- -->published at<!-- --> <!-- -->06:19</span><span aria-hidden=\"true\" class=\"ssrcss-1fq6dkj-LinkPostHeadline ej9ium94\">'I've not seen my husband for two years but I know he's alive'</span></span></h3></a></div><div class=\"ssrcss-wdw1q-Stack e1y4nx260\" spacing=\"4\"><div><ul class=\"ssrcss-17wa8hx-MetadataStripContainer eh44mf03\" role=\"list\"><li class=\"ssrcss-30fcoe-MetadataStripItem eh44mf01\" role=\"listitem\"><div class=\"visually-hidden ssrcss-1f39n02-VisuallyHidden e16en2lz0\">Attribution</div><div class=\"ssrcss-m5j4pi-MetadataContent eh44mf00\"><span class=\"ssrcss-1pvwv4b-MetadataSnippet e4wm5bw3\"><a class=\"ssrcss-1v4aea2-MetadataLink e4wm5bw2\" href=\"/news/scotland/north_east_orkney_and_shetland\"><span class=\"ssrcss-1if1g9v-MetadataText e4wm5bw1\">NE, Orkney &amp; Shetland</span></a></span></div></li></ul></div></div></div><div class=\"ssrcss-18p5cn5-LinkPostImageContainer e1mdyoj94\"><div class=\"ssrcss-5h39mo-LinkPostImageContainerInner e1mdyoj92\"><div class=\"ssrcss-fec6qv-ImageWrapper e1mdyoj93\"><span class=\"ssrcss-11kpz0x-Placeholder etlorgc0\"><span><noscript><img alt=\"Oksana\" class=\"ssrcss-evoj7m-Image edrdn950\" height=\"135\" loading=\"lazy\" sizes=\"(max-width: 399px) 320px, (max-width: 599px) 480px, (max-width: 1007px) 800px, 480px\" src=\"https://ichef.bbci.co.uk/news/480/cpsprodpb/dd76/live/eb7edeb0-dcac-11ee-b83b-0f87a864f372.jpg\" srcset=\"https://ichef.bbci.co.uk/news/320/cpsprodpb/dd76/live/eb7edeb0-dcac-11ee-b83b-0f87a864f372.jpg 320w, https://ichef.bbci.co.uk/news/480/cpsprodpb/dd76/live/eb7edeb0-dcac-11ee-b83b-0f87a864f372.jpg 480w, https://ichef.bbci.co.uk/news/800/cpsprodpb/dd76/live/eb7edeb0-dcac-11ee-b83b-0f87a864f372.jpg 800w\" width=\"240\"/></noscript></span></span></div></div></div></div></div>,\n",
       "  <div class=\"ssrcss-i455yb-LinkPost edn7j850\" type=\"article\"><div class=\"ssrcss-1lvoyu5-LinkPostLandscape etwe1e20\"><div class=\"ssrcss-1q6wa5h-LinkPostContent ej9ium95\"><div class=\"ssrcss-1f3bvyz-Stack e1y4nx260\" spacing=\"2\"><a class=\"ssrcss-9haqql-LinkPostLink ej9ium92\" href=\"/news/world-europe-68479836\"><h3 class=\"ssrcss-1a8bwse-StyledHeading e10rt3ze0\"><span aria-hidden=\"true\" class=\"ssrcss-tyy4pv-Timestamp ej9ium93\">02:12</span><span role=\"text\"><span class=\"visually-hidden ssrcss-1f39n02-VisuallyHidden e16en2lz0\">Singapore sting: How spies listened in on German general<!-- -->, <!-- -->published at<!-- --> <!-- -->02:12</span><span aria-hidden=\"true\" class=\"ssrcss-1fq6dkj-LinkPostHeadline ej9ium94\">Singapore sting: How spies listened in on German general</span></span></h3></a></div><div class=\"ssrcss-wdw1q-Stack e1y4nx260\" spacing=\"4\"><div><ul class=\"ssrcss-17wa8hx-MetadataStripContainer eh44mf03\" role=\"list\"><li class=\"ssrcss-30fcoe-MetadataStripItem eh44mf01\" role=\"listitem\"><div class=\"visually-hidden ssrcss-1f39n02-VisuallyHidden e16en2lz0\">Attribution</div><div class=\"ssrcss-m5j4pi-MetadataContent eh44mf00\"><span class=\"ssrcss-1pvwv4b-MetadataSnippet e4wm5bw3\"><a class=\"ssrcss-1v4aea2-MetadataLink e4wm5bw2\" href=\"/news/world/europe\"><span class=\"ssrcss-1if1g9v-MetadataText e4wm5bw1\">Europe</span></a></span></div></li></ul></div></div></div><div class=\"ssrcss-18p5cn5-LinkPostImageContainer e1mdyoj94\"><div class=\"ssrcss-5h39mo-LinkPostImageContainerInner e1mdyoj92\"><div class=\"ssrcss-fec6qv-ImageWrapper e1mdyoj93\"><span class=\"ssrcss-11kpz0x-Placeholder etlorgc0\"><span><noscript><picture><source sizes=\"(max-width: 399px) 320px, (max-width: 599px) 480px, (max-width: 1007px) 800px, 480px\" srcset=\"https://ichef.bbci.co.uk/ace/standard/320/cpsprodpb/10280/production/_132867166_2mdba07-i.jpg.webp 320w, https://ichef.bbci.co.uk/ace/standard/480/cpsprodpb/10280/production/_132867166_2mdba07-i.jpg.webp 480w, https://ichef.bbci.co.uk/ace/standard/800/cpsprodpb/10280/production/_132867166_2mdba07-i.jpg.webp 800w\" type=\"image/webp\"/><img alt=\"Brigadier General Frank GrÃ¤fe\" class=\"ssrcss-evoj7m-Image edrdn950\" height=\"135\" loading=\"lazy\" sizes=\"(max-width: 399px) 320px, (max-width: 599px) 480px, (max-width: 1007px) 800px, 480px\" src=\"https://ichef.bbci.co.uk/ace/standard/480/cpsprodpb/10280/production/_132867166_2mdba07-i.jpg\" srcset=\"https://ichef.bbci.co.uk/ace/standard/320/cpsprodpb/10280/production/_132867166_2mdba07-i.jpg 320w, https://ichef.bbci.co.uk/ace/standard/480/cpsprodpb/10280/production/_132867166_2mdba07-i.jpg 480w, https://ichef.bbci.co.uk/ace/standard/800/cpsprodpb/10280/production/_132867166_2mdba07-i.jpg 800w\" width=\"240\"/></picture></noscript></span></span></div></div></div></div></div>,\n",
       "  <div class=\"ssrcss-i455yb-LinkPost edn7j850\" type=\"article\"><div class=\"ssrcss-1lvoyu5-LinkPostLandscape etwe1e20\"><div class=\"ssrcss-1q6wa5h-LinkPostContent ej9ium95\"><div class=\"ssrcss-1f3bvyz-Stack e1y4nx260\" spacing=\"2\"><a class=\"ssrcss-9haqql-LinkPostLink ej9ium92\" href=\"/news/world-europe-68505522\"><h3 class=\"ssrcss-1a8bwse-StyledHeading e10rt3ze0\"><span aria-hidden=\"true\" class=\"ssrcss-tyy4pv-Timestamp ej9ium93\">00:50</span><span role=\"text\"><span class=\"visually-hidden ssrcss-1f39n02-VisuallyHidden e16en2lz0\">Far-right ex-football pundit shakes up Portuguese vote<!-- -->, <!-- -->published at<!-- --> <!-- -->00:50</span><span aria-hidden=\"true\" class=\"ssrcss-1fq6dkj-LinkPostHeadline ej9ium94\">Far-right ex-football pundit shakes up Portuguese vote</span></span></h3></a></div><div class=\"ssrcss-wdw1q-Stack e1y4nx260\" spacing=\"4\"><div><ul class=\"ssrcss-17wa8hx-MetadataStripContainer eh44mf03\" role=\"list\"><li class=\"ssrcss-30fcoe-MetadataStripItem eh44mf01\" role=\"listitem\"><div class=\"visually-hidden ssrcss-1f39n02-VisuallyHidden e16en2lz0\">Attribution</div><div class=\"ssrcss-m5j4pi-MetadataContent eh44mf00\"><span class=\"ssrcss-1pvwv4b-MetadataSnippet e4wm5bw3\"><a class=\"ssrcss-1v4aea2-MetadataLink e4wm5bw2\" href=\"/news/world/europe\"><span class=\"ssrcss-1if1g9v-MetadataText e4wm5bw1\">Europe</span></a></span></div></li></ul></div></div></div><div class=\"ssrcss-18p5cn5-LinkPostImageContainer e1mdyoj94\"><div class=\"ssrcss-5h39mo-LinkPostImageContainerInner e1mdyoj92\"><div class=\"ssrcss-fec6qv-ImageWrapper e1mdyoj93\"><span class=\"ssrcss-11kpz0x-Placeholder etlorgc0\"><span><noscript><picture><source sizes=\"(max-width: 399px) 320px, (max-width: 599px) 480px, (max-width: 1007px) 800px, 480px\" srcset=\"https://ichef.bbci.co.uk/ace/standard/320/cpsprodpb/177B0/production/_132867169_gettyimages-1925660665.jpg.webp 320w, https://ichef.bbci.co.uk/ace/standard/480/cpsprodpb/177B0/production/_132867169_gettyimages-1925660665.jpg.webp 480w, https://ichef.bbci.co.uk/ace/standard/800/cpsprodpb/177B0/production/_132867169_gettyimages-1925660665.jpg.webp 800w\" type=\"image/webp\"/><img alt=\"AndrÃ© Ventura (centre) in a crowd of supporters\" class=\"ssrcss-evoj7m-Image edrdn950\" height=\"135\" loading=\"lazy\" sizes=\"(max-width: 399px) 320px, (max-width: 599px) 480px, (max-width: 1007px) 800px, 480px\" src=\"https://ichef.bbci.co.uk/ace/standard/480/cpsprodpb/177B0/production/_132867169_gettyimages-1925660665.jpg\" srcset=\"https://ichef.bbci.co.uk/ace/standard/320/cpsprodpb/177B0/production/_132867169_gettyimages-1925660665.jpg 320w, https://ichef.bbci.co.uk/ace/standard/480/cpsprodpb/177B0/production/_132867169_gettyimages-1925660665.jpg 480w, https://ichef.bbci.co.uk/ace/standard/800/cpsprodpb/177B0/production/_132867169_gettyimages-1925660665.jpg 800w\" width=\"240\"/></picture></noscript></span></span></div></div></div></div></div>,\n",
       "  <div class=\"ssrcss-i455yb-LinkPost edn7j850\" type=\"article\"><div class=\"ssrcss-1lvoyu5-LinkPostLandscape etwe1e20\"><div class=\"ssrcss-1q6wa5h-LinkPostContent ej9ium95\"><div class=\"ssrcss-1f3bvyz-Stack e1y4nx260\" spacing=\"2\"><a class=\"ssrcss-9haqql-LinkPostLink ej9ium92\" href=\"/news/world-europe-68506937\"><h3 class=\"ssrcss-1a8bwse-StyledHeading e10rt3ze0\"><span aria-hidden=\"true\" class=\"ssrcss-tyy4pv-Timestamp ej9ium93\">22:04 7 March</span><span role=\"text\"><span class=\"visually-hidden ssrcss-1f39n02-VisuallyHidden e16en2lz0\">Ukraine to appoint ex-army chief as UK ambassador<!-- -->, <!-- -->published at<!-- --> <!-- -->22:04 7 March</span><span aria-hidden=\"true\" class=\"ssrcss-1fq6dkj-LinkPostHeadline ej9ium94\">Ukraine to appoint ex-army chief as UK ambassador</span></span></h3></a></div><div class=\"ssrcss-wdw1q-Stack e1y4nx260\" spacing=\"4\"><div><ul class=\"ssrcss-17wa8hx-MetadataStripContainer eh44mf03\" role=\"list\"><li class=\"ssrcss-30fcoe-MetadataStripItem eh44mf01\" role=\"listitem\"><div class=\"visually-hidden ssrcss-1f39n02-VisuallyHidden e16en2lz0\">Attribution</div><div class=\"ssrcss-m5j4pi-MetadataContent eh44mf00\"><span class=\"ssrcss-1pvwv4b-MetadataSnippet e4wm5bw3\"><a class=\"ssrcss-1v4aea2-MetadataLink e4wm5bw2\" href=\"/news/world/europe\"><span class=\"ssrcss-1if1g9v-MetadataText e4wm5bw1\">Europe</span></a></span></div></li></ul></div></div></div><div class=\"ssrcss-18p5cn5-LinkPostImageContainer e1mdyoj94\"><div class=\"ssrcss-5h39mo-LinkPostImageContainerInner e1mdyoj92\"><div class=\"ssrcss-fec6qv-ImageWrapper e1mdyoj93\"><span class=\"ssrcss-11kpz0x-Placeholder etlorgc0\"><span><noscript><picture><source sizes=\"(max-width: 399px) 320px, (max-width: 599px) 480px, (max-width: 1007px) 800px, 480px\" srcset=\"https://ichef.bbci.co.uk/ace/standard/320/cpsprodpb/14344/production/_132865728_gettyimages-1631787382-1.jpg.webp 320w, https://ichef.bbci.co.uk/ace/standard/480/cpsprodpb/14344/production/_132865728_gettyimages-1631787382-1.jpg.webp 480w, https://ichef.bbci.co.uk/ace/standard/800/cpsprodpb/14344/production/_132865728_gettyimages-1631787382-1.jpg.webp 800w\" type=\"image/webp\"/><img alt=\"zaluzhyni\" class=\"ssrcss-evoj7m-Image edrdn950\" height=\"135\" loading=\"lazy\" sizes=\"(max-width: 399px) 320px, (max-width: 599px) 480px, (max-width: 1007px) 800px, 480px\" src=\"https://ichef.bbci.co.uk/ace/standard/480/cpsprodpb/14344/production/_132865728_gettyimages-1631787382-1.jpg\" srcset=\"https://ichef.bbci.co.uk/ace/standard/320/cpsprodpb/14344/production/_132865728_gettyimages-1631787382-1.jpg 320w, https://ichef.bbci.co.uk/ace/standard/480/cpsprodpb/14344/production/_132865728_gettyimages-1631787382-1.jpg 480w, https://ichef.bbci.co.uk/ace/standard/800/cpsprodpb/14344/production/_132865728_gettyimages-1631787382-1.jpg 800w\" width=\"240\"/></picture></noscript></span></span></div></div></div></div></div>,\n",
       "  <div class=\"ssrcss-i455yb-LinkPost edn7j850\" type=\"article\"><div class=\"ssrcss-1lvoyu5-LinkPostLandscape etwe1e20\"><div class=\"ssrcss-1q6wa5h-LinkPostContent ej9ium95\"><div class=\"ssrcss-1f3bvyz-Stack e1y4nx260\" spacing=\"2\"><a class=\"ssrcss-9haqql-LinkPostLink ej9ium92\" href=\"/news/entertainment-arts-68505050\"><h3 class=\"ssrcss-1a8bwse-StyledHeading e10rt3ze0\"><span aria-hidden=\"true\" class=\"ssrcss-tyy4pv-Timestamp ej9ium93\">19:21 7 March</span><span role=\"text\"><span class=\"visually-hidden ssrcss-1f39n02-VisuallyHidden e16en2lz0\">Israel back in Eurovision 2024 after lyric change<!-- -->, <!-- -->published at<!-- --> <!-- -->19:21 7 March</span><span aria-hidden=\"true\" class=\"ssrcss-1fq6dkj-LinkPostHeadline ej9ium94\">Israel back in Eurovision 2024 after lyric change</span></span></h3></a></div><div class=\"ssrcss-wdw1q-Stack e1y4nx260\" spacing=\"4\"><div><ul class=\"ssrcss-17wa8hx-MetadataStripContainer eh44mf03\" role=\"list\"><li class=\"ssrcss-30fcoe-MetadataStripItem eh44mf01\" role=\"listitem\"><div class=\"visually-hidden ssrcss-1f39n02-VisuallyHidden e16en2lz0\">Attribution</div><div class=\"ssrcss-m5j4pi-MetadataContent eh44mf00\"><span class=\"ssrcss-1pvwv4b-MetadataSnippet e4wm5bw3\"><a class=\"ssrcss-1v4aea2-MetadataLink e4wm5bw2\" href=\"/news/entertainment_and_arts\"><span class=\"ssrcss-1if1g9v-MetadataText e4wm5bw1\">Entertainment &amp; Arts</span></a></span></div></li></ul></div></div></div><div class=\"ssrcss-18p5cn5-LinkPostImageContainer e1mdyoj94\"><div class=\"ssrcss-5h39mo-LinkPostImageContainerInner e1mdyoj92\"><div class=\"ssrcss-fec6qv-ImageWrapper e1mdyoj93\"><span class=\"ssrcss-11kpz0x-Placeholder etlorgc0\"><span><noscript><picture><source sizes=\"(max-width: 399px) 320px, (max-width: 599px) 480px, (max-width: 1007px) 800px, 480px\" srcset=\"https://ichef.bbci.co.uk/ace/standard/320/cpsprodpb/2B6F/production/_132591111_edengolan.jpg.webp 320w, https://ichef.bbci.co.uk/ace/standard/480/cpsprodpb/2B6F/production/_132591111_edengolan.jpg.webp 480w, https://ichef.bbci.co.uk/ace/standard/800/cpsprodpb/2B6F/production/_132591111_edengolan.jpg.webp 800w\" type=\"image/webp\"/><img alt=\"Eden Golan\" class=\"ssrcss-evoj7m-Image edrdn950\" height=\"135\" loading=\"lazy\" sizes=\"(max-width: 399px) 320px, (max-width: 599px) 480px, (max-width: 1007px) 800px, 480px\" src=\"https://ichef.bbci.co.uk/ace/standard/480/cpsprodpb/2B6F/production/_132591111_edengolan.jpg\" srcset=\"https://ichef.bbci.co.uk/ace/standard/320/cpsprodpb/2B6F/production/_132591111_edengolan.jpg 320w, https://ichef.bbci.co.uk/ace/standard/480/cpsprodpb/2B6F/production/_132591111_edengolan.jpg 480w, https://ichef.bbci.co.uk/ace/standard/800/cpsprodpb/2B6F/production/_132591111_edengolan.jpg 800w\" width=\"240\"/></picture></noscript></span></span></div></div></div></div></div>,\n",
       "  <div class=\"ssrcss-i455yb-LinkPost edn7j850\" type=\"article\"><div class=\"ssrcss-1lvoyu5-LinkPostLandscape etwe1e20\"><div class=\"ssrcss-1q6wa5h-LinkPostContent ej9ium95\"><div class=\"ssrcss-1f3bvyz-Stack e1y4nx260\" spacing=\"2\"><a class=\"ssrcss-9haqql-LinkPostLink ej9ium92\" href=\"/news/world-europe-68506223\"><h3 class=\"ssrcss-1a8bwse-StyledHeading e10rt3ze0\"><span aria-hidden=\"true\" class=\"ssrcss-tyy4pv-Timestamp ej9ium93\">19:05 7 March</span><span role=\"text\"><span class=\"visually-hidden ssrcss-1f39n02-VisuallyHidden e16en2lz0\">Sweden formally joins Nato military alliance<!-- -->, <!-- -->published at<!-- --> <!-- -->19:05 7 March</span><span aria-hidden=\"true\" class=\"ssrcss-1fq6dkj-LinkPostHeadline ej9ium94\">Sweden formally joins Nato military alliance</span></span></h3></a></div><div class=\"ssrcss-wdw1q-Stack e1y4nx260\" spacing=\"4\"><div><ul class=\"ssrcss-17wa8hx-MetadataStripContainer eh44mf03\" role=\"list\"><li class=\"ssrcss-30fcoe-MetadataStripItem eh44mf01\" role=\"listitem\"><div class=\"visually-hidden ssrcss-1f39n02-VisuallyHidden e16en2lz0\">Attribution</div><div class=\"ssrcss-m5j4pi-MetadataContent eh44mf00\"><span class=\"ssrcss-1pvwv4b-MetadataSnippet e4wm5bw3\"><a class=\"ssrcss-1v4aea2-MetadataLink e4wm5bw2\" href=\"/news/world/europe\"><span class=\"ssrcss-1if1g9v-MetadataText e4wm5bw1\">Europe</span></a></span></div></li></ul></div></div></div><div class=\"ssrcss-18p5cn5-LinkPostImageContainer e1mdyoj94\"><div class=\"ssrcss-5h39mo-LinkPostImageContainerInner e1mdyoj92\"><div class=\"ssrcss-fec6qv-ImageWrapper e1mdyoj93\"><span class=\"ssrcss-11kpz0x-Placeholder etlorgc0\"><span><noscript><picture><source sizes=\"(max-width: 399px) 320px, (max-width: 599px) 480px, (max-width: 1007px) 800px, 480px\" srcset=\"https://ichef.bbci.co.uk/ace/standard/320/cpsprodpb/755E/production/_132864003_ce35c3580748f4946196366f6499f80b709520650_0_8256_55041000x667.jpg.webp 320w, https://ichef.bbci.co.uk/ace/standard/480/cpsprodpb/755E/production/_132864003_ce35c3580748f4946196366f6499f80b709520650_0_8256_55041000x667.jpg.webp 480w, https://ichef.bbci.co.uk/ace/standard/800/cpsprodpb/755E/production/_132864003_ce35c3580748f4946196366f6499f80b709520650_0_8256_55041000x667.jpg.webp 800w\" type=\"image/webp\"/><img alt=\"swedish military in Nato exercise alongside Finnish units in finland, 5 march\" class=\"ssrcss-evoj7m-Image edrdn950\" height=\"135\" loading=\"lazy\" sizes=\"(max-width: 399px) 320px, (max-width: 599px) 480px, (max-width: 1007px) 800px, 480px\" src=\"https://ichef.bbci.co.uk/ace/standard/480/cpsprodpb/755E/production/_132864003_ce35c3580748f4946196366f6499f80b709520650_0_8256_55041000x667.jpg\" srcset=\"https://ichef.bbci.co.uk/ace/standard/320/cpsprodpb/755E/production/_132864003_ce35c3580748f4946196366f6499f80b709520650_0_8256_55041000x667.jpg 320w, https://ichef.bbci.co.uk/ace/standard/480/cpsprodpb/755E/production/_132864003_ce35c3580748f4946196366f6499f80b709520650_0_8256_55041000x667.jpg 480w, https://ichef.bbci.co.uk/ace/standard/800/cpsprodpb/755E/production/_132864003_ce35c3580748f4946196366f6499f80b709520650_0_8256_55041000x667.jpg 800w\" width=\"240\"/></picture></noscript></span></span></div></div></div></div></div>,\n",
       "  <div class=\"ssrcss-i455yb-LinkPost edn7j850\" type=\"article\"><div class=\"ssrcss-1lvoyu5-LinkPostLandscape etwe1e20\"><div class=\"ssrcss-1q6wa5h-LinkPostContent ej9ium95\"><div class=\"ssrcss-1f3bvyz-Stack e1y4nx260\" spacing=\"2\"><a class=\"ssrcss-9haqql-LinkPostLink ej9ium92\" href=\"/news/world-us-canada-68495708\"><h3 class=\"ssrcss-1a8bwse-StyledHeading e10rt3ze0\"><span aria-hidden=\"true\" class=\"ssrcss-tyy4pv-Timestamp ej9ium93\">18:17 7 March</span><span role=\"text\"><span class=\"visually-hidden ssrcss-1f39n02-VisuallyHidden e16en2lz0\">US lawmakers quiz Musk's Starlink over Russia claims<!-- -->, <!-- -->published at<!-- --> <!-- -->18:17 7 March</span><span aria-hidden=\"true\" class=\"ssrcss-1fq6dkj-LinkPostHeadline ej9ium94\">US lawmakers quiz Musk's Starlink over Russia claims</span></span></h3></a></div><div class=\"ssrcss-wdw1q-Stack e1y4nx260\" spacing=\"4\"><div><ul class=\"ssrcss-17wa8hx-MetadataStripContainer eh44mf03\" role=\"list\"><li class=\"ssrcss-30fcoe-MetadataStripItem eh44mf01\" role=\"listitem\"><div class=\"visually-hidden ssrcss-1f39n02-VisuallyHidden e16en2lz0\">Attribution</div><div class=\"ssrcss-m5j4pi-MetadataContent eh44mf00\"><span class=\"ssrcss-1pvwv4b-MetadataSnippet e4wm5bw3\"><a class=\"ssrcss-1v4aea2-MetadataLink e4wm5bw2\" href=\"/news/world/us_and_canada\"><span class=\"ssrcss-1if1g9v-MetadataText e4wm5bw1\">US &amp; Canada</span></a></span></div></li></ul></div></div></div><div class=\"ssrcss-18p5cn5-LinkPostImageContainer e1mdyoj94\"><div class=\"ssrcss-5h39mo-LinkPostImageContainerInner e1mdyoj92\"><div class=\"ssrcss-fec6qv-ImageWrapper e1mdyoj93\"><span class=\"ssrcss-11kpz0x-Placeholder etlorgc0\"><span><noscript><picture><source sizes=\"(max-width: 399px) 320px, (max-width: 599px) 480px, (max-width: 1007px) 800px, 480px\" srcset=\"https://ichef.bbci.co.uk/ace/standard/320/cpsprodpb/1491/production/_132856250_starlink1.jpg.webp 320w, https://ichef.bbci.co.uk/ace/standard/480/cpsprodpb/1491/production/_132856250_starlink1.jpg.webp 480w, https://ichef.bbci.co.uk/ace/standard/800/cpsprodpb/1491/production/_132856250_starlink1.jpg.webp 800w\" type=\"image/webp\"/><img alt=\"A Ukraine soldier with a Starlink unit\" class=\"ssrcss-evoj7m-Image edrdn950\" height=\"135\" loading=\"lazy\" sizes=\"(max-width: 399px) 320px, (max-width: 599px) 480px, (max-width: 1007px) 800px, 480px\" src=\"https://ichef.bbci.co.uk/ace/standard/480/cpsprodpb/1491/production/_132856250_starlink1.jpg\" srcset=\"https://ichef.bbci.co.uk/ace/standard/320/cpsprodpb/1491/production/_132856250_starlink1.jpg 320w, https://ichef.bbci.co.uk/ace/standard/480/cpsprodpb/1491/production/_132856250_starlink1.jpg 480w, https://ichef.bbci.co.uk/ace/standard/800/cpsprodpb/1491/production/_132856250_starlink1.jpg 800w\" width=\"240\"/></picture></noscript></span></span></div></div></div></div></div>,\n",
       "  <div class=\"ssrcss-i455yb-LinkPost edn7j850\" type=\"article\"><div class=\"ssrcss-1lvoyu5-LinkPostLandscape etwe1e20\"><div class=\"ssrcss-1q6wa5h-LinkPostContent ej9ium95\"><div class=\"ssrcss-1f3bvyz-Stack e1y4nx260\" spacing=\"2\"><a class=\"ssrcss-9haqql-LinkPostLink ej9ium92\" href=\"/news/world-europe-68501755\"><h3 class=\"ssrcss-1a8bwse-StyledHeading e10rt3ze0\"><span aria-hidden=\"true\" class=\"ssrcss-tyy4pv-Timestamp ej9ium93\">15:57 7 March</span><span role=\"text\"><span class=\"visually-hidden ssrcss-1f39n02-VisuallyHidden e16en2lz0\">Millions affected by German air and rail strikes<!-- -->, <!-- -->published at<!-- --> <!-- -->15:57 7 March</span><span aria-hidden=\"true\" class=\"ssrcss-1fq6dkj-LinkPostHeadline ej9ium94\">Millions affected by German air and rail strikes</span></span></h3></a></div><div class=\"ssrcss-wdw1q-Stack e1y4nx260\" spacing=\"4\"><div><ul class=\"ssrcss-17wa8hx-MetadataStripContainer eh44mf03\" role=\"list\"><li class=\"ssrcss-30fcoe-MetadataStripItem eh44mf01\" role=\"listitem\"><div class=\"visually-hidden ssrcss-1f39n02-VisuallyHidden e16en2lz0\">Attribution</div><div class=\"ssrcss-m5j4pi-MetadataContent eh44mf00\"><span class=\"ssrcss-1pvwv4b-MetadataSnippet e4wm5bw3\"><a class=\"ssrcss-1v4aea2-MetadataLink e4wm5bw2\" href=\"/news/world/europe\"><span class=\"ssrcss-1if1g9v-MetadataText e4wm5bw1\">Europe</span></a></span></div></li></ul></div></div></div><div class=\"ssrcss-18p5cn5-LinkPostImageContainer e1mdyoj94\"><div class=\"ssrcss-5h39mo-LinkPostImageContainerInner e1mdyoj92\"><div class=\"ssrcss-fec6qv-ImageWrapper e1mdyoj93\"><span class=\"ssrcss-11kpz0x-Placeholder etlorgc0\"><span><noscript><picture><source sizes=\"(max-width: 399px) 320px, (max-width: 599px) 480px, (max-width: 1007px) 800px, 480px\" srcset=\"https://ichef.bbci.co.uk/ace/standard/320/cpsprodpb/12F9E/production/_132862777_gettyimages-2065485603.jpg.webp 320w, https://ichef.bbci.co.uk/ace/standard/480/cpsprodpb/12F9E/production/_132862777_gettyimages-2065485603.jpg.webp 480w, https://ichef.bbci.co.uk/ace/standard/800/cpsprodpb/12F9E/production/_132862777_gettyimages-2065485603.jpg.webp 800w\" type=\"image/webp\"/><img alt=\"Striking Lufthansa ground crew employees gather at the Lufthansa Aviation Center near the Frankfurt Airport\" class=\"ssrcss-evoj7m-Image edrdn950\" height=\"135\" loading=\"lazy\" sizes=\"(max-width: 399px) 320px, (max-width: 599px) 480px, (max-width: 1007px) 800px, 480px\" src=\"https://ichef.bbci.co.uk/ace/standard/480/cpsprodpb/12F9E/production/_132862777_gettyimages-2065485603.jpg\" srcset=\"https://ichef.bbci.co.uk/ace/standard/320/cpsprodpb/12F9E/production/_132862777_gettyimages-2065485603.jpg 320w, https://ichef.bbci.co.uk/ace/standard/480/cpsprodpb/12F9E/production/_132862777_gettyimages-2065485603.jpg 480w, https://ichef.bbci.co.uk/ace/standard/800/cpsprodpb/12F9E/production/_132862777_gettyimages-2065485603.jpg 800w\" width=\"240\"/></picture></noscript></span></span></div></div></div></div></div>,\n",
       "  <div class=\"ssrcss-i455yb-LinkPost edn7j850\" type=\"article\"><div class=\"ssrcss-1lvoyu5-LinkPostLandscape etwe1e20\"><div class=\"ssrcss-1q6wa5h-LinkPostContent ej9ium95\"><div class=\"ssrcss-1f3bvyz-Stack e1y4nx260\" spacing=\"2\"><a class=\"ssrcss-9haqql-LinkPostLink ej9ium92\" href=\"/news/articles/c164gd1835eo\"><h3 class=\"ssrcss-1a8bwse-StyledHeading e10rt3ze0\"><span aria-hidden=\"true\" class=\"ssrcss-tyy4pv-Timestamp ej9ium93\">15:51 7 March</span><span role=\"text\"><span class=\"visually-hidden ssrcss-1f39n02-VisuallyHidden e16en2lz0\">Irish president returns home after hospital stay<!-- -->, <!-- -->published at<!-- --> <!-- -->15:51 7 March</span><span aria-hidden=\"true\" class=\"ssrcss-1fq6dkj-LinkPostHeadline ej9ium94\">Irish president returns home after hospital stay</span></span></h3></a></div><div class=\"ssrcss-wdw1q-Stack e1y4nx260\" spacing=\"4\"><div><ul class=\"ssrcss-17wa8hx-MetadataStripContainer eh44mf03\" role=\"list\"><li class=\"ssrcss-30fcoe-MetadataStripItem eh44mf01\" role=\"listitem\"><div class=\"visually-hidden ssrcss-1f39n02-VisuallyHidden e16en2lz0\">Attribution</div><div class=\"ssrcss-m5j4pi-MetadataContent eh44mf00\"><span class=\"ssrcss-1pvwv4b-MetadataSnippet e4wm5bw3\"><a class=\"ssrcss-1v4aea2-MetadataLink e4wm5bw2\" href=\"/news/world/europe\"><span class=\"ssrcss-1if1g9v-MetadataText e4wm5bw1\">Europe</span></a></span></div></li></ul></div></div></div><div class=\"ssrcss-18p5cn5-LinkPostImageContainer e1mdyoj94\"><div class=\"ssrcss-5h39mo-LinkPostImageContainerInner e1mdyoj92\"><div class=\"ssrcss-fec6qv-ImageWrapper e1mdyoj93\"><span class=\"ssrcss-11kpz0x-Placeholder etlorgc0\"><span><noscript><img alt=\"President Higgins pictured at a Six Nations rugby match in February\" class=\"ssrcss-evoj7m-Image edrdn950\" height=\"135\" loading=\"lazy\" sizes=\"(max-width: 399px) 320px, (max-width: 599px) 480px, (max-width: 1007px) 800px, 480px\" src=\"https://ichef.bbci.co.uk/news/480/cpsprodpb/7471/live/420cd120-dc98-11ee-bff9-3348ac7d2e4e.jpg\" srcset=\"https://ichef.bbci.co.uk/news/320/cpsprodpb/7471/live/420cd120-dc98-11ee-bff9-3348ac7d2e4e.jpg 320w, https://ichef.bbci.co.uk/news/480/cpsprodpb/7471/live/420cd120-dc98-11ee-bff9-3348ac7d2e4e.jpg 480w, https://ichef.bbci.co.uk/news/800/cpsprodpb/7471/live/420cd120-dc98-11ee-bff9-3348ac7d2e4e.jpg 800w\" width=\"240\"/></noscript></span></span></div></div></div></div></div>,\n",
       "  <div class=\"ssrcss-i455yb-LinkPost edn7j850\" type=\"article\"><div class=\"ssrcss-1lvoyu5-LinkPostLandscape etwe1e20\"><div class=\"ssrcss-1q6wa5h-LinkPostContent ej9ium95\"><div class=\"ssrcss-1f3bvyz-Stack e1y4nx260\" spacing=\"2\"><a class=\"ssrcss-9haqql-LinkPostLink ej9ium92\" href=\"/news/world-europe-68504715\"><h3 class=\"ssrcss-1a8bwse-StyledHeading e10rt3ze0\"><span aria-hidden=\"true\" class=\"ssrcss-tyy4pv-Timestamp ej9ium93\">15:49 7 March</span><span role=\"text\"><span class=\"visually-hidden ssrcss-1f39n02-VisuallyHidden e16en2lz0\">French MPs back compensating victims of anti-gay law<!-- -->, <!-- -->published at<!-- --> <!-- -->15:49 7 March</span><span aria-hidden=\"true\" class=\"ssrcss-1fq6dkj-LinkPostHeadline ej9ium94\">French MPs back compensating victims of anti-gay law</span></span></h3></a></div><div class=\"ssrcss-wdw1q-Stack e1y4nx260\" spacing=\"4\"><div><ul class=\"ssrcss-17wa8hx-MetadataStripContainer eh44mf03\" role=\"list\"><li class=\"ssrcss-30fcoe-MetadataStripItem eh44mf01\" role=\"listitem\"><div class=\"visually-hidden ssrcss-1f39n02-VisuallyHidden e16en2lz0\">Attribution</div><div class=\"ssrcss-m5j4pi-MetadataContent eh44mf00\"><span class=\"ssrcss-1pvwv4b-MetadataSnippet e4wm5bw3\"><a class=\"ssrcss-1v4aea2-MetadataLink e4wm5bw2\" href=\"/news/world/europe\"><span class=\"ssrcss-1if1g9v-MetadataText e4wm5bw1\">Europe</span></a></span></div></li></ul></div></div></div><div class=\"ssrcss-18p5cn5-LinkPostImageContainer e1mdyoj94\"><div class=\"ssrcss-5h39mo-LinkPostImageContainerInner e1mdyoj92\"><div class=\"ssrcss-fec6qv-ImageWrapper e1mdyoj93\"><span class=\"ssrcss-11kpz0x-Placeholder etlorgc0\"><span><noscript><picture><source sizes=\"(max-width: 399px) 320px, (max-width: 599px) 480px, (max-width: 1007px) 800px, 480px\" srcset=\"https://ichef.bbci.co.uk/ace/standard/320/cpsprodpb/15A96/production/_132862788_mediaitem132862787.jpg.webp 320w, https://ichef.bbci.co.uk/ace/standard/480/cpsprodpb/15A96/production/_132862788_mediaitem132862787.jpg.webp 480w, https://ichef.bbci.co.uk/ace/standard/800/cpsprodpb/15A96/production/_132862788_mediaitem132862787.jpg.webp 800w\" type=\"image/webp\"/><img alt=\"Pride Parade 2022 in Toulouse\" class=\"ssrcss-evoj7m-Image edrdn950\" height=\"135\" loading=\"lazy\" sizes=\"(max-width: 399px) 320px, (max-width: 599px) 480px, (max-width: 1007px) 800px, 480px\" src=\"https://ichef.bbci.co.uk/ace/standard/480/cpsprodpb/15A96/production/_132862788_mediaitem132862787.jpg\" srcset=\"https://ichef.bbci.co.uk/ace/standard/320/cpsprodpb/15A96/production/_132862788_mediaitem132862787.jpg 320w, https://ichef.bbci.co.uk/ace/standard/480/cpsprodpb/15A96/production/_132862788_mediaitem132862787.jpg 480w, https://ichef.bbci.co.uk/ace/standard/800/cpsprodpb/15A96/production/_132862788_mediaitem132862787.jpg 800w\" width=\"240\"/></picture></noscript></span></span></div></div></div></div></div>,\n",
       "  <div class=\"ssrcss-i455yb-LinkPost edn7j850\" type=\"article\"><div class=\"ssrcss-1lvoyu5-LinkPostLandscape etwe1e20\"><div class=\"ssrcss-1q6wa5h-LinkPostContent ej9ium95\"><div class=\"ssrcss-1f3bvyz-Stack e1y4nx260\" spacing=\"2\"><a class=\"ssrcss-9haqql-LinkPostLink ej9ium92\" href=\"/news/technology-68500945\"><h3 class=\"ssrcss-1a8bwse-StyledHeading e10rt3ze0\"><span aria-hidden=\"true\" class=\"ssrcss-tyy4pv-Timestamp ej9ium93\">14:34 7 March</span><span role=\"text\"><span class=\"visually-hidden ssrcss-1f39n02-VisuallyHidden e16en2lz0\">Pornhub challenges EU over online content rules<!-- -->, <!-- -->published at<!-- --> <!-- -->14:34 7 March</span><span aria-hidden=\"true\" class=\"ssrcss-1fq6dkj-LinkPostHeadline ej9ium94\">Pornhub challenges EU over online content rules</span></span></h3></a></div><div class=\"ssrcss-wdw1q-Stack e1y4nx260\" spacing=\"4\"><div><ul class=\"ssrcss-17wa8hx-MetadataStripContainer eh44mf03\" role=\"list\"><li class=\"ssrcss-30fcoe-MetadataStripItem eh44mf01\" role=\"listitem\"><div class=\"visually-hidden ssrcss-1f39n02-VisuallyHidden e16en2lz0\">Attribution</div><div class=\"ssrcss-m5j4pi-MetadataContent eh44mf00\"><span class=\"ssrcss-1pvwv4b-MetadataSnippet e4wm5bw3\"><a class=\"ssrcss-1v4aea2-MetadataLink e4wm5bw2\" href=\"/news/technology\"><span class=\"ssrcss-1if1g9v-MetadataText e4wm5bw1\">Technology</span></a></span></div></li></ul></div></div></div><div class=\"ssrcss-18p5cn5-LinkPostImageContainer e1mdyoj94\"><div class=\"ssrcss-5h39mo-LinkPostImageContainerInner e1mdyoj92\"><div class=\"ssrcss-fec6qv-ImageWrapper e1mdyoj93\"><span class=\"ssrcss-11kpz0x-Placeholder etlorgc0\"><span><noscript><picture><source sizes=\"(max-width: 399px) 320px, (max-width: 599px) 480px, (max-width: 1007px) 800px, 480px\" srcset=\"https://ichef.bbci.co.uk/ace/standard/320/cpsprodpb/037F/production/_132859800_gettyimages-1878229101.jpg.webp 320w, https://ichef.bbci.co.uk/ace/standard/480/cpsprodpb/037F/production/_132859800_gettyimages-1878229101.jpg.webp 480w, https://ichef.bbci.co.uk/ace/standard/800/cpsprodpb/037F/production/_132859800_gettyimages-1878229101.jpg.webp 800w\" type=\"image/webp\"/><img alt=\"Pornhub with European stars in background\" class=\"ssrcss-evoj7m-Image edrdn950\" height=\"135\" loading=\"lazy\" sizes=\"(max-width: 399px) 320px, (max-width: 599px) 480px, (max-width: 1007px) 800px, 480px\" src=\"https://ichef.bbci.co.uk/ace/standard/480/cpsprodpb/037F/production/_132859800_gettyimages-1878229101.jpg\" srcset=\"https://ichef.bbci.co.uk/ace/standard/320/cpsprodpb/037F/production/_132859800_gettyimages-1878229101.jpg 320w, https://ichef.bbci.co.uk/ace/standard/480/cpsprodpb/037F/production/_132859800_gettyimages-1878229101.jpg 480w, https://ichef.bbci.co.uk/ace/standard/800/cpsprodpb/037F/production/_132859800_gettyimages-1878229101.jpg 800w\" width=\"240\"/></picture></noscript></span></span></div></div></div></div></div>,\n",
       "  <div class=\"ssrcss-i455yb-LinkPost edn7j850\" type=\"article\"><div class=\"ssrcss-1lvoyu5-LinkPostLandscape etwe1e20\"><div class=\"ssrcss-1q6wa5h-LinkPostContent ej9ium95\"><div class=\"ssrcss-1f3bvyz-Stack e1y4nx260\" spacing=\"2\"><a class=\"ssrcss-9haqql-LinkPostLink ej9ium92\" href=\"/news/uk-england-sussex-68490168\"><h3 class=\"ssrcss-1a8bwse-StyledHeading e10rt3ze0\"><span aria-hidden=\"true\" class=\"ssrcss-tyy4pv-Timestamp ej9ium93\">13:49 7 March</span><span role=\"text\"><span class=\"visually-hidden ssrcss-1f39n02-VisuallyHidden e16en2lz0\">Albion fans in Rome on latest Europa League trek<!-- -->, <!-- -->published at<!-- --> <!-- -->13:49 7 March</span><span aria-hidden=\"true\" class=\"ssrcss-1fq6dkj-LinkPostHeadline ej9ium94\">Albion fans in Rome on latest Europa League trek</span></span></h3></a></div><div class=\"ssrcss-wdw1q-Stack e1y4nx260\" spacing=\"4\"><div><ul class=\"ssrcss-17wa8hx-MetadataStripContainer eh44mf03\" role=\"list\"><li class=\"ssrcss-30fcoe-MetadataStripItem eh44mf01\" role=\"listitem\"><div class=\"visually-hidden ssrcss-1f39n02-VisuallyHidden e16en2lz0\">Attribution</div><div class=\"ssrcss-m5j4pi-MetadataContent eh44mf00\"><span class=\"ssrcss-1pvwv4b-MetadataSnippet e4wm5bw3\"><a class=\"ssrcss-1v4aea2-MetadataLink e4wm5bw2\" href=\"/news/england/sussex\"><span class=\"ssrcss-1if1g9v-MetadataText e4wm5bw1\">Sussex</span></a></span></div></li></ul></div></div></div><div class=\"ssrcss-18p5cn5-LinkPostImageContainer e1mdyoj94\"><div class=\"ssrcss-5h39mo-LinkPostImageContainerInner e1mdyoj92\"><div class=\"ssrcss-fec6qv-ImageWrapper e1mdyoj93\"><span class=\"ssrcss-11kpz0x-Placeholder etlorgc0\"><span><noscript><picture><source sizes=\"(max-width: 399px) 320px, (max-width: 599px) 480px, (max-width: 1007px) 800px, 480px\" srcset=\"https://ichef.bbci.co.uk/ace/standard/320/cpsprodpb/B226/production/_132860654_7march-andy.jpg.webp 320w, https://ichef.bbci.co.uk/ace/standard/480/cpsprodpb/B226/production/_132860654_7march-andy.jpg.webp 480w, https://ichef.bbci.co.uk/ace/standard/800/cpsprodpb/B226/production/_132860654_7march-andy.jpg.webp 800w\" type=\"image/webp\"/><img alt=\"Andy Cooper and Tom Gilligan in Rome\" class=\"ssrcss-evoj7m-Image edrdn950\" height=\"135\" loading=\"lazy\" sizes=\"(max-width: 399px) 320px, (max-width: 599px) 480px, (max-width: 1007px) 800px, 480px\" src=\"https://ichef.bbci.co.uk/ace/standard/480/cpsprodpb/B226/production/_132860654_7march-andy.jpg\" srcset=\"https://ichef.bbci.co.uk/ace/standard/320/cpsprodpb/B226/production/_132860654_7march-andy.jpg 320w, https://ichef.bbci.co.uk/ace/standard/480/cpsprodpb/B226/production/_132860654_7march-andy.jpg 480w, https://ichef.bbci.co.uk/ace/standard/800/cpsprodpb/B226/production/_132860654_7march-andy.jpg 800w\" width=\"240\"/></picture></noscript></span></span></div></div></div></div></div>,\n",
       "  <div class=\"ssrcss-i455yb-LinkPost edn7j850\" type=\"article\"><div class=\"ssrcss-1lvoyu5-LinkPostLandscape etwe1e20\"><div class=\"ssrcss-1q6wa5h-LinkPostContent ej9ium95\"><div class=\"ssrcss-1f3bvyz-Stack e1y4nx260\" spacing=\"2\"><a class=\"ssrcss-9haqql-LinkPostLink ej9ium92\" href=\"/news/world-europe-68488828\"><h3 class=\"ssrcss-1a8bwse-StyledHeading e10rt3ze0\"><span aria-hidden=\"true\" class=\"ssrcss-tyy4pv-Timestamp ej9ium93\">13:07 7 March</span><span role=\"text\"><span class=\"visually-hidden ssrcss-1f39n02-VisuallyHidden e16en2lz0\">Confusion and debate ahead of Irish referendums<!-- -->, <!-- -->published at<!-- --> <!-- -->13:07 7 March</span><span aria-hidden=\"true\" class=\"ssrcss-1fq6dkj-LinkPostHeadline ej9ium94\">Confusion and debate ahead of Irish referendums</span></span></h3></a></div><div class=\"ssrcss-wdw1q-Stack e1y4nx260\" spacing=\"4\"><div><ul class=\"ssrcss-17wa8hx-MetadataStripContainer eh44mf03\" role=\"list\"><li class=\"ssrcss-30fcoe-MetadataStripItem eh44mf01\" role=\"listitem\"><div class=\"visually-hidden ssrcss-1f39n02-VisuallyHidden e16en2lz0\">Attribution</div><div class=\"ssrcss-m5j4pi-MetadataContent eh44mf00\"><span class=\"ssrcss-1pvwv4b-MetadataSnippet e4wm5bw3\"><a class=\"ssrcss-1v4aea2-MetadataLink e4wm5bw2\" href=\"/news/world/europe\"><span class=\"ssrcss-1if1g9v-MetadataText e4wm5bw1\">Europe</span></a></span></div></li></ul></div></div></div><div class=\"ssrcss-18p5cn5-LinkPostImageContainer e1mdyoj94\"><div class=\"ssrcss-5h39mo-LinkPostImageContainerInner e1mdyoj92\"><div class=\"ssrcss-fec6qv-ImageWrapper e1mdyoj93\"><span class=\"ssrcss-11kpz0x-Placeholder etlorgc0\"><span><noscript><picture><source sizes=\"(max-width: 399px) 320px, (max-width: 599px) 480px, (max-width: 1007px) 800px, 480px\" srcset=\"https://ichef.bbci.co.uk/ace/standard/320/cpsprodpb/15333/production/_132853868_gettyimages-1043661664.jpg.webp 320w, https://ichef.bbci.co.uk/ace/standard/480/cpsprodpb/15333/production/_132853868_gettyimages-1043661664.jpg.webp 480w, https://ichef.bbci.co.uk/ace/standard/800/cpsprodpb/15333/production/_132853868_gettyimages-1043661664.jpg.webp 800w\" type=\"image/webp\"/><img alt=\"Yes or No\" class=\"ssrcss-evoj7m-Image edrdn950\" height=\"135\" loading=\"lazy\" sizes=\"(max-width: 399px) 320px, (max-width: 599px) 480px, (max-width: 1007px) 800px, 480px\" src=\"https://ichef.bbci.co.uk/ace/standard/480/cpsprodpb/15333/production/_132853868_gettyimages-1043661664.jpg\" srcset=\"https://ichef.bbci.co.uk/ace/standard/320/cpsprodpb/15333/production/_132853868_gettyimages-1043661664.jpg 320w, https://ichef.bbci.co.uk/ace/standard/480/cpsprodpb/15333/production/_132853868_gettyimages-1043661664.jpg 480w, https://ichef.bbci.co.uk/ace/standard/800/cpsprodpb/15333/production/_132853868_gettyimages-1043661664.jpg 800w\" width=\"240\"/></picture></noscript></span></span></div></div></div></div></div>,\n",
       "  <div class=\"ssrcss-i455yb-LinkPost edn7j850\" type=\"article\"><div class=\"ssrcss-1lvoyu5-LinkPostLandscape etwe1e20\"><div class=\"ssrcss-1q6wa5h-LinkPostContent ej9ium95\"><div class=\"ssrcss-1f3bvyz-Stack e1y4nx260\" spacing=\"2\"><a class=\"ssrcss-9haqql-LinkPostLink ej9ium92\" href=\"/news/world-europe-68493215\"><h3 class=\"ssrcss-1a8bwse-StyledHeading e10rt3ze0\"><span aria-hidden=\"true\" class=\"ssrcss-tyy4pv-Timestamp ej9ium93\">00:10 7 March</span><span role=\"text\"><span class=\"visually-hidden ssrcss-1f39n02-VisuallyHidden e16en2lz0\">'We know what's coming': East Ukraine braces for Russian advance<!-- -->, <!-- -->published at<!-- --> <!-- -->00:10 7 March</span><span aria-hidden=\"true\" class=\"ssrcss-1fq6dkj-LinkPostHeadline ej9ium94\">'We know what's coming': East Ukraine braces for Russian advance</span></span></h3></a></div><div class=\"ssrcss-wdw1q-Stack e1y4nx260\" spacing=\"4\"><div><ul class=\"ssrcss-17wa8hx-MetadataStripContainer eh44mf03\" role=\"list\"><li class=\"ssrcss-30fcoe-MetadataStripItem eh44mf01\" role=\"listitem\"><div class=\"visually-hidden ssrcss-1f39n02-VisuallyHidden e16en2lz0\">Attribution</div><div class=\"ssrcss-m5j4pi-MetadataContent eh44mf00\"><span class=\"ssrcss-1pvwv4b-MetadataSnippet e4wm5bw3\"><a class=\"ssrcss-1v4aea2-MetadataLink e4wm5bw2\" href=\"/news/world/europe\"><span class=\"ssrcss-1if1g9v-MetadataText e4wm5bw1\">Europe</span></a></span></div></li></ul></div></div></div><div class=\"ssrcss-18p5cn5-LinkPostImageContainer e1mdyoj94\"><div class=\"ssrcss-5h39mo-LinkPostImageContainerInner e1mdyoj92\"><div class=\"ssrcss-fec6qv-ImageWrapper e1mdyoj93\"><span class=\"ssrcss-11kpz0x-Placeholder etlorgc0\"><span><noscript><picture><source sizes=\"(max-width: 399px) 320px, (max-width: 599px) 480px, (max-width: 1007px) 800px, 480px\" srcset=\"https://ichef.bbci.co.uk/ace/standard/320/cpsprodpb/B919/production/_132858374_kos-stationhug.png.webp 320w, https://ichef.bbci.co.uk/ace/standard/480/cpsprodpb/B919/production/_132858374_kos-stationhug.png.webp 480w, https://ichef.bbci.co.uk/ace/standard/800/cpsprodpb/B919/production/_132858374_kos-stationhug.png.webp 800w\" type=\"image/webp\"/><img alt=\"Two people hug at Kramatorsk train station\" class=\"ssrcss-evoj7m-Image edrdn950\" height=\"135\" loading=\"lazy\" sizes=\"(max-width: 399px) 320px, (max-width: 599px) 480px, (max-width: 1007px) 800px, 480px\" src=\"https://ichef.bbci.co.uk/ace/standard/480/cpsprodpb/B919/production/_132858374_kos-stationhug.png\" srcset=\"https://ichef.bbci.co.uk/ace/standard/320/cpsprodpb/B919/production/_132858374_kos-stationhug.png 320w, https://ichef.bbci.co.uk/ace/standard/480/cpsprodpb/B919/production/_132858374_kos-stationhug.png 480w, https://ichef.bbci.co.uk/ace/standard/800/cpsprodpb/B919/production/_132858374_kos-stationhug.png 800w\" width=\"240\"/></picture></noscript></span></span></div></div></div></div></div>,\n",
       "  <div class=\"ssrcss-i455yb-LinkPost edn7j850\" type=\"article\"><div class=\"ssrcss-1lvoyu5-LinkPostLandscape etwe1e20\"><div class=\"ssrcss-1q6wa5h-LinkPostContent ej9ium95\"><div class=\"ssrcss-1f3bvyz-Stack e1y4nx260\" spacing=\"2\"><a class=\"ssrcss-9haqql-LinkPostLink ej9ium92\" href=\"/news/world-us-canada-68495705\"><h3 class=\"ssrcss-1a8bwse-StyledHeading e10rt3ze0\"><span aria-hidden=\"true\" class=\"ssrcss-tyy4pv-Timestamp ej9ium93\">21:55 6 March</span><span role=\"text\"><span class=\"visually-hidden ssrcss-1f39n02-VisuallyHidden e16en2lz0\">Doritos cuts ties with trans influencer over posts<!-- -->, <!-- -->published at<!-- --> <!-- -->21:55 6 March</span><span aria-hidden=\"true\" class=\"ssrcss-1fq6dkj-LinkPostHeadline ej9ium94\">Doritos cuts ties with trans influencer over posts</span></span></h3></a></div><div class=\"ssrcss-wdw1q-Stack e1y4nx260\" spacing=\"4\"><div><ul class=\"ssrcss-17wa8hx-MetadataStripContainer eh44mf03\" role=\"list\"><li class=\"ssrcss-30fcoe-MetadataStripItem eh44mf01\" role=\"listitem\"><div class=\"visually-hidden ssrcss-1f39n02-VisuallyHidden e16en2lz0\">Attribution</div><div class=\"ssrcss-m5j4pi-MetadataContent eh44mf00\"><span class=\"ssrcss-1pvwv4b-MetadataSnippet e4wm5bw3\"><a class=\"ssrcss-1v4aea2-MetadataLink e4wm5bw2\" href=\"/news/world/us_and_canada\"><span class=\"ssrcss-1if1g9v-MetadataText e4wm5bw1\">US &amp; Canada</span></a></span></div></li></ul></div></div></div><div class=\"ssrcss-18p5cn5-LinkPostImageContainer e1mdyoj94\"><div class=\"ssrcss-5h39mo-LinkPostImageContainerInner e1mdyoj92\"><div class=\"ssrcss-fec6qv-ImageWrapper e1mdyoj93\"><span class=\"ssrcss-11kpz0x-Placeholder etlorgc0\"><span><noscript><picture><source sizes=\"(max-width: 399px) 320px, (max-width: 599px) 480px, (max-width: 1007px) 800px, 480px\" srcset=\"https://ichef.bbci.co.uk/ace/standard/320/cpsprodpb/FB09/production/_132856246_samanthahudson2.jpg.webp 320w, https://ichef.bbci.co.uk/ace/standard/480/cpsprodpb/FB09/production/_132856246_samanthahudson2.jpg.webp 480w, https://ichef.bbci.co.uk/ace/standard/800/cpsprodpb/FB09/production/_132856246_samanthahudson2.jpg.webp 800w\" type=\"image/webp\"/><img alt=\"Transgender influencer Samantha Hudson\" class=\"ssrcss-evoj7m-Image edrdn950\" height=\"135\" loading=\"lazy\" sizes=\"(max-width: 399px) 320px, (max-width: 599px) 480px, (max-width: 1007px) 800px, 480px\" src=\"https://ichef.bbci.co.uk/ace/standard/480/cpsprodpb/FB09/production/_132856246_samanthahudson2.jpg\" srcset=\"https://ichef.bbci.co.uk/ace/standard/320/cpsprodpb/FB09/production/_132856246_samanthahudson2.jpg 320w, https://ichef.bbci.co.uk/ace/standard/480/cpsprodpb/FB09/production/_132856246_samanthahudson2.jpg 480w, https://ichef.bbci.co.uk/ace/standard/800/cpsprodpb/FB09/production/_132856246_samanthahudson2.jpg 800w\" width=\"240\"/></picture></noscript></span></span></div></div></div></div></div>,\n",
       "  <div class=\"ssrcss-i455yb-LinkPost edn7j850\" type=\"article\"><div class=\"ssrcss-1lvoyu5-LinkPostLandscape etwe1e20\"><div class=\"ssrcss-1q6wa5h-LinkPostContent ej9ium95\"><div class=\"ssrcss-1f3bvyz-Stack e1y4nx260\" spacing=\"2\"><a class=\"ssrcss-9haqql-LinkPostLink ej9ium92\" href=\"/news/uk-england-kent-68495794\"><h3 class=\"ssrcss-1a8bwse-StyledHeading e10rt3ze0\"><span aria-hidden=\"true\" class=\"ssrcss-tyy4pv-Timestamp ej9ium93\">18:24 6 March</span><span role=\"text\"><span class=\"visually-hidden ssrcss-1f39n02-VisuallyHidden e16en2lz0\">EU border system should be delayed - P&amp;O director<!-- -->, <!-- -->published at<!-- --> <!-- -->18:24 6 March</span><span aria-hidden=\"true\" class=\"ssrcss-1fq6dkj-LinkPostHeadline ej9ium94\">EU border system should be delayed - P&amp;O director</span></span></h3></a></div><div class=\"ssrcss-wdw1q-Stack e1y4nx260\" spacing=\"4\"><div><ul class=\"ssrcss-17wa8hx-MetadataStripContainer eh44mf03\" role=\"list\"><li class=\"ssrcss-30fcoe-MetadataStripItem eh44mf01\" role=\"listitem\"><div class=\"visually-hidden ssrcss-1f39n02-VisuallyHidden e16en2lz0\">Attribution</div><div class=\"ssrcss-m5j4pi-MetadataContent eh44mf00\"><span class=\"ssrcss-1pvwv4b-MetadataSnippet e4wm5bw3\"><a class=\"ssrcss-1v4aea2-MetadataLink e4wm5bw2\" href=\"/news/england/kent\"><span class=\"ssrcss-1if1g9v-MetadataText e4wm5bw1\">Kent</span></a></span></div></li></ul></div></div></div><div class=\"ssrcss-18p5cn5-LinkPostImageContainer e1mdyoj94\"><div class=\"ssrcss-5h39mo-LinkPostImageContainerInner e1mdyoj92\"><div class=\"ssrcss-fec6qv-ImageWrapper e1mdyoj93\"><span class=\"ssrcss-11kpz0x-Placeholder etlorgc0\"><span><noscript><picture><source sizes=\"(max-width: 399px) 320px, (max-width: 599px) 480px, (max-width: 1007px) 800px, 480px\" srcset=\"https://ichef.bbci.co.uk/ace/standard/320/cpsprodpb/15C15/production/_126890198_doverport_reuters_hi077610376.jpg.webp 320w, https://ichef.bbci.co.uk/ace/standard/480/cpsprodpb/15C15/production/_126890198_doverport_reuters_hi077610376.jpg.webp 480w, https://ichef.bbci.co.uk/ace/standard/800/cpsprodpb/15C15/production/_126890198_doverport_reuters_hi077610376.jpg.webp 800w\" type=\"image/webp\"/><img alt=\"Cars queuing at Dover Port\" class=\"ssrcss-evoj7m-Image edrdn950\" height=\"135\" loading=\"lazy\" sizes=\"(max-width: 399px) 320px, (max-width: 599px) 480px, (max-width: 1007px) 800px, 480px\" src=\"https://ichef.bbci.co.uk/ace/standard/480/cpsprodpb/15C15/production/_126890198_doverport_reuters_hi077610376.jpg\" srcset=\"https://ichef.bbci.co.uk/ace/standard/320/cpsprodpb/15C15/production/_126890198_doverport_reuters_hi077610376.jpg 320w, https://ichef.bbci.co.uk/ace/standard/480/cpsprodpb/15C15/production/_126890198_doverport_reuters_hi077610376.jpg 480w, https://ichef.bbci.co.uk/ace/standard/800/cpsprodpb/15C15/production/_126890198_doverport_reuters_hi077610376.jpg 800w\" width=\"240\"/></picture></noscript></span></span></div></div></div></div></div>],\n",
       " ['/news/world-europe-68509301',\n",
       "  '/news/world-europe-68505522',\n",
       "  '/news/world-europe-68479836',\n",
       "  '/news/world-europe-68484650',\n",
       "  '/news/technology-68512156',\n",
       "  '/news/world-europe-68493215',\n",
       "  '/news/world-europe-68506937',\n",
       "  '/news/world-europe-68501755',\n",
       "  '/news/world-europe-68504715',\n",
       "  '/news/technology-68500945',\n",
       "  '/sport/tennis/68505734',\n",
       "  '/news/uk-england-sussex-68501921',\n",
       "  '/news/science-environment-68486462',\n",
       "  '/news/world-europe-68479830',\n",
       "  '/news/world-europe-68471119',\n",
       "  '/news/uk-68347415',\n",
       "  '/news/world-europe-68456231',\n",
       "  '/news/world-europe-68509301',\n",
       "  '/news/articles/clkm9193xzgo',\n",
       "  '/news/world-middle-east-68511606',\n",
       "  '/news/technology-68512156',\n",
       "  '/news/world-europe-68484650',\n",
       "  '/news/articles/cn0dwnx9kneo',\n",
       "  '/news/world-europe-68479836',\n",
       "  '/news/world-europe-68505522',\n",
       "  '/news/world-europe-68506937',\n",
       "  '/news/entertainment-arts-68505050',\n",
       "  '/news/world-europe-68506223',\n",
       "  '/news/world-us-canada-68495708',\n",
       "  '/news/world-europe-68501755',\n",
       "  '/news/articles/c164gd1835eo',\n",
       "  '/news/world-europe-68504715',\n",
       "  '/news/technology-68500945',\n",
       "  '/news/uk-england-sussex-68490168',\n",
       "  '/news/world-europe-68488828',\n",
       "  '/news/world-europe-68493215',\n",
       "  '/news/world-us-canada-68495705',\n",
       "  '/news/uk-england-kent-68495794'])"
      ]
     },
     "execution_count": 86,
     "metadata": {},
     "output_type": "execute_result"
    }
   ],
   "source": [
    "def extract_article_links(contents):\n",
    "\n",
    "    soup = BeautifulSoup(contents, 'html.parser')\n",
    "    \n",
    "    articles = soup.find_all('div', attrs={'type': 'article'})\n",
    "\n",
    "    article_links = []\n",
    "    \n",
    "    for article in articles:\n",
    "        link = article.find('a')['href']\n",
    "        \n",
    "        article_links.append(link)\n",
    "\n",
    "    return articles, article_links\n",
    "\n",
    "articles, article_links = extract_article_links(contents)\n",
    "\n",
    "print(len(articles))\n",
    "print(len(article_links))\n",
    "extract_article_links(contents)"
   ]
  },
  {
   "cell_type": "markdown",
   "metadata": {},
   "source": [
    "### 2.4. Scrape Multiple Pages"
   ]
  },
  {
   "cell_type": "code",
   "execution_count": 87,
   "metadata": {},
   "outputs": [
    {
     "name": "stdout",
     "output_type": "stream",
     "text": [
      "Number of pages available in the 'Europe' section: 42\n",
      "Number of article links from all pages in 'Europe' section: 904\n"
     ]
    }
   ],
   "source": [
    "def all_article_links(soup):\n",
    "    max_pages = soup.find_all('div', class_=\"ssrcss-3vkeha-StyledButtonContent e1kcrsdk1\")[-2]\n",
    "    max_page_number = int(max_pages.text.strip())\n",
    "\n",
    "    all_links = []\n",
    "\n",
    "    for page_number in range(1, max_page_number + 1):\n",
    "        page_url = f\"https://www.bbc.com/news/world/europe?page={page_number}\"\n",
    "        response = requests.get(page_url)\n",
    "        contents = response.text\n",
    "        soup = BeautifulSoup(contents, 'html.parser')\n",
    "        articles = soup.find_all('div', attrs={'type': 'article'})\n",
    "        links = [article.find('a')['href'] for article in articles]\n",
    "        all_links.extend(links)\n",
    "    return max_page_number, all_links\n",
    "\n",
    "response = requests.get('https://www.bbc.com/news/world/europe')\n",
    "contents = response.text\n",
    "soup = BeautifulSoup(contents, 'html.parser')\n",
    "max_page_number, links = all_article_links(soup)\n",
    "\n",
    "print(\"Number of pages available in the 'Europe' section:\", max_page_number)\n",
    "print(\"Number of article links from all pages in 'Europe' section:\", len(links))"
   ]
  },
  {
   "cell_type": "markdown",
   "metadata": {},
   "source": [
    "### 2.5. Expand the Scope"
   ]
  },
  {
   "cell_type": "code",
   "execution_count": 88,
   "metadata": {},
   "outputs": [
    {
     "name": "stdout",
     "output_type": "stream",
     "text": [
      "Number of pages available in the 'Europe' section: 42\n",
      "Number of article links from all pages in 'Europe' section: 904\n",
      "Number of pages available in the 'Australia' section: 42\n",
      "Number of article links from all pages in 'Australia' section: 827\n",
      "Number of pages available in the 'Asia' section: 42\n",
      "Number of article links from all pages in 'Asia' section: 907\n",
      "Number of pages available in the 'Africa' section: 25\n",
      "Number of article links from all pages in 'Africa' section: 489\n",
      "Number of pages available in the 'Latin America' section: 42\n",
      "Number of article links from all pages in 'Latin America' section: 845\n",
      "Number of pages available in the 'Middle East' section: 41\n",
      "Number of article links from all pages in 'Middle East' section: 818\n",
      "Total number of article links across all regions: 4790\n",
      "Total number of pages across all regions: 234\n"
     ]
    }
   ],
   "source": [
    "def all_article_links(region):\n",
    "    region_urls = {\n",
    "        'Europe': 'https://www.bbc.com/news/world/europe',\n",
    "        'Australia': 'https://www.bbc.com/news/world/australia',\n",
    "        'Asia': 'https://www.bbc.com/news/world/asia',\n",
    "        'Africa': 'https://www.bbc.com/news/world/africa',\n",
    "        'Latin America': 'https://www.bbc.com/news/world/latin_america',\n",
    "        'Middle East': 'https://www.bbc.com/news/world/middle_east'\n",
    "    }\n",
    "\n",
    "    region_url = region_urls.get(region)\n",
    "\n",
    "    response = requests.get(region_url)\n",
    "    contents = response.text\n",
    "    soup = BeautifulSoup(contents, 'html.parser')\n",
    "    max_pages = soup.find_all('div', class_=\"ssrcss-3vkeha-StyledButtonContent e1kcrsdk1\")[-2]\n",
    "    max_page_number = int(max_pages.text.strip())\n",
    "\n",
    "    all_links = []\n",
    "\n",
    "    for page_number in range(1, max_page_number + 1):\n",
    "        page_url = f\"{region_url}?page={page_number}\"\n",
    "        response = requests.get(page_url)\n",
    "        contents = response.text\n",
    "        soup = BeautifulSoup(contents, 'html.parser')\n",
    "        articles = soup.find_all('div', attrs={'type': 'article'})\n",
    "        links = [article.find('a')['href'] for article in articles]\n",
    "        all_links.extend(links)\n",
    "\n",
    "    return max_page_number, all_links\n",
    "\n",
    "regions = ['Europe', 'Australia', 'Asia', 'Africa', 'Latin America', 'Middle East']\n",
    "\n",
    "total_links = []\n",
    "total_pages = 0\n",
    "\n",
    "for region in regions:\n",
    "    max_page_number, links = all_article_links(region)\n",
    "    if max_page_number is not None:\n",
    "        print(f\"Number of pages available in the '{region}' section:\", max_page_number)\n",
    "        print(f\"Number of article links from all pages in '{region}' section:\", len(links))\n",
    "        total_links.extend(links)\n",
    "        total_pages += max_page_number\n",
    "\n",
    "print(\"Total number of article links across all regions:\", len(total_links))\n",
    "print(\"Total number of pages across all regions:\", total_pages)"
   ]
  },
  {
   "cell_type": "markdown",
   "metadata": {},
   "source": [
    "#### 2.6. Save Results"
   ]
  },
  {
   "cell_type": "code",
   "execution_count": 89,
   "metadata": {},
   "outputs": [
    {
     "name": "stdout",
     "output_type": "stream",
     "text": [
      "Article links saved to: article_links.csv\n"
     ]
    }
   ],
   "source": [
    "import csv\n",
    "\n",
    "csv_file = 'article_links.csv'\n",
    "\n",
    "with open(csv_file, 'w', newline='', encoding='utf-8') as file:\n",
    "    writer = csv.writer(file)\n",
    "    writer.writerow(['Article Links'])\n",
    "    writer.writerows([[link] for link in total_links])\n",
    "\n",
    "print(\"Article links saved to:\", csv_file)"
   ]
  },
  {
   "cell_type": "markdown",
   "metadata": {
    "collapsed": false
   },
   "source": [
    "## Part 3: Scraping Article Text\n",
    "\n"
   ]
  },
  {
   "cell_type": "code",
   "execution_count": 90,
   "metadata": {},
   "outputs": [],
   "source": [
    "import requests\n",
    "from bs4 import BeautifulSoup"
   ]
  },
  {
   "cell_type": "markdown",
   "metadata": {
    "collapsed": false
   },
   "source": [
    "### 3.1. Article Inspection\n",
    "\n"
   ]
  },
  {
   "cell_type": "markdown",
   "metadata": {
    "collapsed": false
   },
   "source": [
    "### 3.2. Text Scraping Function\n",
    "\n"
   ]
  },
  {
   "cell_type": "code",
   "execution_count": 91,
   "metadata": {
    "collapsed": false
   },
   "outputs": [
    {
     "name": "stdout",
     "output_type": "stream",
     "text": [
      "{'headline': 'Singapore sting: How spies listened in on German general', 'text': 'It\\'s nearly midnight in Singapore.\\nA senior officer of the Luftwaffe, the German Air Force, is in his hotel room.\\nHe\\'s in the region to rub shoulders with defence industry players at Asia\\'s largest air show. \\nHe has had a long day - but he can\\'t go to bed just yet.\\nBrigadier General Frank GrÃ¤fe has a work call to dial into with his boss - the commander of the German air force.\\nIt\\'s not a big deal for the head of Air Force Operations. He sounds relaxed on the line as he chats with two colleagues about the \"mega\" view from his room, and how he\\'s just come back from a drink at a nearby hotel where there\\'s an incredible swimming pool.\\n\"Not too shabby,\" one of them remarks.\\nFinally, the boss, Lieutenant General Ingo Gerhartz, dials in - and they begin. Over the next 40 minutes, the group appear to touch upon highly sensitive military issues, including the ongoing debate over whether Germany should send Taurus cruise missiles to Ukraine.  \\nWhat none of the call\\'s participants know is that they\\'re being eavesdropped on - and their conversation is being recorded.\\nTwo weeks after the call took place, the audio tape was leaked by Russia\\'s state-run RT channel. \\nGermany hasn\\'t said whether they believe the recording may have been tampered with - but they have confirmed that the call did take place and that it was intercepted by, they believe, Russian spies.\\nTheir man in Singapore had, according to the German government, sprung \"a data leak\".\\nWhile he hasn\\'t been officially named, it\\'s implied that it was Frank GrÃ¤fe who accidentally let spies onto the call.\\nSoon, their supposedly top-secret discussion spilled out via Russian state media and echoed across the world.\\nThe apparent contents of the call are now well-known. \\nThe four participants discussed what targets German-made Taurus missiles could potentially hit if Chancellor Olaf Scholz ever allowed them to be sent to Kyiv - a contentious issue in Germany. \\nFrench and British weapons deliveries were also brought up, including the highly sensitive suggestion that a \"few\" British personnel are allegedly on the ground in Ukraine. \\nBut how were spies able to eavesdrop?\\nThe answer we\\'ve been given so far boils down to a case of human error.\\nAccording to German authorities, the \"data leak\" was down to just one participant dialling in on an insecure line, either via his mobile or the hotel wi-fi.\\nThe exact mode of dial-in is \"still being clarified\", Germany has said.\\n\"I think that\\'s a good lesson for everybody: never use hotel internet if you want to do a secure call,\" Germany\\'s ambassador to the UK, Miguel Berger, told the BBC this week. Some may feel the advice came a little too late.\\nEyebrows were raised when it emerged the call happened on the widely-used WebEx platform - but Berlin has insisted the officials used an especially secure, certified version.\\nProfessor Alan Woodward from the Surrey Centre for Cyber Security says that WebEx does provide end-to-end encryption \"if you use the app itself\". \\nBut using a landline, mobile phone, or open hotel wi-fi could mean security was no longer guaranteed - and Russian spies, it\\'s now supposed, were ready to pounce.\\nProfessor Woodward says that spies were \"probably sitting on the fringes of the Singapore Air Show\". \\nThe biennial event, which this year took place on 20-25 February, typically attracts high-level government, military and industry figures.\\nIf you\\'re a spy, \"when you get gatherings like that, it\\'s always worth sitting in the car park or getting a hotel room\", says Professor Woodward. \\nThe Russians could have, theoretically, used long-range antennae combined with computer programming capable of capturing local network traffic.\\n\"Essentially these intercepts are like rattling door handles and seeing what you can find,\" Professor Woodward says. \"Eventually you find one that\\'s unlocked.\"\\nA researcher in cryptography in Berlin, Henning Seidler, believes the most likely theory is that the officer dialled in via his mobile phone and the call was picked up by spies\\' antenna who can also \"forward\" the traffic onto the main, official antenna. \\nBut all the while, \"they are just listening and writing down everything that\\'s being transmitted\".\\n\"It\\'s like fishing with dynamite. You just throw a stick of dynamite in a pond and see which fish are floating up afterwards.\"\\n\"This was their most juicy catch.\" \\nBerlin was anxious to rule out one theory that was doing the rounds - that a Russian spy simply dialled in and sat on the line, without anyone noticing.\\nAnd the government is insisting that, while they are investigating what happened, this is all essentially down to one man\\'s mistake.\\nThe call was netted in a widespread fishing exercise, they argue. The spies got lucky, while Germany didn\\'t.\\nFormer senior army officer and Bundestag member, Roderich Kiesewetter, is among those who don\\'t quite buy the \"this could have happened to anyone\" line of defence. \\n\"You have to choose a certain kind of disguise for this disaster,\" says Mr Kiesewetter, who\\'s also worked at the Nato military alliance and is a member of Germany\\'s opposition conservative CDU party.\\nHe believes that a \"peacetime\" mindset has allowed complacency to set in.\\n\"It might be a personal mistake,\" Mr Kiesewetter says. \"However, it is a signal of a systemic failure.\"\\nHe also believes Germany is a \"soft target\" due in part to a \"widespread Russian romanticism\" dating back to World War Two. \\nBut German government figures find suggestions that they are somehow soft on Russia increasingly irritating, particularly because Berlin has donated more weapons aid to Ukraine than any other nation in Europe.  \\nMinisters also believe that Moscow deliberately released the leaked tape on the day of opposition leader Alexei Navalny\\'s funeral in a deliberate attempt to distract at home and divide abroad. \\nRussian President Vladimir Putin\\'s playing a \"perfidious\" game that \"we must not fall for\", said Defence Minister Boris Pistorius this week. \\nRussia has neither confirmed, or denied, that its intelligence service was behind the hack.\\nBut whoever it was that picked up an insecure line in a Singapore hotel room late one February night, this Luftwaffe leak has been damaging for Germany.\\nIt\\'s further exposed domestic divisions about whether to send Taurus missiles to Ukraine and prompted a wider discussion about the country\\'s perceived defence and security weaknesses.\\nIn Berlin, they\\'re just hoping that the leak was, indeed. just a one-off - rather than the tip of the iceberg.\\nÂ© 2024 BBC. The BBC is not responsible for the content of external sites. Read about our approach to external linking.\\n', 'published_date': '2024-03-08 02:12:35 ', 'author': 'By Jessica Parker'}\n",
      "{'headline': 'Eurovision 2024: Israel allowed to compete after lyric change', 'text': 'Israel will be allowed to compete at the Eurovision Song Contest 2024 after changing the lyrics to its song, organisers have confirmed.\\nEden Golan will represent the country at the contest in Sweden this May. \\nHer original song, October Rain, was thought to reference the Hamas attacks of 7 October and had been barred for breaking rules on political neutrality.\\nIsrael\\'s public broadcaster agreed to amend the song, now titled Hurricane, and will unveil it this weekend.\\nIn a statement, The European Broadcasting Union (EBU) - which organises the contest - said earlier: \"The EBU can confirm that the official submission from its Israeli Member Kan has been deemed eligible to compete in the Eurovision Song Contest in May.\\n\"The Contest\\'s Reference Group, its governing board, made the decision to accept the song \\'Hurricane\\' for the upcoming competition after careful scrutiny of the lyrics.\\n\"It was agreed that \\'Hurricane\\' met the necessary criteria for participation in accordance with the rules of the competition.\"\\nIsraeli broadcaster Kan had previously pledged not to alter the lyrics, but the country\\'s President Isaac Herzog later called for \"necessary adjustments\" to ensure Israel can take part in the contest.\\nThe original lyrics of October Rain - written in English - were published on Kan\\'s website last month.\\nThey included the lines \"They were all good children, every one of them\" and \"Who told you boys don\\'t cry/ Hours and hours/ And flowers/ Life is not a game for the cowards.\"\\nOn Wednesday, Belgium\\'s French-speaking Culture Minister Benedicte Linard called for Israel to be banned from Eurovision as long as the war in Gaza continues.\\n\"Just like Russia has been excluded from competitions and Eurovision following its invasion of Ukraine, Israel should be excluded until it puts an end to its flagrant violations of international law, which are causing thousands of victims, especially children,\" she wrote on X.\\nIsrael insists that its ground offensive against Hamas in Gaza is being carried out in line with international law. Its military has repeatedly said that it goes out of its way to try to avoid harming civilians.\\nMs Linard also told parliament on Wednesday that she would ask public broadcaster RTBF, which is organising Belgium\\'s entry to Eurovision, to voice the concerns to the EBU.\\nHer Flemish counterpart, Benjamin Dalle, said an Israeli suspension would be appropriate while so many Palestinian civilians were suffering, according to a report by Flemish broadcaster VRT.\\nMusicians in several countries have called for Israel to be suspended from the contest.\\nIn December,  Iceland\\'s Association of Composers and Lyricists published a statement saying Israel\\'s military action in Gaza made its participation incompatible with an event \"characterised by joy and optimism\".\\nIn Finland, a petition signed by more than 1,400 music industry professionals accused their national broadcaster Yle of double standards, saying it was among the first to demand the ban on Russia after its invasion of Ukraine in 2022.\\nThe EBU soon after banned Russia from participating.\\nBefore he was selected to represent the UK, Olly Alexander also endorsed a statement accusing Israel of genocide.\\nAn Israeli official later told the UK\\'s Daily Telegraph newspaper the arguments were \"absurd\" and accused Alexander and his fellow signatories of \"anti-Israel bias\".\\nIsrael has won the Eurovision Song Contest four times before. \\nIts military launched an air and ground campaign in Gaza after Hamas\\'s attacks on Israel on 7 October, in which around 1,200 people were killed and 253 others were taken hostage.\\nMore than 30,800 people have been killed in Gaza since then, the territory\\'s Hamas-run health ministry says.\\nÂ© 2024 BBC. The BBC is not responsible for the content of external sites. Read about our approach to external linking.\\n', 'published_date': '2024-03-07 19:21:16 ', 'author': 'By Mark Savage & Sofia Ferreira Santos'}\n",
      "{'headline': 'Ukraine war: Eastern residents brace for Russian advance', 'text': 'In eastern Ukraine, the tide of this war hasn\\'t just changed - it\\'s coming in fast.\\n\"We know what\\'s coming,\" says Mariya as she packs up the TV in her flat in Kostyantynivka. She\\'s having it delivered to Kyiv before making the journey there with her son. \\n\"We\\'re tired all day [and suffer] moods and panic attacks. It\\'s constantly depressing, and we\\'re scared.\"\\nIn February, Russia captured the strategic town of Avdiivka. Since then, the invaders have advanced further west, and taken several villages.\\nUkraine says its forces are \"holding on\". But Russian troops are now attacking in five areas along the 1,100km (700 mile) front line.\\nOver 1.2 million people - or two thirds of the population - have left the Ukrainian-controlled Donetsk region since Russia\\'s full scale invasion two years ago.\\nAnd it\\'s here in the eastern Donetsk region that Ukraine\\'s defenders are being tested the most. \\nPeople in cities like Pokrovsk, Kostyantynivka and Kramatorsk are now facing a fast-approaching front line, and even occupation.\\nMariya and her mother Tetyana are finding life increasingly difficult as the Russians advance closer. \\nTheir city is littered with signs of the approaching threat 30km (19 miles) away. \\nAlmost every street has a damaged building. Workers replace gold panels on a church after they were blown off by a missile strike on the neighbouring train station, now destroyed.\\nAnxiety fills the cold air in this town, once part of the industrial heartland of the former Soviet Union. Russia slowly destroys Ukraine\\'s cities as it tries to take them. That\\'s what is feared the most here.\\nMariya explains that her mother Tetyana is staying, but she\\'s confident she\\'ll follow her eventually.\\n\"I\\'ve already left twice, what\\'s the point?\" says a defiant Tetyana from her apartment around the corner. She gives us slippers to wear around her home, which explains why it\\'s spotless.\\n\"It\\'s scary everywhere. The whole country is on fire.\"\\nHer eyes moisten. It\\'s one thing to stay in your home for as long as you can, it\\'s another to risk death or Russian occupation.\\nWhile the whole of Ukraine is a war zone, the Donetsk region - along with four others - is a battlefield. When you weave through its dense forest and expansive, rugged terrain, you always feel like you\\'re approaching the coal face of this conflict.\\nYou can hear heavy fire from as far as 40 km away, so the distant sound of artillery is constant. From one vantage point you can see the erosion of Ukrainian territory.\\nPlumes of smoke come from the directions of Avdiivka, a town Russia has recently taken, and Horlivka, which it\\'s controlled since 2014.\\nRussia is using its size, air superiority and deeper ammunition reserves to keep pushing, at a time when Western military aid to Ukraine is running low or being held up by domestic politics.\\nNearby lies a wide valley with several reservoirs. It\\'s this natural landscape which Ukraine says will allow its forces to \"stabilise\" the front line.\\nPerhaps after chaotic withdrawals in the past, Ukrainian generals are willing to temporarily concede territory in the hope it can be liberated in the long term.\\nAcross the front line there is a small minority of people labelled as \"Zhdun\" by the Ukrainians. It\\'s a derogatory word which means \"waiters\", referring to those who are pro-Russian and waiting to be occupied.\\nIt doesn\\'t apply to everyone who ignores offers of evacuation. Some just refuse to abandon their homes and have got used to the constant danger.\\nValeriy isn\\'t one of them. After his home in the town of Toretsk was almost shelled twice, he\\'s taking his belongings and grandson Denys to a pickup point. \\nWith the Russians just 5km away, their neighbours wish them well but still refuse to leave. The pair then board an armoured police vehicle.\\n\"I\\'ve lived my life already,\" the 67-year-old tells us at the other end of his journey in Kostyantynivka. \"But I need to save the little one.\"\\n\"I worked in the mine for 20 years so I\\'m not afraid of anything, but I\\'m worried for him,\" he adds. \\nDenys, who\\'s 14, nods approvingly. \"My last friend left three weeks ago,\" he says. \\nEvacuation from front-line settlements is compulsory for families with children. Despite that 15 children still remain in Toretsk.\\nAnton Pron from the White Angels police evacuation squad, who helps evacuate people away from front-line towns, tells us the situation is worsening every day. \\n\"There\\'s constant shelling and artillery,\" he says. \"The enemy\\'s aviation is working all the time. The Russians drop bombs on residential houses.\"\\nThese days, the train station in the nearby city of Kramatorsk is the last stop for arriving troops and increasingly, departing civilians laden with bags.\\nDistant rumbles of artillery serve either as a sobering welcome or a reason to leave. Couples hold long embraces on a platform flanked by freight trains which provide protection in case of a missile strike.\\nAt least 61 people were killed by one here in 2022. Shrapnel marks are still scorched onto the pavement.\\nWe meet Alla, who\\'s waiting for her train to Kyiv. \"A year ago, we thought we\\'d get help from the West and that our counter offensive would work, but not anymore,\" she says.\\n\"People used to believe, but not now.\"\\nUkraine hopes its eastern lands will one day be somewhere safe to live again. Right now it\\'s unclear what these departing passengers will be returning to.\\nShould its Russian invaders gain more momentum in the Donetsk region, the question of where they will stop will be increasingly difficult to answer.\\nAdditional reporting by Hanna Chornous and Scarlett Barter\\nÂ© 2024 BBC. The BBC is not responsible for the content of external sites. Read about our approach to external linking.\\n', 'published_date': '2024-03-07 00:10:48 ', 'author': 'By James Waterhouse'}\n"
     ]
    }
   ],
   "source": [
    "import requests\n",
    "from bs4 import BeautifulSoup\n",
    "from datetime import datetime\n",
    "\n",
    "def extract_published_date(timestamp_str):\n",
    "    timestamp = datetime.fromisoformat(timestamp_str[:-1])  # Removing the 'Z' at the end\n",
    "    return timestamp.strftime('%Y-%m-%d %H:%M:%S %Z')\n",
    "\n",
    "def get_article_details(article_url):\n",
    "    response = requests.get(article_url)\n",
    "    if response.status_code != 200:\n",
    "        print(f\"Failed to fetch article: {article_url}\")\n",
    "        return None\n",
    "    \n",
    "    soup = BeautifulSoup(response.text, 'html.parser')\n",
    "    \n",
    "    # Extract headline\n",
    "    headline = soup.find('h1', class_=\"ssrcss-fmi64d-StyledHeading e10rt3ze0\").get_text() if soup.find('h1', class_=\"ssrcss-fmi64d-StyledHeading e10rt3ze0\") else None\n",
    "    \n",
    "    # Extract text\n",
    "    text = \"\"\n",
    "    paragraphs = soup.find_all('p', class_='ssrcss-1q0x1qg-Paragraph e1jhz7w10')\n",
    "    for paragraph in paragraphs:\n",
    "        text += paragraph.get_text() + \"\\n\"\n",
    "    \n",
    "    # Extract published date\n",
    "    metadata_divs = soup.find_all('div', class_=\"ssrcss-m5j4pi-MetadataContent eh44mf00\")\n",
    "    for div in metadata_divs:\n",
    "        timestamp = div.find('time', {'data-testid': 'timestamp'})\n",
    "        if timestamp:\n",
    "            published_date = extract_published_date(timestamp['datetime'])\n",
    "            break\n",
    "    else:\n",
    "        published_date = None\n",
    "    \n",
    "    # Extract author\n",
    "    author = soup.find('div', class_=\"ssrcss-68pt20-Text-TextContributorName e8mq1e96\").get_text() if soup.find('div', class_=\"ssrcss-68pt20-Text-TextContributorName e8mq1e96\") else None\n",
    "    \n",
    "    article_details = {\n",
    "        'headline': headline,\n",
    "        'text': text,\n",
    "        'published_date': published_date,\n",
    "        'author': author\n",
    "    }\n",
    "    \n",
    "    return article_details\n",
    "\n",
    "# Example usage:\n",
    "article_urls = [\n",
    "    'https://www.bbc.com/news/world-europe-68479836',\n",
    "    'https://www.bbc.com/news/entertainment-arts-68505050',\n",
    "    'https://www.bbc.com/news/world-europe-68493215'\n",
    "]\n",
    "\n",
    "for url in article_urls:\n",
    "    article_details = get_article_details(url)  # Corrected function name\n",
    "    print(article_details)"
   ]
  },
  {
   "cell_type": "markdown",
   "metadata": {},
   "source": [
    "### 3.3. Scrape All Articles"
   ]
  },
  {
   "cell_type": "code",
   "execution_count": 92,
   "metadata": {},
   "outputs": [
    {
     "ename": "NameError",
     "evalue": "name 'urljoin' is not defined",
     "output_type": "error",
     "traceback": [
      "\u001b[0;31m---------------------------------------------------------------------------\u001b[0m",
      "\u001b[0;31mNameError\u001b[0m                                 Traceback (most recent call last)",
      "Cell \u001b[0;32mIn[92], line 8\u001b[0m\n\u001b[1;32m      5\u001b[0m subset_urls \u001b[38;5;241m=\u001b[39m df[\u001b[38;5;124m'\u001b[39m\u001b[38;5;124mArticle Links\u001b[39m\u001b[38;5;124m'\u001b[39m]\n\u001b[1;32m      7\u001b[0m \u001b[38;5;28;01mfor\u001b[39;00m path \u001b[38;5;129;01min\u001b[39;00m subset_urls:\n\u001b[0;32m----> 8\u001b[0m     url \u001b[38;5;241m=\u001b[39m urljoin(base_url, path)\n\u001b[1;32m      9\u001b[0m     article_details \u001b[38;5;241m=\u001b[39m get_article_details(url)\n\u001b[1;32m     10\u001b[0m     \u001b[38;5;28;01mif\u001b[39;00m article_details:\n",
      "\u001b[0;31mNameError\u001b[0m: name 'urljoin' is not defined"
     ]
    }
   ],
   "source": [
    "df = pd.read_csv('article_links.csv')\n",
    "\n",
    "base_url = 'https://www.bbc.com'\n",
    "\n",
    "subset_urls = df['Article Links']\n",
    "\n",
    "for path in subset_urls:\n",
    "    url = urljoin(base_url, path)\n",
    "    article_details = get_article_details(url)\n",
    "    if article_details:\n",
    "        print(article_details)"
   ]
  },
  {
   "cell_type": "markdown",
   "metadata": {},
   "source": [
    "### 3.4. Data Storage"
   ]
  },
  {
   "cell_type": "code",
   "execution_count": null,
   "metadata": {},
   "outputs": [],
   "source": [
    "article_details_list = []\n",
    "\n",
    "for path in subset_urls:\n",
    "    url = urljoin(base_url, path)\n",
    "    article_details = get_article_details(url)\n",
    "    if article_details:\n",
    "        article_details_list.append(article_details)\n",
    "\n",
    "article_details_df = pd.DataFrame(article_details_list)\n",
    "\n",
    "article_details_df.to_csv('scraped_article_details.csv', index=False)"
   ]
  },
  {
   "cell_type": "markdown",
   "metadata": {},
   "source": [
    "### 3.5. Discussion"
   ]
  },
  {
   "cell_type": "markdown",
   "metadata": {},
   "source": [
    "* Evaluate whether the scraped article details add value to the existing dataset. If the dataset aims to provide comprehensive information about BBC articles, it can enhance its completeness and utility.\n",
    "* Assess the quality of the scraped data. Ensure that the scraping process is reliable and accurate, and that the extracted information matches the actual content of the articles. High-quality data will contribute positively to the dataset, whereas inaccurate or incomplete data may decrease its reliability.\n",
    "* *Check if the scraped data aligns with the existing structure and format of the dataset. It ensures that the dataset remains coherent and easy to analyze.\n",
    "* Conduct statistical analysis to quantify the impact of including the scraped data. Calculate descriptive statistics such as counts, averages, and distributions to understand the characteristics of the new data compared to the existing dataset. \n",
    "* Consider the needs of potential users or stakeholders of the dataset.\n",
    "* It depends on a careful assessment of relevance, quality, consistency, statistical analysis, and user needs. If these criterias are met, the inclusion can enrich the dataset and improve its utility for analysis and insights."
   ]
  }
 ],
 "metadata": {
  "kernelspec": {
   "argv": [
    "/usr/bin/python3",
    "-m",
    "ipykernel",
    "--HistoryManager.enabled=False",
    "--matplotlib=inline",
    "-c",
    "%config InlineBackend.figure_formats = set(['retina'])\nimport matplotlib; matplotlib.rcParams['figure.figsize'] = (12, 7)",
    "-f",
    "{connection_file}"
   ],
   "display_name": "Python 3 (system-wide)",
   "env": {},
   "language": "python",
   "metadata": {
    "cocalc": {
     "description": "Python 3 programming language",
     "priority": 100,
     "url": "https://www.python.org/"
    }
   },
   "name": "python3",
   "resource_dir": "/ext/jupyter/kernels/python3"
  },
  "language_info": {
   "codemirror_mode": {
    "name": "ipython",
    "version": 3
   },
   "file_extension": ".py",
   "mimetype": "text/x-python",
   "name": "python",
   "nbconvert_exporter": "python",
   "pygments_lexer": "ipython3",
   "version": "3.11.5"
  }
 },
 "nbformat": 4,
 "nbformat_minor": 4
}

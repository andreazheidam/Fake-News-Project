{
 "cells": [
  {
   "cell_type": "markdown",
   "metadata": {},
   "source": [
    "## Libraries "
   ]
  },
  {
   "cell_type": "code",
   "execution_count": 14,
   "metadata": {},
   "outputs": [],
   "source": [
    "import pandas as pd\n",
    "from tqdm import tqdm"
   ]
  },
  {
   "cell_type": "markdown",
   "metadata": {},
   "source": [
    "## Part 1: Analyze the Fake News Dataset\n"
   ]
  },
  {
   "cell_type": "markdown",
   "metadata": {},
   "source": [
    "### (1) - Import dataset"
   ]
  },
  {
   "cell_type": "markdown",
   "metadata": {},
   "source": [
    "I have created a python script of the last assignment to easily import the cleaned dataset from last assignment. However I've had problems downloading the 995,000_rows.csv subset of the fake news corpus, so will unfortunately have to proceed with a cleaned version of the news_sample.csv for now, until I've resolved the issue of being denied downloading the subset."
   ]
  },
  {
   "cell_type": "code",
   "execution_count": 13,
   "metadata": {},
   "outputs": [],
   "source": [
    "from graded_exercise_1 import df"
   ]
  },
  {
   "cell_type": "markdown",
   "metadata": {},
   "source": [
    "### (2) - Dataset analysis"
   ]
  },
  {
   "cell_type": "markdown",
   "metadata": {},
   "source": [
    "#### (A)"
   ]
  },
  {
   "cell_type": "markdown",
   "metadata": {},
   "source": [
    "From inspecting and analyzing the description of each article type of the fake-news corpus on github: (https://github.com/several27/FakeNewsCorpus) I would argue that many of the article types are to some degree not reliable, and therefore can be classified as fake or be omitted.\n",
    "\n",
    "In my classification I also try to distinguish in such a way, that either an article type is clearly fake (in atleast to some degree), or it's not, since these are the only categories we are interested in. However if I fail to determine if an article type is clearly fake or not, that would be a reason for me to omit such a type. \n",
    "\n",
    "Such a way of distinguishing is of course also prone to subjective errors, so others might classify the fake-news corpus in some other way. \n"
   ]
  },
  {
   "cell_type": "markdown",
   "metadata": {},
   "source": [
    "#### (B)"
   ]
  },
  {
   "cell_type": "markdown",
   "metadata": {},
   "source": [
    "OMITTED:\n",
    "\n",
    "First of all I've omitted three types of articles: proceed with caution, state news & hate news.\n",
    "\n",
    "My reasoning is, that from the description of the article types through github, state news & hate news doesn't clearly state if the content in such an article type is fake or reliable (of course this is also an attempt to set aside my prejudice and subjective views) - however I also see an argument for classifying these.\n",
    "\n",
    "As of the proceed with caution article type, I've chosen to omit it since the description states these articles are yet to be verified as reliable but may be reliable. I feel that an article type which is at such a state, doesn't fit either of the classifications until verified, and therefore might as well be omitted.\n",
    "\n",
    "\n",
    "RELIABLE:\n",
    "\n",
    "I've also classified three article types as reliable: credible, political & clickbait.\n",
    "\n",
    "Theses I've classified as reliable, as these are the only three article types which description to some degree justifies that the content is reliable. \n",
    "\n",
    "Though the clickbait articles might use exagerated and/or misleading headlines, images, etc., I also see an argument for omitting it or even classifying it as fake, but I've chosen to mark it as reliable, since the content is descriped as generally credible. \n",
    "\n",
    "For the other two article types, I don't feel it as necessary to argue why these are labeled as reliable, since their description clearly states their extend of credibilty.\n",
    "\n",
    "\n",
    "FAKE:\n",
    "\n",
    "My classification of the fake article types is then the remaining types: fake news, satire, extreme bias, conspiracy theory & junk science.\n",
    "\n",
    "All of these article types is descriped to some extend as being unreliable or contain unreliable information. It is clear to me, that atleast these five types should be marked as fake based on the descriptions of the fake news corpus.\n",
    "\n"
   ]
  },
  {
   "cell_type": "code",
   "execution_count": 15,
   "metadata": {},
   "outputs": [],
   "source": [
    "# This block contain 3 lists showing my classification of article types as fake, reliable or omitted\n",
    "fake_news_labels = [\"fake\", \n",
    "                    \"satire\", \n",
    "                    \"bias\", \n",
    "                    \"conspiracy\",\n",
    "                    \"junksci\"\n",
    "                    ]\n",
    "\n",
    "reliable_news_labels = [\"reliable\",\n",
    "                        \"political\",\n",
    "                        \"clickbait\"\n",
    "                        ]\n",
    "\n",
    "omitted_news_labels = [\"unreliable\",\n",
    "                       \"state\",\n",
    "                       \"hate\"]"
   ]
  },
  {
   "cell_type": "markdown",
   "metadata": {},
   "source": [
    "#### (C)"
   ]
  },
  {
   "cell_type": "markdown",
   "metadata": {},
   "source": [
    "Unfortunately I'm limited to comment on the distribution of the sample, but will try to generalize some of the aspects that might be relevant for the bigger subset.\n",
    "\n",
    "Clearly in this case, the distribution indicates that most of the articles of the sample is labeled as fake compared to reliable, which indicates that the dataset is not balanced. This ofcourse might not be the case for another sample of the dataset, and since this is a very small subset compared to the 995,000_rows.csv-subset, the distribution might look vastly different.\n",
    "\n",
    "Having a balanced distribution is important for training a model! In a case where the distribution looks like this (80/20), the model may become biased towards the majority classification - in this case it would be the fake articles. That is, it would might perform well in identifying fake news, but poorly in recognizing reliable news.\n",
    "\n",
    "There is also a risk of the model overfitting, making it less generalizable to new data, in particular from the minority classification - in this case the reliable news.\n",
    "\n",
    "Since I am unable to use the other sample as of now, I've manually inspected the count of article types from the github documentation, and roughly estimated what the distribution would look like with my classification.\n",
    "\n",
    "Fake: 928,083 + 146,080 + 1,300,444 + 905,981 + 144,939 = 3425527\n",
    "\n",
    "Reliable: 292,201 + 2,435,471 + 1,920,139 = 4647811 \n",
    "\n",
    "Total: 4647811 + 3425527 = 8073338\n",
    "\n",
    "Which roughly translates to a percentage distribution of 57% reliable news and 43% fake news, given my classification.\n",
    "\n",
    "That would mean a way more balanced dataset, and there training a model would also not be as prone to things as over- /underfitting and bias.\n"
   ]
  },
  {
   "cell_type": "code",
   "execution_count": 16,
   "metadata": {},
   "outputs": [
    {
     "data": {
      "text/plain": [
       "category\n",
       "fake        81.481481\n",
       "reliable    18.518519\n",
       "Name: proportion, dtype: float64"
      ]
     },
     "execution_count": 16,
     "metadata": {},
     "output_type": "execute_result"
    }
   ],
   "source": [
    "# This block of code filters the omitted article types, and categorize the remaining articles into\n",
    "# fake & reliable, and lastly calculates the distribution of fake & reliable articles in the dataset.\n",
    "df_filtered = df[~df['type'].isin(omitted_news_labels)].copy()\n",
    "\n",
    "df_filtered['category'] = df_filtered['type'].apply(lambda x: 'fake' if x in fake_news_labels else 'reliable')\n",
    "\n",
    "distribution = df_filtered['category'].value_counts(normalize=True) * 100\n",
    "\n",
    "distribution"
   ]
  },
  {
   "cell_type": "markdown",
   "metadata": {},
   "source": [
    "## Part 2: Gathering Links"
   ]
  },
  {
   "cell_type": "markdown",
   "metadata": {},
   "source": [
    "### (1) - Importing libraries"
   ]
  },
  {
   "cell_type": "code",
   "execution_count": 17,
   "metadata": {},
   "outputs": [],
   "source": [
    "import requests\n",
    "from bs4 import BeautifulSoup"
   ]
  },
  {
   "cell_type": "markdown",
   "metadata": {},
   "source": [
    "### (2) - Retrieving HTML content\n",
    "After analyzing the string output of contents, I'd verify that contents does indeed hold HTML source of the given webpage."
   ]
  },
  {
   "cell_type": "code",
   "execution_count": 32,
   "metadata": {},
   "outputs": [],
   "source": [
    "response = requests.get('https://www.bbc.com/news/world/europe')\n",
    "contents = response.text\n",
    "contents;"
   ]
  },
  {
   "cell_type": "markdown",
   "metadata": {},
   "source": [
    "### (3) - Extract articles"
   ]
  },
  {
   "cell_type": "code",
   "execution_count": 19,
   "metadata": {},
   "outputs": [
    {
     "name": "stdout",
     "output_type": "stream",
     "text": [
      "Number of retrieved article links on the first page of the europe section: \n",
      "38\n"
     ]
    }
   ],
   "source": [
    "def extract_articles(url):\n",
    "    \"\"\"This function extracts all articles from a given url, \n",
    "    and for each article retrieves its corresponding link\"\"\"\n",
    "\n",
    "    response = requests.get(url)\n",
    "    contents = response.text\n",
    "\n",
    "    soup = BeautifulSoup(contents, 'html.parser')\n",
    "    \n",
    "    articles = soup.find_all('div', attrs={'type': 'article'})\n",
    "\n",
    "    links = [article.find('a')['href'] for article in articles]\n",
    "\n",
    "    return links\n",
    "\n",
    "# Example useage on the Europe section on bbc\n",
    "links = extract_articles('https://www.bbc.com/news/world/europe')\n",
    "print(\"Number of retrieved article links on the first page of the europe section: \")\n",
    "print(len(links))\n"
   ]
  },
  {
   "cell_type": "markdown",
   "metadata": {},
   "source": [
    "### (4) - Scrape multiple pages\n"
   ]
  },
  {
   "cell_type": "code",
   "execution_count": 21,
   "metadata": {},
   "outputs": [
    {
     "name": "stderr",
     "output_type": "stream",
     "text": [
      "100%|██████████| 42/42 [00:06<00:00,  6.11it/s]"
     ]
    },
    {
     "name": "stdout",
     "output_type": "stream",
     "text": [
      "Number of retrieved article links within all the pages of the europe section: \n",
      "902\n"
     ]
    },
    {
     "name": "stderr",
     "output_type": "stream",
     "text": [
      "\n"
     ]
    }
   ],
   "source": [
    "def extract_all_articles(url):\n",
    "    \"\"\"This function loops through the pages of a section, \n",
    "    and for each page collects the corresponding links for all of the articles of the page\"\"\"\n",
    "    all_links = []\n",
    "    \n",
    "    response = requests.get(url)\n",
    "    contents = response.text\n",
    "\n",
    "    soup = BeautifulSoup(contents, 'html.parser')\n",
    "\n",
    "    max_pages = soup.find_all('div', class_=\"ssrcss-3vkeha-StyledButtonContent e1kcrsdk1\")[-2]\n",
    "    max_pages_number = int(max_pages.text.strip())\n",
    "    \n",
    "\n",
    "    for page in tqdm(range(1,max_pages_number + 1)):\n",
    "        page_url = f'{url}?page={page}'\n",
    "        response = requests.get(page_url)\n",
    "        contents = response.text\n",
    "        soup = BeautifulSoup(contents, 'html.parser')\n",
    "        articles = soup.find_all('div', attrs={'type': 'article'})\n",
    "        links = [article.find('a')['href'] for article in articles]\n",
    "        all_links.extend(links)\n",
    "    return all_links\n",
    "\n",
    "\n",
    "# Example usage on the Europe section once again\n",
    "links = extract_all_articles('https://www.bbc.com/news/world/europe')\n",
    "print(\"Number of retrieved article links within all the pages of the europe section: \")\n",
    "print(len(links)) "
   ]
  },
  {
   "cell_type": "markdown",
   "metadata": {},
   "source": [
    "### (5) - Expand the scope"
   ]
  },
  {
   "cell_type": "code",
   "execution_count": 22,
   "metadata": {},
   "outputs": [
    {
     "name": "stderr",
     "output_type": "stream",
     "text": [
      "100%|██████████| 42/42 [00:05<00:00,  7.05it/s]\n",
      "100%|██████████| 42/42 [00:05<00:00,  7.22it/s]\n",
      "100%|██████████| 42/42 [00:06<00:00,  6.72it/s]\n",
      "100%|██████████| 25/25 [00:03<00:00,  6.37it/s]\n",
      "100%|██████████| 42/42 [00:05<00:00,  7.03it/s]\n",
      "100%|██████████| 41/41 [00:06<00:00,  6.07it/s]"
     ]
    },
    {
     "name": "stdout",
     "output_type": "stream",
     "text": [
      "Number of retrieved article links within all of the specified regions: \n",
      "4790\n"
     ]
    },
    {
     "name": "stderr",
     "output_type": "stream",
     "text": [
      "\n"
     ]
    }
   ],
   "source": [
    "def extract_all_articles_for_regions(url):\n",
    "    \"\"\"This function loops through the list of given regions, and for each region scrapes\n",
    "    the links of all articles on all of its pages using the former function\"\"\"\n",
    "    response = requests.get(url)\n",
    "    contents = response.text\n",
    "    soup = BeautifulSoup(contents, 'html.parser')\n",
    "    \n",
    "    all_region_links = []\n",
    "\n",
    "    regions = ['europe','australia', 'asia', 'africa', 'latin_america', 'middle_east']\n",
    "\n",
    "    for region in regions:\n",
    "        region_links = extract_all_articles(f\"{url}/{region}\")\n",
    "        all_region_links.extend(region_links)\n",
    "    \n",
    "    return all_region_links\n",
    "\n",
    "\n",
    "# Example usage on the given regions\n",
    "links = extract_all_articles_for_regions('https://www.bbc.com/news/world')\n",
    "print(\"Number of retrieved article links within all of the specified regions: \" )\n",
    "print(len(links))"
   ]
  },
  {
   "cell_type": "markdown",
   "metadata": {},
   "source": [
    "### (6) - Save your results"
   ]
  },
  {
   "cell_type": "code",
   "execution_count": 23,
   "metadata": {},
   "outputs": [],
   "source": [
    "# This block of code saves all of the links in a .csv file\n",
    "all_links_df = pd.DataFrame(links, columns=['Article Links'])\n",
    "all_links_df.to_csv('links.csv', index=False)"
   ]
  },
  {
   "cell_type": "markdown",
   "metadata": {},
   "source": [
    "## Part 3: Scraping Article Text"
   ]
  },
  {
   "cell_type": "markdown",
   "metadata": {},
   "source": [
    "### (1) - Article inspection"
   ]
  },
  {
   "cell_type": "markdown",
   "metadata": {},
   "source": [
    "After inspecting the HTML code for a couple of articles within a few of the different regions using the in-browser devtools, it seems that the attributes to identify the headline, author, published date & text is as follows:"
   ]
  },
  {
   "cell_type": "markdown",
   "metadata": {},
   "source": [
    "- Headline: \n",
    "    - tag = h1\n",
    "    - class = \"ssrcss-fmi64d-StyledHeading e10rt3ze0\" _>HEADLINE HERE<_\n",
    "    \n",
    "- Author: \n",
    "    - tag = div\n",
    "    - class = \"ssrcss-68pt20-Text-TextContributorName e8mq1e96\" _>AUTHOR HERE<_\n",
    "\n",
    "- Date: \n",
    "    - tag = time\n",
    "    - data-testid = \"timestamp\"\n",
    "\n",
    "- Text: \n",
    "    - tag = p\n",
    "    - class = \"ssrcss-1q0x1qg-Paragraph e1jhz7w10\" _>TEXT HERE<_"
   ]
  },
  {
   "cell_type": "markdown",
   "metadata": {},
   "source": [
    "### (2) - Text scraping function"
   ]
  },
  {
   "cell_type": "code",
   "execution_count": 24,
   "metadata": {},
   "outputs": [
    {
     "data": {
      "text/plain": [
       "{'Header': 'Hull: Amy Johnson Cup for Courage nominations sought',\n",
       " 'Author': 'Emma Hartley',\n",
       " 'Date': '24 February',\n",
       " 'Text': 'Hull City Council is inviting nominations for the 2024 Amy Johnson Cup for Courage.  Nominees must be 17 or under, have been born in Hull and have to have committed a \"signal act of courage\" in the previous year while living in the city.  The Cup for Courage was first awarded in 1931, arising from the famous local aviator\\'s solo flight to Australia. Midge Gillies, Miss Johnson\\'s biographer, said: \"A part of [Amy Johnson] would always be a Hull girl.\" The last award-winner was Keleighsha Thorpe in 2012, who was 10 when she saved her grandmother\\'s life after their home in Clarendon Street was targeted by arsonists.  She had woken in the night and smelt smoke, then woke her grandmother in time for them both to escape the burning building. Her name was entered in the city\\'s roll of honour at the Guildhall as a result. The award originated shortly after Amy Johnson made her record-breaking solo flight to Australia in 1930, in her Gipsy Moth biplane called Jason.  One of the many gifts she received after her arrival down under was gold bullion worth Â£25, the money for which had been collected and presented to her by the children of Sydney, New South Wales, as a gesture of appreciation. On her return to Hull she donated the sum to the city corporation, as it was then, along with a trophy.  A deed was drawn up establishing the Cup for Courage to be awarded annually. The deed stated that Miss Johnson intended it to establish \"some connection between the children of Australia and the children of England\". Ms Gillies, author of Johnson\\'s 2003 biography Queen of the Air, said: \"The Cup for Courage is harder to award than you would imagine.  \"You have to go through the schools, police and fire service to find a suitable candidate. There have been many years when it wasn\\'t awarded at all because it wasn\\'t possible to find anyone.  \"Amy said at the time that she thought of it as being not just for physical courage but for moral courage too.\" According to city council documents, the terms of the 93-year-old trust \"indicate that it was Miss Johnson\\'s wish not to encourage any foolhardy acts by young people but... to foster and encourage those acts which occur from time to time in respect of rendering assistance to others and saving others from injury\". \"The idea of courage is so interesting,\" said Ms Gillies. \"These days women have the chance to be physically courageous, more so than in Amy\\'s time.  \"But on the other hand we all have to stand up and be counted. Moral courage might be something like standing up to prejudice.\" Ms Gillies said that Amy Johnson was already an inspiration to young people after her Australia trip. \"She used to get all sorts of letters and the envelopes would say things like \\'For Amy who lives in Hull\\'. But they still got there.  \"She looked like a young girl, you see. But then with the flying she did something that was so physical. And then she became a motor mechanic as well because if you\\'re going to fly a biplane all the way to Australia on your own you have to be,\" she said. \"I think she felt a heavy responsibility to continue to inspire young people,\" said Ms Gillies. \"Amy was very fond of Hull and very loyal to Hull. But she didn\\'t have a Hull accent in the recordings of her, which bemused her friends. She sounded like Joyce Grenfell because she lost her accent when she went to London.\" Amy Johnson died in 1941 in circumstances that have provoked a lot of speculation over the years. But she has been immortalised in popular culture, including as a character in a Doctor Who story.  \"Something else tragic about her life was that she lost a younger sister to suicide, so Hull had painful memories for her,\" said Ms Gillies. \"But a part of her would always be a Hull girl.\" Nominations for the 2024 Amy Johnson Cup for Courage should be sent to Hull City Council by 29 February.  Follow BBC East Yorkshire and Lincolnshire on Facebook, X (formerly Twitter), and Instagram. Send your story ideas to eastyorkslincs.news@bbc.co.uk'}"
      ]
     },
     "execution_count": 24,
     "metadata": {},
     "output_type": "execute_result"
    }
   ],
   "source": [
    "def scrape_essentials(url):\n",
    "    \"\"\"This function scrapes an article for its headline, author, publish-date & text\"\"\"\n",
    "    response = requests.get(url)\n",
    "    contents = response.text\n",
    "    soup = BeautifulSoup(contents, 'html.parser')\n",
    "    \n",
    "    article_info = {}\n",
    "    \n",
    "    header = soup.find('h1', class_=\"ssrcss-fmi64d-StyledHeading e10rt3ze0\")\n",
    "    article_info[\"Header\"] = header.text if header else \"No headline found\"\n",
    "\n",
    "    author = soup.find('div', class_=\"ssrcss-68pt20-Text-TextContributorName e8mq1e96\")\n",
    "    article_info[\"Author\"] = author.text.replace(\"By \", \"\") if author else \"No author found\"\n",
    "\n",
    "    date = soup.find('time', attrs={\"data-testid\": \"timestamp\"})\n",
    "    article_info[\"Date\"] = date.text if date else \"No date found\"\n",
    "\n",
    "    text = \"\"\n",
    "\n",
    "    for text_block in soup.find_all('div', attrs={\"data-component\": \"text-block\"}):\n",
    "        if text_block.find('p'):\n",
    "            text += text_block.find('p').text + \" \"\n",
    "    article_info[\"Text\"] = text.strip() if text else \"No text found\"\n",
    "\n",
    "    return article_info\n",
    "\n",
    "# Example usage on an arbitrary article\n",
    "scrape_essentials('https://www.bbc.com/news/uk-england-humber-68339496')\n"
   ]
  },
  {
   "cell_type": "markdown",
   "metadata": {},
   "source": [
    "### (3) - Scrape all articles"
   ]
  },
  {
   "cell_type": "code",
   "execution_count": 25,
   "metadata": {},
   "outputs": [
    {
     "name": "stdout",
     "output_type": "stream",
     "text": [
      "Number of prepared article links: \n",
      "4790\n"
     ]
    }
   ],
   "source": [
    "# This block of code prepares a list of all links to loop through for scraping\n",
    "links_file_path = '/Users/askeklausen/Desktop/GDS/links.csv'\n",
    "base_url = 'https://www.bbc.com'\n",
    "\n",
    "df = pd.read_csv(links_file_path)\n",
    "df[\"Full links\"] = base_url + df['Article Links']\n",
    "\n",
    "article_links = df[\"Full links\"].to_list()\n",
    "print(\"Number of prepared article links: \")\n",
    "print(len(article_links))\n"
   ]
  },
  {
   "cell_type": "code",
   "execution_count": 30,
   "metadata": {},
   "outputs": [
    {
     "name": "stderr",
     "output_type": "stream",
     "text": [
      "100%|██████████| 4790/4790 [25:20<00:00,  3.15it/s]\n"
     ]
    },
    {
     "data": {
      "text/html": [
       "<div>\n",
       "<style scoped>\n",
       "    .dataframe tbody tr th:only-of-type {\n",
       "        vertical-align: middle;\n",
       "    }\n",
       "\n",
       "    .dataframe tbody tr th {\n",
       "        vertical-align: top;\n",
       "    }\n",
       "\n",
       "    .dataframe thead th {\n",
       "        text-align: right;\n",
       "    }\n",
       "</style>\n",
       "<table border=\"1\" class=\"dataframe\">\n",
       "  <thead>\n",
       "    <tr style=\"text-align: right;\">\n",
       "      <th></th>\n",
       "      <th>Header</th>\n",
       "      <th>Author</th>\n",
       "      <th>Date</th>\n",
       "      <th>Text</th>\n",
       "    </tr>\n",
       "  </thead>\n",
       "  <tbody>\n",
       "    <tr>\n",
       "      <th>0</th>\n",
       "      <td>Singapore sting: How spies listened in on Germ...</td>\n",
       "      <td>Jessica Parker</td>\n",
       "      <td>11 hours ago</td>\n",
       "      <td>It's nearly midnight in Singapore. A senior of...</td>\n",
       "    </tr>\n",
       "    <tr>\n",
       "      <th>1</th>\n",
       "      <td>Portugal elections: AndrÃ© Ventura, ex-footbal...</td>\n",
       "      <td>Alison Roberts</td>\n",
       "      <td>12 hours ago</td>\n",
       "      <td>Friday marks the last day of campaigning for P...</td>\n",
       "    </tr>\n",
       "    <tr>\n",
       "      <th>2</th>\n",
       "      <td>Ireland Referendum: Polls open on family and c...</td>\n",
       "      <td>No author found</td>\n",
       "      <td>4 hours ago</td>\n",
       "      <td>Polls have opened in two referendums on changi...</td>\n",
       "    </tr>\n",
       "    <tr>\n",
       "      <th>3</th>\n",
       "      <td>Production of Duvel beer hit by cyber-attack</td>\n",
       "      <td>Imran Rahman-Jones</td>\n",
       "      <td>1 hour ago</td>\n",
       "      <td>Production at four breweries owned by Belgian ...</td>\n",
       "    </tr>\n",
       "    <tr>\n",
       "      <th>4</th>\n",
       "      <td>Sweden formally joins Nato military alliance</td>\n",
       "      <td>Laura Gozzi</td>\n",
       "      <td>18 hours ago</td>\n",
       "      <td>Sweden has officially become the 32nd member o...</td>\n",
       "    </tr>\n",
       "    <tr>\n",
       "      <th>5</th>\n",
       "      <td>Ukraine war: Eastern residents brace for Russi...</td>\n",
       "      <td>James Waterhouse</td>\n",
       "      <td>1 day ago</td>\n",
       "      <td>In eastern Ukraine, the tide of this war hasn'...</td>\n",
       "    </tr>\n",
       "    <tr>\n",
       "      <th>6</th>\n",
       "      <td>Valerii Zaluzhnyi: Ukraine to appoint ex-army ...</td>\n",
       "      <td>James Waterhouse, Ukraine correspondent &amp; Joha...</td>\n",
       "      <td>15 hours ago</td>\n",
       "      <td>The former head of Ukraine's armed forces is t...</td>\n",
       "    </tr>\n",
       "    <tr>\n",
       "      <th>7</th>\n",
       "      <td>Millions affected by German air and rail strikes</td>\n",
       "      <td>Lipika Pelham</td>\n",
       "      <td>21 hours ago</td>\n",
       "      <td>Millions of travellers in Germany are facing s...</td>\n",
       "    </tr>\n",
       "    <tr>\n",
       "      <th>8</th>\n",
       "      <td>France MPs back compensating victims of anti-g...</td>\n",
       "      <td>No author found</td>\n",
       "      <td>21 hours ago</td>\n",
       "      <td>France's lower house has passed a bill which w...</td>\n",
       "    </tr>\n",
       "    <tr>\n",
       "      <th>9</th>\n",
       "      <td>Pornhub challenges EU over online content rules</td>\n",
       "      <td>Shiona McCallum &amp; Chris Vallance</td>\n",
       "      <td>23 hours ago</td>\n",
       "      <td>One of the world's most popular pornography we...</td>\n",
       "    </tr>\n",
       "    <tr>\n",
       "      <th>10</th>\n",
       "      <td>No headline found</td>\n",
       "      <td>No author found</td>\n",
       "      <td>17 hours ago</td>\n",
       "      <td>Former Wimbledon champion Simona Halep will re...</td>\n",
       "    </tr>\n",
       "    <tr>\n",
       "      <th>11</th>\n",
       "      <td>Brighton &amp; Hove Albion fans stabbed before Eur...</td>\n",
       "      <td>Daniel Sexton, Jacob Panons &amp; PA Media</td>\n",
       "      <td>21 hours ago</td>\n",
       "      <td>Two Brighton &amp; Hove Albion fans have been stab...</td>\n",
       "    </tr>\n",
       "    <tr>\n",
       "      <th>12</th>\n",
       "      <td>Robot ships: Huge remote controlled vessels ar...</td>\n",
       "      <td>Jonathan Amos, Rebecca Morelle and Alison Francis</td>\n",
       "      <td>1 day ago</td>\n",
       "      <td>It sounds like science fiction. Ocean-going sh...</td>\n",
       "    </tr>\n",
       "    <tr>\n",
       "      <th>13</th>\n",
       "      <td>Serbia bird deaths: Suspected poisonings threa...</td>\n",
       "      <td>Guy De Launey</td>\n",
       "      <td>2 days ago</td>\n",
       "      <td>Bird watchers call Kikinda, in northeast Serbi...</td>\n",
       "    </tr>\n",
       "    <tr>\n",
       "      <th>14</th>\n",
       "      <td>Ukraine war: Kharkiv Opera and Ballet to reope...</td>\n",
       "      <td>Sarah Rainsford</td>\n",
       "      <td>3 days ago</td>\n",
       "      <td>If you want to go to a concert in Kharkiv thes...</td>\n",
       "    </tr>\n",
       "    <tr>\n",
       "      <th>15</th>\n",
       "      <td>Poison seller tied to suicide forum tracked do...</td>\n",
       "      <td>Angus Crawford and Tony Smith</td>\n",
       "      <td>7 days ago</td>\n",
       "      <td>A Ukrainian man selling a poison thought to be...</td>\n",
       "    </tr>\n",
       "    <tr>\n",
       "      <th>16</th>\n",
       "      <td>Why Macron hopes abortion rights are a politic...</td>\n",
       "      <td>Hugh Schofield</td>\n",
       "      <td>5 days ago</td>\n",
       "      <td>France is preparing to become the first countr...</td>\n",
       "    </tr>\n",
       "    <tr>\n",
       "      <th>17</th>\n",
       "      <td>Maritime corridor to Gaza to begin at weekend ...</td>\n",
       "      <td>Tom Spender</td>\n",
       "      <td>5 minutes ago</td>\n",
       "      <td>A maritime aid corridor to Gaza could begin op...</td>\n",
       "    </tr>\n",
       "    <tr>\n",
       "      <th>18</th>\n",
       "      <td>Production of Duvel beer hit by cyber-attack</td>\n",
       "      <td>Imran Rahman-Jones</td>\n",
       "      <td>1 hour ago</td>\n",
       "      <td>Production at four breweries owned by Belgian ...</td>\n",
       "    </tr>\n",
       "    <tr>\n",
       "      <th>19</th>\n",
       "      <td>Ireland Referendum: Polls open on family and c...</td>\n",
       "      <td>No author found</td>\n",
       "      <td>4 hours ago</td>\n",
       "      <td>Polls have opened in two referendums on changi...</td>\n",
       "    </tr>\n",
       "    <tr>\n",
       "      <th>20</th>\n",
       "      <td>'I've not seen my husband for two years but I ...</td>\n",
       "      <td>Graham Fraser</td>\n",
       "      <td>7 March 2024</td>\n",
       "      <td>Oksana sits in her Aberdeen flat, thinking abo...</td>\n",
       "    </tr>\n",
       "    <tr>\n",
       "      <th>21</th>\n",
       "      <td>Singapore sting: How spies listened in on Germ...</td>\n",
       "      <td>Jessica Parker</td>\n",
       "      <td>11 hours ago</td>\n",
       "      <td>It's nearly midnight in Singapore. A senior of...</td>\n",
       "    </tr>\n",
       "    <tr>\n",
       "      <th>22</th>\n",
       "      <td>Portugal elections: AndrÃ© Ventura, ex-footbal...</td>\n",
       "      <td>Alison Roberts</td>\n",
       "      <td>12 hours ago</td>\n",
       "      <td>Friday marks the last day of campaigning for P...</td>\n",
       "    </tr>\n",
       "    <tr>\n",
       "      <th>23</th>\n",
       "      <td>Valerii Zaluzhnyi: Ukraine to appoint ex-army ...</td>\n",
       "      <td>James Waterhouse, Ukraine correspondent &amp; Joha...</td>\n",
       "      <td>15 hours ago</td>\n",
       "      <td>The former head of Ukraine's armed forces is t...</td>\n",
       "    </tr>\n",
       "    <tr>\n",
       "      <th>24</th>\n",
       "      <td>Eurovision 2024: Israel allowed to compete aft...</td>\n",
       "      <td>Mark Savage &amp; Sofia Ferreira Santos</td>\n",
       "      <td>18 hours ago</td>\n",
       "      <td>Israel will be allowed to compete at the Eurov...</td>\n",
       "    </tr>\n",
       "    <tr>\n",
       "      <th>25</th>\n",
       "      <td>Sweden formally joins Nato military alliance</td>\n",
       "      <td>Laura Gozzi</td>\n",
       "      <td>18 hours ago</td>\n",
       "      <td>Sweden has officially become the 32nd member o...</td>\n",
       "    </tr>\n",
       "    <tr>\n",
       "      <th>26</th>\n",
       "      <td>US lawmakers quiz Musk's Starlink over Russia ...</td>\n",
       "      <td>Mike Wendling</td>\n",
       "      <td>19 hours ago</td>\n",
       "      <td>House Democrats are demanding answers from Elo...</td>\n",
       "    </tr>\n",
       "    <tr>\n",
       "      <th>27</th>\n",
       "      <td>Millions affected by German air and rail strikes</td>\n",
       "      <td>Lipika Pelham</td>\n",
       "      <td>21 hours ago</td>\n",
       "      <td>Millions of travellers in Germany are facing s...</td>\n",
       "    </tr>\n",
       "    <tr>\n",
       "      <th>28</th>\n",
       "      <td>Irish president returns home after hospital stay</td>\n",
       "      <td>No author found</td>\n",
       "      <td>7 March 2024</td>\n",
       "      <td>President of Ireland Michael D Higgins has ret...</td>\n",
       "    </tr>\n",
       "    <tr>\n",
       "      <th>29</th>\n",
       "      <td>France MPs back compensating victims of anti-g...</td>\n",
       "      <td>No author found</td>\n",
       "      <td>21 hours ago</td>\n",
       "      <td>France's lower house has passed a bill which w...</td>\n",
       "    </tr>\n",
       "    <tr>\n",
       "      <th>30</th>\n",
       "      <td>Pornhub challenges EU over online content rules</td>\n",
       "      <td>Shiona McCallum &amp; Chris Vallance</td>\n",
       "      <td>23 hours ago</td>\n",
       "      <td>One of the world's most popular pornography we...</td>\n",
       "    </tr>\n",
       "    <tr>\n",
       "      <th>31</th>\n",
       "      <td>Brighton &amp; Hove Albion: Seagulls fans vie for ...</td>\n",
       "      <td>Daniel Sexton</td>\n",
       "      <td>23 hours ago</td>\n",
       "      <td>Brighton &amp; Hove Albion fans are gathering in R...</td>\n",
       "    </tr>\n",
       "    <tr>\n",
       "      <th>32</th>\n",
       "      <td>Irish referendum: Confusion and debate ahead o...</td>\n",
       "      <td>Aoife Moore &amp; Eimear Flanagan</td>\n",
       "      <td>1 day ago</td>\n",
       "      <td>People in the Republic of Ireland will vote th...</td>\n",
       "    </tr>\n",
       "    <tr>\n",
       "      <th>33</th>\n",
       "      <td>Ukraine war: Eastern residents brace for Russi...</td>\n",
       "      <td>James Waterhouse</td>\n",
       "      <td>1 day ago</td>\n",
       "      <td>In eastern Ukraine, the tide of this war hasn'...</td>\n",
       "    </tr>\n",
       "    <tr>\n",
       "      <th>34</th>\n",
       "      <td>Doritos cuts ties with transgender influencer ...</td>\n",
       "      <td>Mike Wendling</td>\n",
       "      <td>1 day ago</td>\n",
       "      <td>The company that makes Doritos cut ties with a...</td>\n",
       "    </tr>\n",
       "    <tr>\n",
       "      <th>35</th>\n",
       "      <td>Push back introduction of new EU border system...</td>\n",
       "      <td>Amy Walker</td>\n",
       "      <td>1 day ago</td>\n",
       "      <td>The introduction of a new EU border IT system ...</td>\n",
       "    </tr>\n",
       "    <tr>\n",
       "      <th>36</th>\n",
       "      <td>More than 13m cigarettes seized at Dublin Port</td>\n",
       "      <td>No author found</td>\n",
       "      <td>6 March 2024</td>\n",
       "      <td>Revenue officers have seized 13.3 million smug...</td>\n",
       "    </tr>\n",
       "    <tr>\n",
       "      <th>37</th>\n",
       "      <td>Ukraine war: Explosions hit Odesa as Zelensky ...</td>\n",
       "      <td>George Wright</td>\n",
       "      <td>1 day ago</td>\n",
       "      <td>Deadly explosions have rocked Ukraine's southe...</td>\n",
       "    </tr>\n",
       "    <tr>\n",
       "      <th>38</th>\n",
       "      <td>Tunnels linking Channel Islands to France are ...</td>\n",
       "      <td>Lisa Young</td>\n",
       "      <td>2 days ago</td>\n",
       "      <td>Undersea tunnels linking the Channel Islands t...</td>\n",
       "    </tr>\n",
       "    <tr>\n",
       "      <th>39</th>\n",
       "      <td>Alexei Navalny: Widow urges Russians to protes...</td>\n",
       "      <td>Laura Gozzi</td>\n",
       "      <td>2 days ago</td>\n",
       "      <td>Yulia Navalnaya, the widow of Russian oppositi...</td>\n",
       "    </tr>\n",
       "    <tr>\n",
       "      <th>40</th>\n",
       "      <td>Paris Olympics: Row over 'woke' map as Paris g...</td>\n",
       "      <td>Michael Sheils McNamee</td>\n",
       "      <td>2 days ago</td>\n",
       "      <td>The designer of the official poster for this s...</td>\n",
       "    </tr>\n",
       "    <tr>\n",
       "      <th>41</th>\n",
       "      <td>Russia-Ukraine war: Moscow ignores arrest warr...</td>\n",
       "      <td>No author found</td>\n",
       "      <td>2 days ago</td>\n",
       "      <td>Russia has said it does not recognise arrest w...</td>\n",
       "    </tr>\n",
       "    <tr>\n",
       "      <th>42</th>\n",
       "      <td>'No need to apologise' for leaked call - Germa...</td>\n",
       "      <td>Ido Vock</td>\n",
       "      <td>2 days ago</td>\n",
       "      <td>The German ambassador to the UK has said there...</td>\n",
       "    </tr>\n",
       "    <tr>\n",
       "      <th>43</th>\n",
       "      <td>Tank Museum helps defence firm recreate tank t...</td>\n",
       "      <td>No author found</td>\n",
       "      <td>2 days ago</td>\n",
       "      <td>A military museum has revealed it was called u...</td>\n",
       "    </tr>\n",
       "    <tr>\n",
       "      <th>44</th>\n",
       "      <td>Abba display marks 50 years since Eurovision win</td>\n",
       "      <td>Stuart Maisner</td>\n",
       "      <td>6 March 2024</td>\n",
       "      <td>An exhibition celebrating 50 years of Abba is ...</td>\n",
       "    </tr>\n",
       "    <tr>\n",
       "      <th>45</th>\n",
       "      <td>Ukrainian woman gives Welsh pub new lease of life</td>\n",
       "      <td>Andrew Arthur</td>\n",
       "      <td>5 March 2024</td>\n",
       "      <td>A woman who fled war-torn Ukraine hopes that r...</td>\n",
       "    </tr>\n",
       "    <tr>\n",
       "      <th>46</th>\n",
       "      <td>Ukraine war: Kyiv says seven dead as drone att...</td>\n",
       "      <td>Thomas Mackintosh</td>\n",
       "      <td>2 days ago</td>\n",
       "      <td>Ukrainian intelligence says seven people have ...</td>\n",
       "    </tr>\n",
       "    <tr>\n",
       "      <th>47</th>\n",
       "      <td>Serbia bird deaths: Suspected poisonings threa...</td>\n",
       "      <td>Guy De Launey</td>\n",
       "      <td>2 days ago</td>\n",
       "      <td>Bird watchers call Kikinda, in northeast Serbi...</td>\n",
       "    </tr>\n",
       "    <tr>\n",
       "      <th>48</th>\n",
       "      <td>ICC issues arrest warrants for top Russian com...</td>\n",
       "      <td>George Wright</td>\n",
       "      <td>2 days ago</td>\n",
       "      <td>The International Criminal Court (ICC) has iss...</td>\n",
       "    </tr>\n",
       "    <tr>\n",
       "      <th>49</th>\n",
       "      <td>Terence O'Rourke appointed as RTÃ chair</td>\n",
       "      <td>No author found</td>\n",
       "      <td>5 March 2024</td>\n",
       "      <td>Terence O'Rourke has been appointed as the new...</td>\n",
       "    </tr>\n",
       "  </tbody>\n",
       "</table>\n",
       "</div>"
      ],
      "text/plain": [
       "                                               Header  \\\n",
       "0   Singapore sting: How spies listened in on Germ...   \n",
       "1   Portugal elections: AndrÃ© Ventura, ex-footbal...   \n",
       "2   Ireland Referendum: Polls open on family and c...   \n",
       "3        Production of Duvel beer hit by cyber-attack   \n",
       "4        Sweden formally joins Nato military alliance   \n",
       "5   Ukraine war: Eastern residents brace for Russi...   \n",
       "6   Valerii Zaluzhnyi: Ukraine to appoint ex-army ...   \n",
       "7    Millions affected by German air and rail strikes   \n",
       "8   France MPs back compensating victims of anti-g...   \n",
       "9     Pornhub challenges EU over online content rules   \n",
       "10                                  No headline found   \n",
       "11  Brighton & Hove Albion fans stabbed before Eur...   \n",
       "12  Robot ships: Huge remote controlled vessels ar...   \n",
       "13  Serbia bird deaths: Suspected poisonings threa...   \n",
       "14  Ukraine war: Kharkiv Opera and Ballet to reope...   \n",
       "15  Poison seller tied to suicide forum tracked do...   \n",
       "16  Why Macron hopes abortion rights are a politic...   \n",
       "17  Maritime corridor to Gaza to begin at weekend ...   \n",
       "18       Production of Duvel beer hit by cyber-attack   \n",
       "19  Ireland Referendum: Polls open on family and c...   \n",
       "20  'I've not seen my husband for two years but I ...   \n",
       "21  Singapore sting: How spies listened in on Germ...   \n",
       "22  Portugal elections: AndrÃ© Ventura, ex-footbal...   \n",
       "23  Valerii Zaluzhnyi: Ukraine to appoint ex-army ...   \n",
       "24  Eurovision 2024: Israel allowed to compete aft...   \n",
       "25       Sweden formally joins Nato military alliance   \n",
       "26  US lawmakers quiz Musk's Starlink over Russia ...   \n",
       "27   Millions affected by German air and rail strikes   \n",
       "28   Irish president returns home after hospital stay   \n",
       "29  France MPs back compensating victims of anti-g...   \n",
       "30    Pornhub challenges EU over online content rules   \n",
       "31  Brighton & Hove Albion: Seagulls fans vie for ...   \n",
       "32  Irish referendum: Confusion and debate ahead o...   \n",
       "33  Ukraine war: Eastern residents brace for Russi...   \n",
       "34  Doritos cuts ties with transgender influencer ...   \n",
       "35  Push back introduction of new EU border system...   \n",
       "36     More than 13m cigarettes seized at Dublin Port   \n",
       "37  Ukraine war: Explosions hit Odesa as Zelensky ...   \n",
       "38  Tunnels linking Channel Islands to France are ...   \n",
       "39  Alexei Navalny: Widow urges Russians to protes...   \n",
       "40  Paris Olympics: Row over 'woke' map as Paris g...   \n",
       "41  Russia-Ukraine war: Moscow ignores arrest warr...   \n",
       "42  'No need to apologise' for leaked call - Germa...   \n",
       "43  Tank Museum helps defence firm recreate tank t...   \n",
       "44   Abba display marks 50 years since Eurovision win   \n",
       "45  Ukrainian woman gives Welsh pub new lease of life   \n",
       "46  Ukraine war: Kyiv says seven dead as drone att...   \n",
       "47  Serbia bird deaths: Suspected poisonings threa...   \n",
       "48  ICC issues arrest warrants for top Russian com...   \n",
       "49          Terence O'Rourke appointed as RTÃ chair    \n",
       "\n",
       "                                               Author           Date  \\\n",
       "0                                      Jessica Parker   11 hours ago   \n",
       "1                                      Alison Roberts   12 hours ago   \n",
       "2                                     No author found    4 hours ago   \n",
       "3                                  Imran Rahman-Jones     1 hour ago   \n",
       "4                                         Laura Gozzi   18 hours ago   \n",
       "5                                    James Waterhouse      1 day ago   \n",
       "6   James Waterhouse, Ukraine correspondent & Joha...   15 hours ago   \n",
       "7                                       Lipika Pelham   21 hours ago   \n",
       "8                                     No author found   21 hours ago   \n",
       "9                    Shiona McCallum & Chris Vallance   23 hours ago   \n",
       "10                                    No author found   17 hours ago   \n",
       "11             Daniel Sexton, Jacob Panons & PA Media   21 hours ago   \n",
       "12  Jonathan Amos, Rebecca Morelle and Alison Francis      1 day ago   \n",
       "13                                      Guy De Launey     2 days ago   \n",
       "14                                    Sarah Rainsford     3 days ago   \n",
       "15                      Angus Crawford and Tony Smith     7 days ago   \n",
       "16                                     Hugh Schofield     5 days ago   \n",
       "17                                        Tom Spender  5 minutes ago   \n",
       "18                                 Imran Rahman-Jones     1 hour ago   \n",
       "19                                    No author found    4 hours ago   \n",
       "20                                      Graham Fraser   7 March 2024   \n",
       "21                                     Jessica Parker   11 hours ago   \n",
       "22                                     Alison Roberts   12 hours ago   \n",
       "23  James Waterhouse, Ukraine correspondent & Joha...   15 hours ago   \n",
       "24                Mark Savage & Sofia Ferreira Santos   18 hours ago   \n",
       "25                                        Laura Gozzi   18 hours ago   \n",
       "26                                     Mike Wendling    19 hours ago   \n",
       "27                                      Lipika Pelham   21 hours ago   \n",
       "28                                    No author found   7 March 2024   \n",
       "29                                    No author found   21 hours ago   \n",
       "30                   Shiona McCallum & Chris Vallance   23 hours ago   \n",
       "31                                      Daniel Sexton   23 hours ago   \n",
       "32                      Aoife Moore & Eimear Flanagan      1 day ago   \n",
       "33                                   James Waterhouse      1 day ago   \n",
       "34                                     Mike Wendling       1 day ago   \n",
       "35                                         Amy Walker      1 day ago   \n",
       "36                                    No author found   6 March 2024   \n",
       "37                                      George Wright      1 day ago   \n",
       "38                                         Lisa Young     2 days ago   \n",
       "39                                        Laura Gozzi     2 days ago   \n",
       "40                             Michael Sheils McNamee     2 days ago   \n",
       "41                                    No author found     2 days ago   \n",
       "42                                           Ido Vock     2 days ago   \n",
       "43                                    No author found     2 days ago   \n",
       "44                                     Stuart Maisner   6 March 2024   \n",
       "45                                      Andrew Arthur   5 March 2024   \n",
       "46                                  Thomas Mackintosh     2 days ago   \n",
       "47                                      Guy De Launey     2 days ago   \n",
       "48                                      George Wright     2 days ago   \n",
       "49                                    No author found   5 March 2024   \n",
       "\n",
       "                                                 Text  \n",
       "0   It's nearly midnight in Singapore. A senior of...  \n",
       "1   Friday marks the last day of campaigning for P...  \n",
       "2   Polls have opened in two referendums on changi...  \n",
       "3   Production at four breweries owned by Belgian ...  \n",
       "4   Sweden has officially become the 32nd member o...  \n",
       "5   In eastern Ukraine, the tide of this war hasn'...  \n",
       "6   The former head of Ukraine's armed forces is t...  \n",
       "7   Millions of travellers in Germany are facing s...  \n",
       "8   France's lower house has passed a bill which w...  \n",
       "9   One of the world's most popular pornography we...  \n",
       "10  Former Wimbledon champion Simona Halep will re...  \n",
       "11  Two Brighton & Hove Albion fans have been stab...  \n",
       "12  It sounds like science fiction. Ocean-going sh...  \n",
       "13  Bird watchers call Kikinda, in northeast Serbi...  \n",
       "14  If you want to go to a concert in Kharkiv thes...  \n",
       "15  A Ukrainian man selling a poison thought to be...  \n",
       "16  France is preparing to become the first countr...  \n",
       "17  A maritime aid corridor to Gaza could begin op...  \n",
       "18  Production at four breweries owned by Belgian ...  \n",
       "19  Polls have opened in two referendums on changi...  \n",
       "20  Oksana sits in her Aberdeen flat, thinking abo...  \n",
       "21  It's nearly midnight in Singapore. A senior of...  \n",
       "22  Friday marks the last day of campaigning for P...  \n",
       "23  The former head of Ukraine's armed forces is t...  \n",
       "24  Israel will be allowed to compete at the Eurov...  \n",
       "25  Sweden has officially become the 32nd member o...  \n",
       "26  House Democrats are demanding answers from Elo...  \n",
       "27  Millions of travellers in Germany are facing s...  \n",
       "28  President of Ireland Michael D Higgins has ret...  \n",
       "29  France's lower house has passed a bill which w...  \n",
       "30  One of the world's most popular pornography we...  \n",
       "31  Brighton & Hove Albion fans are gathering in R...  \n",
       "32  People in the Republic of Ireland will vote th...  \n",
       "33  In eastern Ukraine, the tide of this war hasn'...  \n",
       "34  The company that makes Doritos cut ties with a...  \n",
       "35  The introduction of a new EU border IT system ...  \n",
       "36  Revenue officers have seized 13.3 million smug...  \n",
       "37  Deadly explosions have rocked Ukraine's southe...  \n",
       "38  Undersea tunnels linking the Channel Islands t...  \n",
       "39  Yulia Navalnaya, the widow of Russian oppositi...  \n",
       "40  The designer of the official poster for this s...  \n",
       "41  Russia has said it does not recognise arrest w...  \n",
       "42  The German ambassador to the UK has said there...  \n",
       "43  A military museum has revealed it was called u...  \n",
       "44  An exhibition celebrating 50 years of Abba is ...  \n",
       "45  A woman who fled war-torn Ukraine hopes that r...  \n",
       "46  Ukrainian intelligence says seven people have ...  \n",
       "47  Bird watchers call Kikinda, in northeast Serbi...  \n",
       "48  The International Criminal Court (ICC) has iss...  \n",
       "49  Terence O'Rourke has been appointed as the new...  "
      ]
     },
     "execution_count": 30,
     "metadata": {},
     "output_type": "execute_result"
    }
   ],
   "source": [
    "# This block of code scrapes all the essentials for every article in the specified regions \n",
    "# of the bbc website, and organizes them nicely in a pandas dataframe\n",
    "import time\n",
    "scraped_articles = []\n",
    "\n",
    "for link in tqdm(article_links[:]):\n",
    "    try:\n",
    "        article_data = scrape_essentials(link)\n",
    "        scraped_articles.append(article_data)\n",
    "        time.sleep(0.1)\n",
    "    except Exception as e:\n",
    "        print(f\"Error scraping {link}: {e}\")\n",
    "\n",
    "scraped_df = pd.DataFrame(scraped_articles)\n",
    "scraped_df[:50]"
   ]
  },
  {
   "cell_type": "markdown",
   "metadata": {},
   "source": [
    "### (4) - Data storage"
   ]
  },
  {
   "cell_type": "code",
   "execution_count": 31,
   "metadata": {},
   "outputs": [],
   "source": [
    "# This block of code saves the essentials of all the scraped articles of the given regions\n",
    "# nicely in a .csv file\n",
    "scraped_df.to_csv('scraped_articles_data.csv', index=False)"
   ]
  },
  {
   "cell_type": "markdown",
   "metadata": {},
   "source": [
    "### (5) - Discussion"
   ]
  },
  {
   "cell_type": "markdown",
   "metadata": {},
   "source": [
    "Arguments for:\n",
    "\n",
    "Adding the new data might add more diversity to the dataset, covering a wider variety of article types.\n",
    "Also the new data which consist of more present articles, might make the model more applicable to current scenarios.\n",
    "And if the dataset were to be heavily imbalanced toward the fake side, adding a lot of reliable articles could help mitigate the imbalance issues.\n",
    "\n",
    "Arguments against:\n",
    "\n",
    "The quality of the newly scraped data, and the quality of the older scraped data might differ in quality and consistency causing problems when training the model.\n",
    "Also the labeling of the newly scraped articles, are probably not labeled the same way as the former scraped articles.\n",
    "\n",
    "Conclusion:\n",
    "\n",
    "As of right now I would not include the newly scraped data into the dataset, unless it were to even out the distribution of fake and reliable data, and to avoid problems such as bias and over- /underfitting."
   ]
  }
 ],
 "metadata": {
  "kernelspec": {
   "display_name": "base",
   "language": "python",
   "name": "python3"
  },
  "language_info": {
   "codemirror_mode": {
    "name": "ipython",
    "version": 3
   },
   "file_extension": ".py",
   "mimetype": "text/x-python",
   "name": "python",
   "nbconvert_exporter": "python",
   "pygments_lexer": "ipython3",
   "version": "3.11.5"
  }
 },
 "nbformat": 4,
 "nbformat_minor": 2
}

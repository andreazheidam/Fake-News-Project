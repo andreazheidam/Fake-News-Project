{
 "cells": [
  {
   "cell_type": "code",
   "execution_count": 9,
   "metadata": {},
   "outputs": [
    {
     "name": "stdout",
     "output_type": "stream",
     "text": [
      "Number of domains with under 100 articles: 18\n"
     ]
    }
   ],
   "source": [
    "import pandas as pd\n",
    "\n",
    "df = pd.read_csv(\"995K_subset.csv\", dtype={0: str, 1: str})\n",
    "\n",
    "domain_counts = df['domain'].value_counts()\n",
    "\n",
    "domains_under_100 = domain_counts[domain_counts < 2]\n",
    "\n",
    "num_domains_under_100 = len(domains_under_100)\n",
    "\n",
    "print(\"Number of domains with under 100 articles:\", num_domains_under_100)"
   ]
  },
  {
   "cell_type": "code",
   "execution_count": 10,
   "metadata": {},
   "outputs": [
    {
     "name": "stdout",
     "output_type": "stream",
     "text": [
      "Domain: thestatelyharold.com, Number of articles: 1\n",
      "Domain: channel18news.com, Number of articles: 1\n",
      "Domain: speld.nl, Number of articles: 1\n",
      "Domain: geopolmonitor.com, Number of articles: 1\n",
      "Domain: ushealthylife.com, Number of articles: 1\n",
      "Domain: yesimright.com, Number of articles: 1\n",
      "Domain: bighairynews.com, Number of articles: 1\n",
      "Domain: proamericanews.com, Number of articles: 1\n",
      "Domain: goneleft.com, Number of articles: 1\n",
      "Domain: flashnewscorner.com, Number of articles: 1\n",
      "Domain: usafirstinformation.com, Number of articles: 1\n",
      "Domain: firearmscoalition.org, Number of articles: 1\n",
      "Domain: elelephantintheroom.blogspot.com, Number of articles: 1\n",
      "Domain: news4ktla.com, Number of articles: 1\n",
      "Domain: dailypoliticsusa.com, Number of articles: 1\n",
      "Domain: uspoln.com, Number of articles: 1\n",
      "Domain: dailynews10.com, Number of articles: 1\n",
      "Domain: newsmagazine.com, Number of articles: 1\n"
     ]
    }
   ],
   "source": [
    "# Print the number of articles for each domain with under 100 articles\n",
    "for domain, count in domains_under_100.items():\n",
    "    print(f\"Domain: {domain}, Number of articles: {count}\")"
   ]
  }
 ],
 "metadata": {
  "kernelspec": {
   "display_name": "base",
   "language": "python",
   "name": "python3"
  },
  "language_info": {
   "codemirror_mode": {
    "name": "ipython",
    "version": 3
   },
   "file_extension": ".py",
   "mimetype": "text/x-python",
   "name": "python",
   "nbconvert_exporter": "python",
   "pygments_lexer": "ipython3",
   "version": "3.11.5"
  }
 },
 "nbformat": 4,
 "nbformat_minor": 2
}

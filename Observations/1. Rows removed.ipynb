{
 "cells": [
  {
   "cell_type": "code",
   "execution_count": 3,
   "metadata": {},
   "outputs": [],
   "source": [
    "import pandas as pd\n",
    "\n",
    "df = pd.read_csv(\"995K_subset.csv\", dtype={0: str, 1: str})"
   ]
  },
  {
   "cell_type": "code",
   "execution_count": 4,
   "metadata": {},
   "outputs": [
    {
     "name": "stdout",
     "output_type": "stream",
     "text": [
      "Row size before removing columns: 995000\n",
      "Row size after removing columns: 995000\n",
      "Number of rows removed: 0\n"
     ]
    }
   ],
   "source": [
    "row_size_before = len(df)\n",
    "\n",
    "columns_to_remove = ['id', 'url', 'scraped_at', 'inserted_at', 'updated_at', 'keywords', 'tags', 'summary', 'source']\n",
    "df = df.drop(columns=columns_to_remove)\n",
    "\n",
    "row_size_after = len(df)\n",
    "\n",
    "rows_removed = row_size_before - row_size_after\n",
    "\n",
    "print(\"Row size before removing columns:\", row_size_before)\n",
    "print(\"Row size after removing columns:\", row_size_after)\n",
    "print(\"Number of rows removed:\", rows_removed)\n"
   ]
  }
 ],
 "metadata": {
  "kernelspec": {
   "display_name": "base",
   "language": "python",
   "name": "python3"
  },
  "language_info": {
   "codemirror_mode": {
    "name": "ipython",
    "version": 3
   },
   "file_extension": ".py",
   "mimetype": "text/x-python",
   "name": "python",
   "nbconvert_exporter": "python",
   "pygments_lexer": "ipython3",
   "version": "3.1.undefined"
  }
 },
 "nbformat": 4,
 "nbformat_minor": 2
}

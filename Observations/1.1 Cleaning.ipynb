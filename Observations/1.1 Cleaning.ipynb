{
 "cells": [
  {
   "cell_type": "markdown",
   "metadata": {},
   "source": [
    "# Part 1: Data Processing"
   ]
  },
  {
   "cell_type": "code",
   "execution_count": 17,
   "metadata": {},
   "outputs": [],
   "source": [
    "import pandas as pd\n",
    "\n",
    "raw_data_fake_news = pd.read_csv(\"data.csv\", low_memory=False)"
   ]
  },
  {
   "cell_type": "code",
   "execution_count": 24,
   "metadata": {},
   "outputs": [],
   "source": [
    "from nltk.stem import PorterStemmer\n",
    "from nltk.corpus import stopwords\n",
    "from tabulate import tabulate\n",
    "\n",
    "#compile stopwords and initialize stemmer\n",
    "stop_words = set(stopwords.words('english'))\n",
    "stemmer = PorterStemmer()\n",
    "\n",
    "def remove_stopwords(text: str):\n",
    "    \"\"\"remove stopwords from string\"\"\"\n",
    "    return ' '.join([word for word in text.split() if word not in stop_words])\n",
    "\n",
    "def stemming_data(text: str):\n",
    "    \"\"\"returns stemmed data where stopwords are removed from string\"\"\"\n",
    "    return ' '.join([stemmer.stem(word) for word in text.split() if word not in stop_words])\n",
    "\n",
    "def word_stemming_stopwords(df: pd.DataFrame):\n",
    "    \"\"\"print reduction rate of vocabulary of tokenized data\"\"\"\n",
    "    avg_unique_words = df.str.split().apply(set).apply(len).mean()\n",
    "\n",
    "    df = df.apply(stemming_data) #stemming\n",
    "    avg_stemmed_words = df.str.split().apply(set).apply(len).mean()\n",
    "    \n",
    "    df = df.apply(remove_stopwords) #removing stopwords\n",
    "    avg_stopwords_removed = df.str.split().apply(set).apply(len).mean()\n",
    "    \n",
    "    #printing reduction rate table\n",
    "    print(tabulate([\n",
    "        [\"Stemming\", 100 * (avg_unique_words - avg_stemmed_words) / avg_unique_words],\n",
    "        [\"Removing Stopwords\", 100 * (avg_unique_words - avg_stopwords_removed) / avg_unique_words]\n",
    "    ], headers=[\"Data Cleaning Type\", \"Reduction Rate of Vocabulary (%)\"], tablefmt='orgtbl'))\n",
    "    \n",
    "    print(avg_unique_words, avg_stemmed_words)\n",
    "\n",
    "\n",
    "    return df\n",
    "\n",
    "fake_news_labels = [\"fake\", \"satire\", \"bias\", \"conspiracy\", \"junksci\"]\n",
    "reliable_news_labelse = [\"reliable\", \"political\", \"clickbait\"]\n",
    "\n",
    "def categorize_article_type(article_type):\n",
    "    if article_type in fake_news_labels:\n",
    "        return \"Fake News\"\n",
    "    elif article_type in reliable_news_labelse:\n",
    "        return \"Reliable News\"\n",
    "    else:\n",
    "        return None"
   ]
  },
  {
   "cell_type": "markdown",
   "metadata": {},
   "source": [
    "Cleaning and doing vocabulary analasis"
   ]
  },
  {
   "cell_type": "code",
   "execution_count": 19,
   "metadata": {},
   "outputs": [],
   "source": [
    "#keeping only the relevant collumns\n",
    "data_fake_news = raw_data_fake_news.copy()[\n",
    "    ['domain', 'type', 'content', 'title', 'authors', 'meta_description', 'meta_keywords']].head(10000)"
   ]
  },
  {
   "cell_type": "code",
   "execution_count": null,
   "metadata": {},
   "outputs": [],
   "source": [
    "set(len(data_fake_news['content'].apply(remove_stopwords)))"
   ]
  },
  {
   "cell_type": "code",
   "execution_count": 21,
   "metadata": {},
   "outputs": [
    {
     "name": "stdout",
     "output_type": "stream",
     "text": [
      "| Data Cleaning Type   |   Reduction Rate of Vocabulary (%) |\n",
      "|----------------------+------------------------------------|\n",
      "| Stemming             |                            24.2647 |\n",
      "| Removing Stopwords   |                            24.5852 |\n",
      "236.01 178.7428\n"
     ]
    }
   ],
   "source": [
    "#stemming and removing stopwords, while calculating the reduction in vocabulary\n",
    "data_fake_news['content'] = word_stemming_stopwords(data_fake_news['content'])"
   ]
  }
 ],
 "metadata": {
  "kernelspec": {
   "display_name": "base",
   "language": "python",
   "name": "python3"
  },
  "language_info": {
   "codemirror_mode": {
    "name": "ipython",
    "version": 3
   },
   "file_extension": ".py",
   "mimetype": "text/x-python",
   "name": "python",
   "nbconvert_exporter": "python",
   "pygments_lexer": "ipython3",
   "version": "3.11.5"
  }
 },
 "nbformat": 4,
 "nbformat_minor": 2
}

{
 "cells": [
  {
   "cell_type": "code",
   "execution_count": 6,
   "metadata": {},
   "outputs": [],
   "source": [
    "import pandas as pd\n",
    "\n",
    "df = pd.read_csv(\"995K_subset.csv\", dtype={0: str, 1: str})"
   ]
  },
  {
   "cell_type": "code",
   "execution_count": 7,
   "metadata": {},
   "outputs": [],
   "source": [
    "label_to_category = {\n",
    "    \"fake\": \"fake\",\n",
    "    \"satire\": \"fake\",\n",
    "    \"bias\": \"fake\",\n",
    "    \"conspiracy\": \"fake\",\n",
    "    \"junksci\": \"fake\",\n",
    "    \"reliable\": \"reliable\",\n",
    "    \"political\": \"reliable\",\n",
    "    \"clickbait\": \"reliable\",\n",
    "}\n",
    "\n",
    "df['category'] = df['type'].apply(lambda x: label_to_category.get(x, 'omitted'))"
   ]
  },
  {
   "cell_type": "code",
   "execution_count": 8,
   "metadata": {},
   "outputs": [
    {
     "name": "stdout",
     "output_type": "stream",
     "text": [
      "Percentage of articles with missing author in the 'fake' category: 55.51%\n"
     ]
    }
   ],
   "source": [
    "# FAKE\n",
    "\n",
    "fake_articles = df[df['category'] == 'fake']\n",
    "\n",
    "missing_author_count_fake = fake_articles['authors'].isnull().sum()\n",
    "\n",
    "total_fake_articles = len(fake_articles)\n",
    "\n",
    "percentage_missing_author = (missing_author_count_fake / total_fake_articles) * 100\n",
    "\n",
    "print(f\"Percentage of articles with missing author in the 'fake' category: {percentage_missing_author:.2f}%\")\n"
   ]
  },
  {
   "cell_type": "code",
   "execution_count": 9,
   "metadata": {},
   "outputs": [
    {
     "name": "stdout",
     "output_type": "stream",
     "text": [
      "Percentage of articles with missing author in the 'reliable' category: 36.79%\n"
     ]
    }
   ],
   "source": [
    "# RELIABLE\n",
    "\n",
    "reliable_articles = df[df['category'] == 'reliable']\n",
    "\n",
    "missing_author_count_reliable = reliable_articles['authors'].isnull().sum()\n",
    "\n",
    "total_reliable_articles = len(reliable_articles)\n",
    "\n",
    "percentage_missing_author = (missing_author_count_reliable / total_reliable_articles) * 100\n",
    "\n",
    "print(f\"Percentage of articles with missing author in the 'reliable' category: {percentage_missing_author:.2f}%\")\n"
   ]
  },
  {
   "cell_type": "code",
   "execution_count": 10,
   "metadata": {},
   "outputs": [
    {
     "name": "stdout",
     "output_type": "stream",
     "text": [
      "Percentage of articles with missing authors in 'reliable' category: 44.60%\n",
      "Percentage of articles with missing authors in 'fake' category: 55.40%\n"
     ]
    }
   ],
   "source": [
    "# COMPARED\n",
    "\n",
    "filtered_df = df[df['category'].isin(['fake', 'reliable'])]\n",
    "\n",
    "total_missing_author_articles = filtered_df[filtered_df['authors'].isnull()].shape[0]\n",
    "\n",
    "\n",
    "percentage_missing_author_reliable = (missing_author_count_reliable / total_missing_author_articles) * 100\n",
    "percentage_missing_author_fake = (missing_author_count_fake / total_missing_author_articles) * 100\n",
    "\n",
    "print(f\"Percentage of articles with missing authors in 'reliable' category: {percentage_missing_author_reliable:.2f}%\")\n",
    "print(f\"Percentage of articles with missing authors in 'fake' category: {percentage_missing_author_fake:.2f}%\")"
   ]
  }
 ],
 "metadata": {
  "kernelspec": {
   "display_name": "base",
   "language": "python",
   "name": "python3"
  },
  "language_info": {
   "codemirror_mode": {
    "name": "ipython",
    "version": 3
   },
   "file_extension": ".py",
   "mimetype": "text/x-python",
   "name": "python",
   "nbconvert_exporter": "python",
   "pygments_lexer": "ipython3",
   "version": "3.11.5"
  }
 },
 "nbformat": 4,
 "nbformat_minor": 2
}

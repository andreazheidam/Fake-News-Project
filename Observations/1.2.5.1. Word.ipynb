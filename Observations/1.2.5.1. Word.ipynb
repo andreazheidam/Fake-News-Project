{
 "cells": [
  {
   "cell_type": "code",
   "execution_count": null,
   "metadata": {},
   "outputs": [],
   "source": [
    "# Top 25 words in 'FAKE' category\n",
    "fake_top_words = {\n",
    "    '<num>': 2142672,\n",
    "    'us': 423457,\n",
    "    'one': 358241,\n",
    "    'peopl': 319152,\n",
    "    'state': 309070,\n",
    "    'would': 303268,\n",
    "    'time': 280896,\n",
    "    'said': 280706,\n",
    "    'like': 269195,\n",
    "    'use': 266656,\n",
    "    'year': 263259,\n",
    "    'new': 251750,\n",
    "    'also': 234716,\n",
    "    'govern': 220176,\n",
    "    'report': 210403,\n",
    "    'news': 205964,\n",
    "    'make': 200934,\n",
    "    'even': 187342,\n",
    "    'get': 187148,\n",
    "    'world': 186338,\n",
    "    'say': 185957,\n",
    "    'american': 184791,\n",
    "    'go': 183441,\n",
    "    'в': 175739,\n",
    "    'mani': 173447\n",
    "}\n",
    "\n",
    "# Top 25 words in 'RELIABLE' category\n",
    "reliable_top_words = {\n",
    "    '<num>': 3827965,\n",
    "    'said': 914641,\n",
    "    'new': 635722,\n",
    "    'one': 570394,\n",
    "    'mr': 511429,\n",
    "    'year': 499307,\n",
    "    'would': 482915,\n",
    "    'time': 476356,\n",
    "    'state': 461218,\n",
    "    'peopl': 442272,\n",
    "    'like': 426900,\n",
    "    'us': 334821,\n",
    "    'also': 312208,\n",
    "    'say': 309892,\n",
    "    'stori': 305975,\n",
    "    'continu': 305126,\n",
    "    'even': 294473,\n",
    "    'make': 292766,\n",
    "    'get': 290893,\n",
    "    'iran': 290488,\n",
    "    'read': 289289,\n",
    "    'trump': 288845,\n",
    "    'go': 285836,\n",
    "    'work': 285307,\n",
    "    'york': 285057\n",
    "}\n",
    "\n",
    "common_words = set(fake_top_words.keys()).intersection(reliable_top_words.keys())\n",
    "\n",
    "print(\"Common words with their occurrences in each category:\")\n",
    "for word in common_words:\n",
    "    print(f\"{word}: Fake: {fake_top_words[word]}, Reliable: {reliable_top_words[word]}\")"
   ]
  },
  {
   "cell_type": "code",
   "execution_count": null,
   "metadata": {},
   "outputs": [],
   "source": [
    "ranked_words_value = sorted(common_words, key=lambda x: fake_top_words[x] + reliable_top_words[x], reverse=True)\n",
    "\n",
    "print(\"Ranked common words based on value:\")\n",
    "for idx, word in enumerate(ranked_words_value, start=1):\n",
    "    print(f\"{idx}: {word}: Value: {fake_top_words[word] + reliable_top_words[word]}\")"
   ]
  },
  {
   "cell_type": "code",
   "execution_count": null,
   "metadata": {},
   "outputs": [],
   "source": [
    "min_common_values = {word: min(fake_top_words[word], reliable_top_words[word]) for word in common_words}\n",
    "\n",
    "ranked_words_min = sorted(common_words, key=lambda x: min_common_values[x])\n",
    "\n",
    "print(\"Ranked common words based on minimum value:\")\n",
    "for idx, word in enumerate(ranked_words_min, start=1):\n",
    "    print(f\"{idx}: {word}: Min Value: {min_common_values[word]}\")\n"
   ]
  },
  {
   "cell_type": "code",
   "execution_count": null,
   "metadata": {},
   "outputs": [],
   "source": [
    "max_common_values = {word: max(fake_top_words[word], reliable_top_words[word]) for word in common_words}\n",
    "\n",
    "max_min_diff = {word: max_common_values[word] - min_common_values[word] for word in common_words}\n",
    "\n",
    "ranked_words_max_min = sorted(common_words, key=lambda x: max_min_diff[x], reverse=True)\n",
    "\n",
    "print(\"Ranked common words based on max-min difference:\")\n",
    "for idx, word in enumerate(ranked_words_max_min, start=1):\n",
    "    print(f\"{idx}: {word}: Max-Min Difference: {max_min_diff[word]}\")"
   ]
  }
 ],
 "metadata": {
  "language_info": {
   "name": "python"
  }
 },
 "nbformat": 4,
 "nbformat_minor": 2
}

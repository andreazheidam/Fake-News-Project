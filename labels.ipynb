{
 "cells": [
  {
   "cell_type": "code",
   "execution_count": 6,
   "metadata": {},
   "outputs": [
    {
     "name": "stdout",
     "output_type": "stream",
     "text": [
      "              type     label\n",
      "0        political  reliable\n",
      "1             fake      fake\n",
      "2           satire      fake\n",
      "3         reliable  reliable\n",
      "4       conspiracy      fake\n",
      "...            ...       ...\n",
      "994995  conspiracy      fake\n",
      "994996   political  reliable\n",
      "994997     unknown   unknown\n",
      "994998       rumor   unknown\n",
      "994999        bias      fake\n",
      "\n",
      "[995000 rows x 2 columns]\n",
      "Label Counts:\n",
      "label\n",
      "reliable    440494\n",
      "fake        362629\n",
      "unknown     147766\n",
      "omitted      44111\n",
      "Name: count, dtype: int64\n"
     ]
    }
   ],
   "source": [
    "import pandas as pd\n",
    "\n",
    "df = pd.read_csv('995K_subset.csv', low_memory=False)\n",
    "\n",
    "fake_news_labels = [\"fake\", \"satire\", \"bias\", \"conspiracy\", \"junksci\"]\n",
    "reliable_news_labels = [\"reliable\", \"political\", \"clickbait\"]\n",
    "omitted_news_labels = [\"unreliable\", \"state\", \"hate\"]\n",
    "\n",
    "df['label'] = 'unknown'\n",
    "\n",
    "df.loc[df['type'].isin(fake_news_labels), 'label'] = 'fake'\n",
    "df.loc[df['type'].isin(reliable_news_labels), 'label'] = 'reliable'\n",
    "df.loc[df['type'].isin(omitted_news_labels), 'label'] = 'omitted'\n",
    "\n",
    "print(df[['type', 'label']])\n",
    "\n",
    "label_counts = df['label'].value_counts()\n",
    "\n",
    "print(\"Label Counts:\")\n",
    "print(label_counts)"
   ]
  },
  {
   "cell_type": "code",
   "execution_count": 7,
   "metadata": {},
   "outputs": [
    {
     "name": "stdout",
     "output_type": "stream",
     "text": [
      "Label Distribution:\n",
      "label\n",
      "reliable    44.270754\n",
      "fake        36.445126\n",
      "unknown     14.850854\n",
      "omitted      4.433266\n",
      "Name: count, dtype: float64\n"
     ]
    }
   ],
   "source": [
    "total_articles = label_counts.sum()\n",
    "distribution = (label_counts / total_articles) * 100\n",
    "\n",
    "print(\"Label Distribution:\")\n",
    "print(distribution)"
   ]
  }
 ],
 "metadata": {
  "kernelspec": {
   "display_name": "base",
   "language": "python",
   "name": "python3"
  },
  "language_info": {
   "codemirror_mode": {
    "name": "ipython",
    "version": 3
   },
   "file_extension": ".py",
   "mimetype": "text/x-python",
   "name": "python",
   "nbconvert_exporter": "python",
   "pygments_lexer": "ipython3",
   "version": "3.11.5"
  }
 },
 "nbformat": 4,
 "nbformat_minor": 2
}
